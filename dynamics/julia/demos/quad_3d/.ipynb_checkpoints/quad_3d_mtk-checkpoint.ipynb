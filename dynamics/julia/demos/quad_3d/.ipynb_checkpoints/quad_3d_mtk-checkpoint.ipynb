{
 "cells": [
  {
   "cell_type": "code",
   "execution_count": 10,
   "id": "77d2604d",
   "metadata": {
    "scrolled": true
   },
   "outputs": [
    {
     "name": "stderr",
     "output_type": "stream",
     "text": [
      "\u001b[32m\u001b[1m  Activating\u001b[22m\u001b[39m project at `~/Documents/eth_courses/notebooks/dynamics/julia/demos/quad_3d`\n"
     ]
    }
   ],
   "source": [
    "import Pkg; Pkg.activate(@__DIR__); Pkg.instantiate();"
   ]
  },
  {
   "cell_type": "code",
   "execution_count": 776,
   "id": "34f143a8",
   "metadata": {
    "scrolled": true
   },
   "outputs": [],
   "source": [
    "using ModelingToolkit\n",
    "using OrdinaryDiffEq, DiffEqCallbacks\n",
    "using LinearAlgebra\n",
    "using StaticArrays\n",
    "using Rotations\n",
    "\n",
    "using GLMakie\n",
    "using BenchmarkTools\n",
    "GLMakie.activate!(inline=true)"
   ]
  },
  {
   "cell_type": "code",
   "execution_count": 777,
   "id": "5f5eb86c-df37-4370-92b0-78f329f8387f",
   "metadata": {},
   "outputs": [
    {
     "data": {
      "text/plain": [
       "plot_position_attitude (generic function with 1 method)"
      ]
     },
     "execution_count": 777,
     "metadata": {},
     "output_type": "execute_result"
    }
   ],
   "source": [
    "function plot_position_attitude(sol::ODESolution)\n",
    "    fig = Figure(resolution = (1000, 700))\n",
    "    \n",
    "    ax1 = Axis(fig[1, 1], title=\"x Position\")\n",
    "    ax2 = Axis(fig[1, 2], title=\"y Position\")\n",
    "    ax3 = Axis(fig[1, 3], title=\"z Position\")\n",
    "    \n",
    "    # ax2 = Axis(fig[1, 2], title=\"Velocity\")\n",
    "    \n",
    "    ax4 = Axis(fig[2, 1], title=\"Attitude (quaternion)\")\n",
    "    ax5 = Axis(fig[2, 2], title=\"Angular velocity\")\n",
    "    \n",
    "    lines!(ax1, sol.t, sol[plant.r[1]])\n",
    "    lines!(ax2, sol.t, sol[plant.r[2]])\n",
    "    lines!(ax3, sol.t, sol[plant.r[3]])\n",
    "\n",
    "    # lines!(ax2, sol.t, sol[plant.ṙ[1]])\n",
    "    # lines!(ax2, sol.t, sol[plant.ṙ[2]])\n",
    "    # lines!(ax2, sol.t, sol[plant.ṙ[3]])\n",
    "    \n",
    "    lines!(ax4, sol.t, sol[plant.q[1]])\n",
    "    lines!(ax4, sol.t, sol[plant.q[2]])\n",
    "    lines!(ax4, sol.t, sol[plant.q[3]])\n",
    "    lines!(ax4, sol.t, sol[plant.q[4]])\n",
    "\n",
    "    lines!(ax5, sol.t, sol[plant.ω[1]])\n",
    "    lines!(ax5, sol.t, sol[plant.ω[2]])\n",
    "    lines!(ax5, sol.t, sol[plant.ω[3]])\n",
    "    \n",
    "    display(fig)\n",
    "end"
   ]
  },
  {
   "cell_type": "markdown",
   "id": "42d88d54",
   "metadata": {},
   "source": [
    "## Full attitude dynamics "
   ]
  },
  {
   "cell_type": "code",
   "execution_count": 778,
   "id": "05cc3970-7f65-4289-a91f-6cc1b025451c",
   "metadata": {},
   "outputs": [
    {
     "data": {
      "text/plain": [
       "quaternion_integrator (generic function with 1 method)"
      ]
     },
     "execution_count": 778,
     "metadata": {},
     "output_type": "execute_result"
    }
   ],
   "source": [
    "function quaternion_integrator(q0, ω, dt)\n",
    "    q_exp = exp( QuatRotation(0, ω[1]*dt/2, ω[2]*dt/2, ω[3]*dt/2, false).q);\n",
    "    q_exp_q = QuatRotation(q_exp.s, q_exp.v1, q_exp.v2, q_exp.v3, false)\n",
    "    \n",
    "    q1 = q_exp_q * q0;\n",
    "\n",
    "    return q1\n",
    "end"
   ]
  },
  {
   "cell_type": "code",
   "execution_count": 888,
   "id": "639982cb",
   "metadata": {},
   "outputs": [
    {
     "data": {
      "text/plain": [
       "RigidBody (generic function with 1 method)"
      ]
     },
     "execution_count": 888,
     "metadata": {},
     "output_type": "execute_result"
    }
   ],
   "source": [
    "function RigidBody(;name, m, I_xx,I_yy,I_zz)\n",
    "\n",
    "    # translation\n",
    "    @variables t (r(t))[1:3]=0 (ṙ(t))[1:3]=0 \n",
    "    \n",
    "    # rotation\n",
    "    @variables (q(t))[1:4]=0 (ω(t))[1:3]=0 \n",
    "    \n",
    "    # external force, torque\n",
    "    @variables (f(t))[1:3]=0 (τ(t))[1:3] \n",
    "    \n",
    "    @parameters m=m I_xx=I_xx I_yy=I_yy I_zz=I_yy\n",
    "    \n",
    "    D = Differential(t)\n",
    "    \n",
    "    translational_kinematics = D.(r) .~ ṙ\n",
    "    \n",
    "    translational_dynamics = D.(ṙ) .~ f / m\n",
    "    \n",
    "    rotation_kinematics = D.(q) .~ 0  # implemented in callback\n",
    "    \n",
    "    rotation_dynamics = [\n",
    "        D.(ω[1]) .~ (τ[1] - (I_yy-I_zz )*ω[2]*ω[3]) / I_xx ,\n",
    "        D.(ω[2]) .~ (τ[2] - (I_xx-I_zz )*ω[1]*ω[3]) / I_yy ,\n",
    "        D.(ω[3]) .~ (τ[3] - (I_yy-I_xx )*ω[1]*ω[2]) / I_zz ,\n",
    "        ]\n",
    "    \n",
    "    # eqns = vcat(translational_kinematics,translational_dynamics, rotation_kinematics, rotation_dynamics, external_force ,external_torque)\n",
    "    eqns = vcat(translational_kinematics,translational_dynamics, rotation_kinematics, rotation_dynamics)\n",
    "    \n",
    "    ODESystem(eqns, t; name)\n",
    "    \n",
    "    # sys = structural_simplify(model);\n",
    "\n",
    "end"
   ]
  },
  {
   "cell_type": "code",
   "execution_count": 886,
   "id": "b5026140-ee9a-43ca-a9b2-c83b7bb454b1",
   "metadata": {},
   "outputs": [
    {
     "data": {
      "text/plain": [
       "body_thrust_to_motor_thrust (generic function with 1 method)"
      ]
     },
     "execution_count": 886,
     "metadata": {},
     "output_type": "execute_result"
    }
   ],
   "source": [
    "motor_thrust_to_body_thrust(l,k_τ) = [1 1 1 1; \n",
    "                            0 l 0 -l;\n",
    "                            -l 0 l 0;\n",
    "                            k_τ -k_τ k_τ -k_τ]\n",
    "\n",
    "body_thrust_to_motor_thrust(l,k_τ) = inv(motor_thrust_to_body_thrust(l,k_τ))"
   ]
  },
  {
   "cell_type": "code",
   "execution_count": 895,
   "id": "6a7c30bc-dcd2-467e-8632-458c2aee4e33",
   "metadata": {},
   "outputs": [
    {
     "data": {
      "text/plain": [
       "Quadcopter (generic function with 1 method)"
      ]
     },
     "execution_count": 895,
     "metadata": {},
     "output_type": "execute_result"
    }
   ],
   "source": [
    "function Quadcopter(;name,l, k_τ, m, I_xx,I_yy,I_zz)\n",
    "\n",
    "    # translation\n",
    "    @variables t (r(t))[1:3]=0 (ṙ(t))[1:3]=0 \n",
    "    \n",
    "    # rotation\n",
    "    @variables (q(t))[1:4]=0 (ω(t))[1:3]=0 \n",
    " \n",
    "    # motor thrusts\n",
    "    @variables t (f(t))[1:4]=0 \n",
    "\n",
    "    params = @parameters l=l k_τ=k_τ g=9.81\n",
    "    \n",
    "    @named rb = RigidBody(;name=:rb, m=m ,I_xx=I_xx, I_yy=I_yy, I_zz=I_yy);\n",
    "\n",
    "    # forces\n",
    "    f_x = 0\n",
    "    f_y = 0\n",
    "    f_z = f[1] + f[2] + f[3] + f[4]\n",
    "\n",
    "    # moments\n",
    "    τ_x = l*(f[2] - f[4])\n",
    "    τ_y = l*(f[3] - f[1])\n",
    "    τ_z = k_τ*(f[1] - f[2] + f[3] - f[2])\n",
    "\n",
    "    # transform from body to intertial frame\n",
    "    R_IB = QuatRotation(q[1], q[2], q[3], q[4], false)\n",
    "    f_net = R_IB * [f_x; f_y; f_z] - [0;0; g] \n",
    "    \n",
    "    thrust_eqn = rb.f .~ f_net\n",
    "    torque_eqn  = rb.τ .~ [τ_x; τ_y; τ_z]\n",
    "\n",
    "\n",
    "    # set the quadcopter pose to equal the rigidbody pose\n",
    "    eqn3 = r .~ rb.r\n",
    "    eqn4 = ṙ .~ rb.ṙ\n",
    "    eqn5 = q .~ rb.q\n",
    "    eqn6 = ω .~ rb.ω\n",
    "    \n",
    "    eqns = vcat(thrust_eqn, torque_eqn, eqn3,eqn4,eqn5,eqn6)\n",
    "    \n",
    "    # connect the subsystems\n",
    "    ODESystem(eqns, t, systems=[rb]; name)\n",
    "        \n",
    "end"
   ]
  },
  {
   "cell_type": "markdown",
   "id": "a8818f08-4d7a-494b-9890-8ab813d2dc23",
   "metadata": {},
   "source": [
    "## Controller"
   ]
  },
  {
   "cell_type": "markdown",
   "id": "b53c2c13-d73d-46ab-bc37-1b52810e827a",
   "metadata": {},
   "source": [
    "### Zero order hold for digital controller"
   ]
  },
  {
   "cell_type": "code",
   "execution_count": 896,
   "id": "eb225ed8-85cc-4f96-8416-ab94fd35863c",
   "metadata": {},
   "outputs": [
    {
     "data": {
      "text/plain": [
       "Controller_Zero_Order_Hold (generic function with 1 method)"
      ]
     },
     "execution_count": 896,
     "metadata": {},
     "output_type": "execute_result"
    }
   ],
   "source": [
    "# force control input to be constant over sampling time, actual control law applied inside callback\n",
    "function Controller_Zero_Order_Hold(;name)\n",
    "    sts = @variables t U(t)[1:4]=0 (R(t))[1:3]=0\n",
    "\n",
    "    # define operators\n",
    "    D = Differential(t)\n",
    "\n",
    "    eqn1 = D.(U) .~ 0 \n",
    "    eqn2 = D.(R) .~ 0 \n",
    "\n",
    "    eqns = vcat(eqn1, eqn2)\n",
    "    \n",
    "    ODESystem(eqns, t; name)\n",
    "end"
   ]
  },
  {
   "cell_type": "markdown",
   "id": "7c230def-7c2f-43f8-ba63-725d2d04a267",
   "metadata": {},
   "source": [
    "### Callback (for quaternion integration)"
   ]
  },
  {
   "cell_type": "code",
   "execution_count": 1006,
   "id": "8db6eb59-b382-4375-9ac0-ba3127f63cd5",
   "metadata": {},
   "outputs": [],
   "source": [
    "include(\"pid.jl\")\n",
    "\n",
    "callback_params = (;allocation_matrix=body_thrust_to_motor_thrust(0.7,0.0035),\n",
    "    reference_generator=reference_generator)\n",
    "\n",
    "function digital_controller(int; params = callback_params)\n",
    "\n",
    "    # extract the state\n",
    "    r =  @view int.u[1:3]\n",
    "    ṙ =  @view int.u[4:6]\n",
    "    q0_vec = @view int.u[7:10]\n",
    "    ω = @view int.u[11:13]\n",
    "\n",
    "    dt = 0.01\n",
    "    m = 1.0\n",
    "    g = 9.81\n",
    "\n",
    "    # quaternion integration ------------------------------------------------\n",
    "    q0 = QuatRotation(q0_vec, false);\n",
    "    q1 = quaternion_integrator(q0, ω, dt)\n",
    "\n",
    "    # set attitude\n",
    "    int.u[7:10] = [q1.q.s, q1.q.v1, q1.q.v2, q1.q.v3]\n",
    "\n",
    "    # controller ------------------------------------------------\n",
    "\n",
    "    allocation_matrix = params.allocation_matrix\n",
    "\n",
    "    # get reference \n",
    "    R = reference_generator(int.t)\n",
    "\n",
    "    e_x = R[1] - r[1]\n",
    "    e_y = R[2] - r[2]\n",
    "    e_z = R[3] - r[3]\n",
    "\n",
    "    # control laws \n",
    "\n",
    "    # x position controller\n",
    "    q_ref = pid_controller(x_pos_pid; e=e_x, umin=-0.5, umax=0.5 ) / g\n",
    "    \n",
    "    # y position controller\n",
    "    p_ref = -pid_controller(y_pos_pid; e=e_y, umin=-0.5, umax=0.5 ) / g\n",
    "\n",
    "    # z position controller\n",
    "    f_net = m*(g + pid_controller(z_pos_pid; e=e_z, umin=-100, umax=100 ))\n",
    "\n",
    "     # attitude controller\n",
    "\n",
    "    # convert quaternion attitude representation to euler angles \n",
    "    r,q,p = Rotations.params(RotZYX(q1))\n",
    "    \n",
    "    e_p = p_ref - p\n",
    "    e_q = q_ref - q\n",
    "    \n",
    "    τ_x = pid_controller(roll_pid; e=e_p, umin=-25, umax=25 )\n",
    "    τ_y = pid_controller(pitch_pid; e=e_q, umin=-25, umax=25 )\n",
    "    τ_z = 0\n",
    "\n",
    "    # f_net = 9.81\n",
    "    # τ_x, τ_y= 0,0\n",
    "\n",
    "    motor_thrusts = allocation_matrix * [f_net; τ_x; τ_y; τ_z]\n",
    "\n",
    "    # set the control input\n",
    "    c_index = 14\n",
    "    int.u[c_index:c_index+3] .= motor_thrusts\n",
    "\n",
    "    R_IB = q1\n",
    "    f_net_I = R_IB*[0;0;f_net]\n",
    "\n",
    "    # @show R_IB.q\n",
    "    # @show f_net_I\n",
    "\n",
    "    # @show e_x,e_y,e_z \n",
    "    # # @show p, q\n",
    "    # # @show p_ref, q_ref\n",
    "    # @show e_p,e_q\n",
    "    # @show  τ_x, τ_y\n",
    "    # @show motor_thrusts \n",
    "    # println(\"\")    \n",
    "end \n",
    "\n",
    "control_callback = PeriodicCallback(digital_controller, 0.01, initial_affect=true);"
   ]
  },
  {
   "cell_type": "markdown",
   "id": "50ecd1b2-c3d4-4a2f-b76f-5c49e165fa61",
   "metadata": {},
   "source": [
    "## Reference generator"
   ]
  },
  {
   "cell_type": "code",
   "execution_count": 1007,
   "id": "d22d5eb9-5aed-4be6-9f77-2e7f839c00d7",
   "metadata": {},
   "outputs": [
    {
     "data": {
      "text/plain": [
       "reference_generator (generic function with 1 method)"
      ]
     },
     "execution_count": 1007,
     "metadata": {},
     "output_type": "execute_result"
    }
   ],
   "source": [
    "function reference_generator(t)\n",
    "\n",
    "    r = 0.5    # circle radius \n",
    "    ω = 0.2    # angular velocity\n",
    "\n",
    "    z_0 = 1\n",
    "\n",
    "    # circular trajectory \n",
    "    x_ref = r*sin(ω*t)\n",
    "    y_ref = r*sin(ω*t)\n",
    "    z_ref = 1.0\n",
    "\n",
    "    # x_ref = 1\n",
    "    # y_ref = 2.\n",
    "    # z_ref = 1.0\n",
    "    \n",
    "    return [x_ref, y_ref, z_ref]\n",
    "end"
   ]
  },
  {
   "cell_type": "markdown",
   "id": "d56290f9-124c-4aa5-a8ed-4b6fe65fe1ee",
   "metadata": {},
   "source": [
    "## System building"
   ]
  },
  {
   "cell_type": "code",
   "execution_count": 1004,
   "id": "ce6aa443-b976-410f-bf13-770a1f07dc47",
   "metadata": {},
   "outputs": [
    {
     "name": "stdout",
     "output_type": "stream",
     "text": [
      "eval(f_net) = Num[2((q(t))[1]*(q(t))[3] + (q(t))[2]*(q(t))[4])*((f(t))[1] + (f(t))[2] + (f(t))[3] + (f(t))[4]), 2((q(t))[3]*(q(t))[4] - (q(t))[1]*(q(t))[2])*((f(t))[1] + (f(t))[2] + (f(t))[3] + (f(t))[4]), ((q(t))[1]^2 + (q(t))[4]^2 - ((q(t))[2]^2) - ((q(t))[3]^2))*((f(t))[1] + (f(t))[2] + (f(t))[3] + (f(t))[4]) - g]\n"
     ]
    }
   ],
   "source": [
    "\n",
    "@named plant = Quadcopter(;name=:quad1, l=0.7, k_τ=0.0035, m=1.0, I_xx=0.003, I_yy=0.003, I_zz=0.02);\n",
    "@named controller = Controller_Zero_Order_Hold()\n",
    "\n",
    "# motor thrusts\n",
    "eqn1 = controller.U .~ plant.f\n",
    "\n",
    "eqns = vcat(eqn1)\n",
    "\n",
    "# connect the subsystems\n",
    "@named model = ODESystem(eqns,\n",
    "    systems=[plant, controller])\n",
    "\n",
    "sys = structural_simplify(model);\n"
   ]
  },
  {
   "cell_type": "code",
   "execution_count": null,
   "id": "f011a5be",
   "metadata": {},
   "outputs": [],
   "source": [
    "# sim\n",
    "tspan = (0.0, 60.0)\n",
    "\n",
    "# controllers\n",
    "x_pos_pid =  PID(;kp=3.5, ki=0.00, kd=7, k_aw=0.0, Ts=0.01)\n",
    "y_pos_pid =  PID(;kp=3.5, ki=0.00, kd=7, k_aw=0.0, Ts=0.01)\n",
    "z_pos_pid =  PID(;kp=1.7, ki=0.1, kd=2.0, k_aw=0.0, Ts=0.01)\n",
    "\n",
    "roll_pid =  PID(;kp=0.05, ki=0.00, kd=0.07, k_aw=0.0, Ts=0.01)\n",
    "pitch_pid =  PID(;kp=0.05, ki=0.00, kd=0.07, k_aw=0.0, Ts=0.01)\n",
    "\n",
    "control_callback = PeriodicCallback(digital_controller, 0.01, initial_affect=true);\n",
    "\n",
    "# initial conditions\n",
    "r₀ = [0.,0.,0.]\n",
    "ṙ₀ = [0.,0.,0.]\n",
    "\n",
    "q₀ = QuatRotation(RotZYX(0.0, 0.0, 0.0)) # (yaw, pitch, roll)\n",
    "ω₀ = [0.0,0.0,0.]\n",
    "\n",
    "# initial conditions\n",
    "X₀ = [collect(plant.rb.r.=> r₀);\n",
    "    collect(plant.rb.ṙ.=> ṙ₀);\n",
    "    collect(plant.rb.q.=> [q₀.q.s, q₀.q.v1, q₀.q.v2, q₀.q.v3]);\n",
    "    collect(plant.rb.ω.=> ω₀)]\n",
    "\n",
    "prob = ODEProblem(sys, X₀, tspan, callback=control_callback) \n",
    "@time sol = solve(prob, Tsit5(), abstol=1e-8, reltol=1e-8 , save_everystep = false);\n",
    "\n",
    "plot_position_attitude(sol)"
   ]
  },
  {
   "cell_type": "code",
   "execution_count": 960,
   "id": "a68c5bde-c0f5-47f0-abcb-22fdd17aea8a",
   "metadata": {},
   "outputs": [
    {
     "data": {
      "text/plain": [
       "Quaternions.QuaternionF64(0.9689124217106447, 0.0, 0.2474039592545229, 0.0)"
      ]
     },
     "execution_count": 960,
     "metadata": {},
     "output_type": "execute_result"
    }
   ],
   "source": [
    "let\n",
    "\n",
    "f_net = 9.81\n",
    "R_IB = QuatRotation(RotZYX(0.0, 0.5, 0))\n",
    "    \n",
    "R_IB*[0;0;f_net]\n",
    "R_IB.q\n",
    "end"
   ]
  },
  {
   "cell_type": "code",
   "execution_count": null,
   "id": "80a1e8d1-6f2b-42db-9640-87c73ad11076",
   "metadata": {},
   "outputs": [],
   "source": []
  }
 ],
 "metadata": {
  "kernelspec": {
   "display_name": "control_precompiled 1.9.1",
   "language": "julia",
   "name": "control_precompiled-1.9"
  },
  "language_info": {
   "file_extension": ".jl",
   "mimetype": "application/julia",
   "name": "julia",
   "version": "1.9.1"
  }
 },
 "nbformat": 4,
 "nbformat_minor": 5
}
