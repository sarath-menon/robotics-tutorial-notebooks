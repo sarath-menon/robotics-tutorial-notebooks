{
 "cells": [
  {
   "cell_type": "code",
   "execution_count": 1,
   "id": "2363f8a3-8053-476c-85cb-17adb9bc8334",
   "metadata": {},
   "outputs": [
    {
     "name": "stderr",
     "output_type": "stream",
     "text": [
      "\u001b[32m\u001b[1m  Activating\u001b[22m\u001b[39m project at `~/Documents/eth_courses/notebooks/control/attitude`\n"
     ]
    }
   ],
   "source": [
    "import Pkg; Pkg.activate(@__DIR__)"
   ]
  },
  {
   "cell_type": "code",
   "execution_count": 738,
   "id": "c6abe609-82b0-49d2-99df-681e92067dba",
   "metadata": {},
   "outputs": [],
   "source": [
    "using Rotations\n",
    "using LinearAlgebra\n",
    "using GLMakie\n",
    "using ModelingToolkit\n",
    "\n",
    "GLMakie.activate!(inline=false)"
   ]
  },
  {
   "cell_type": "markdown",
   "id": "a7c2b07b-13fa-4c5d-b148-355fd1834ca5",
   "metadata": {},
   "source": [
    "## Derivation for Splitting quaternion error into reduced error and yaw error"
   ]
  },
  {
   "cell_type": "code",
   "execution_count": 791,
   "id": "6c570467-e9d5-425a-b1c5-46e37c3efab6",
   "metadata": {},
   "outputs": [
    {
     "name": "stdout",
     "output_type": "stream",
     "text": [
      "q_e_red.q = Quaternions.Quaternion{Num}(q0^2 + q3^2, q0*q1 - q2*q3, q0*q2 + q1*q3, 0)\n"
     ]
    }
   ],
   "source": [
    "let\n",
    "\n",
    "@variables q0, q1, q2, q3\n",
    "    \n",
    "q_e = QuatRotation(q0, q1, q2, q3, false)\n",
    "\n",
    "q_e_yaw = QuatRotation(q0, 0, 0, q3, false)\n",
    "\n",
    "q_e_red = q_e * inv(q_e_yaw)\n",
    "\n",
    "@show q_e_red.q\n",
    "    \n",
    "end;"
   ]
  },
  {
   "cell_type": "markdown",
   "id": "4aab3144-b9b3-448a-adc5-f6718776287c",
   "metadata": {},
   "source": [
    "## Brescianini function"
   ]
  },
  {
   "cell_type": "code",
   "execution_count": 762,
   "id": "be74cd38-5f3b-45b6-9926-f2e14ce72a6f",
   "metadata": {},
   "outputs": [
    {
     "data": {
      "text/plain": [
       "get_reduced_att_error (generic function with 1 method)"
      ]
     },
     "execution_count": 762,
     "metadata": {},
     "output_type": "execute_result"
    }
   ],
   "source": [
    "# reduced attitude error\n",
    "function get_reduced_att_error(q_e)\n",
    "\n",
    "    q0 = q_e.q.s\n",
    "    q1 = q_e.q.v1\n",
    "    q2 = q_e.q.v2\n",
    "    q3 = q_e.q.v3\n",
    "\n",
    "    denom = 1 / sqrt(q0^2 + q3^2)\n",
    "\n",
    "    # reduced attitude error\n",
    "    v1 = q0^2 + q3^2\n",
    "    v2 = q0*q1 - q2*q3\n",
    "    v3 = q0*q2 + q1*q3\n",
    "    v4 = 0\n",
    "    \n",
    "    q_e_reduced = denom * [v1; v2; v3; v4]\n",
    "\n",
    "    # yaw attitude error\n",
    "    v1 = q0\n",
    "    v2 = 0\n",
    "    v3 = 0\n",
    "    v4 = q3\n",
    "\n",
    "    q_e_yaw= denom * [v1; v2; v3; v4]\n",
    "    \n",
    "    return QuatRotation(q_e_reduced), QuatRotation(q_e_yaw)\n",
    "end"
   ]
  },
  {
   "cell_type": "code",
   "execution_count": 824,
   "id": "a63a6dcc-57fc-4ee6-af6b-e61c0a305f45",
   "metadata": {},
   "outputs": [
    {
     "name": "stdout",
     "output_type": "stream",
     "text": [
      "q_e_reduced_bres.q = Quaternions.QuaternionF64(0.8768461720163, 0.19891353885962396, 0.4376918946915765, 0.0)\n",
      "q_e_yaw_bres.q = Quaternions.QuaternionF64(0.9809166624997849, 0.0, 0.0, 0.19442865331602538)\n"
     ]
    },
    {
     "data": {
      "text/plain": [
       "Quaternions.QuaternionF64(0.9809166624997849, 0.0, 0.0, 0.19442865331602538)"
      ]
     },
     "execution_count": 824,
     "metadata": {},
     "output_type": "execute_result"
    }
   ],
   "source": [
    "# current attitude\n",
    "q = QuatRotation(RotZYX(roll=-0.2, pitch=-0.7, yaw=-0.2))\n",
    "\n",
    "# desired attitude\n",
    "q_d = QuatRotation(RotZYX(roll=0.3, pitch=0.1, yaw=0.2))\n",
    "\n",
    "# error quaternion\n",
    "# q_e =  q_d * inv(q)\n",
    "q_e =  inv(q)* q_d\n",
    "\n",
    "(q_e_reduced_bres, q_e_yaw_bres) =  get_reduced_att_error(q_e)\n",
    "\n",
    "@show q_e_reduced_bres.q\n",
    "@show q_e_yaw_bres.q"
   ]
  },
  {
   "cell_type": "markdown",
   "id": "8c14ac81-5d63-416d-9d9e-0869c535f5c2",
   "metadata": {},
   "source": [
    "## Verification"
   ]
  },
  {
   "cell_type": "code",
   "execution_count": 825,
   "id": "e7b8f198-132e-47d5-8419-cec0ea8adc91",
   "metadata": {},
   "outputs": [
    {
     "name": "stdout",
     "output_type": "stream",
     "text": [
      "q_e.q = Quaternions.QuaternionF64(0.8601130205799412, 0.28021745031642636, 0.390664781057267, 0.17048402039044114)\n",
      "res_bres.q = Quaternions.QuaternionF64(0.8601130205799413, 0.2802174503164264, 0.390664781057267, 0.17048402039044114)\n"
     ]
    },
    {
     "data": {
      "text/plain": [
       "Quaternions.QuaternionF64(0.8601130205799413, 0.2802174503164264, 0.390664781057267, 0.17048402039044114)"
      ]
     },
     "execution_count": 825,
     "metadata": {},
     "output_type": "execute_result"
    }
   ],
   "source": [
    "# res_bres =   q_e_yaw_bres * q_e_reduced_bres\n",
    "res_bres =   q_e_reduced_bres * q_e_yaw_bres \n",
    "\n",
    "@show q_e.q\n",
    "@show res_bres.q"
   ]
  },
  {
   "cell_type": "code",
   "execution_count": 794,
   "id": "cccff8bc-471e-4744-abb3-80ce9f7ee8af",
   "metadata": {},
   "outputs": [
    {
     "name": "stdout",
     "output_type": "stream",
     "text": [
      "res.q = Quaternions.QuaternionF64(0.9833474432563559, 0.14357217502739192, 0.06407134770607124, 0.09115754934299078)\n",
      "res_bres.q = Quaternions.QuaternionF64(0.9833474432563559, 0.14357217502739195, 0.06407134770607126, 0.0911575493429908)\n"
     ]
    },
    {
     "data": {
      "text/plain": [
       "Quaternions.QuaternionF64(0.9833474432563559, 0.14357217502739195, 0.06407134770607126, 0.0911575493429908)"
      ]
     },
     "execution_count": 794,
     "metadata": {},
     "output_type": "execute_result"
    }
   ],
   "source": [
    "res = q_e * q\n",
    "\n",
    "res_bres =   q_e_reduced_bres * q_e_yaw_bres * q\n",
    "\n",
    "@show res.q\n",
    "@show res_bres.q"
   ]
  },
  {
   "cell_type": "code",
   "execution_count": 795,
   "id": "eb6769f9-1d3c-49f4-bff7-421b12157848",
   "metadata": {},
   "outputs": [
    {
     "data": {
      "text/plain": [
       "3-element StaticArraysCore.SVector{3, Float64} with indices SOneTo(3):\n",
       " -0.2535415177195018\n",
       "  0.20476851597992113\n",
       " -0.004102977145876809"
      ]
     },
     "execution_count": 795,
     "metadata": {},
     "output_type": "execute_result"
    }
   ],
   "source": [
    "Rotations.params(RotZYX(q_e_reduced_mine * q))"
   ]
  },
  {
   "cell_type": "markdown",
   "id": "c008924e-fe23-4fcc-9e93-af42387fe124",
   "metadata": {},
   "source": [
    "# Plotting"
   ]
  },
  {
   "cell_type": "code",
   "execution_count": 796,
   "id": "8dc03cb5-f968-42d9-84ad-08ac5784c532",
   "metadata": {
    "scrolled": true
   },
   "outputs": [
    {
     "data": {
      "text/plain": [
       "plot_reset (generic function with 2 methods)"
      ]
     },
     "execution_count": 796,
     "metadata": {},
     "output_type": "execute_result"
    }
   ],
   "source": [
    "to_makie_quaternion(q::QuatRotation) =  Quaternion(q.q.v1, q.q.v2, q.q.v3, q.q.s)\n",
    "\n",
    "plot_reset(q_init) = GLMakie.rotate!(quad_model, to_makie_quaternion(q_init))"
   ]
  },
  {
   "cell_type": "markdown",
   "id": "1c2826d2-2f2f-4a06-8177-f6ffae3151f1",
   "metadata": {},
   "source": [
    "## Setup plot"
   ]
  },
  {
   "cell_type": "code",
   "execution_count": 768,
   "id": "b4566ba0-fb1b-47cd-8aaf-5a4f840795dc",
   "metadata": {},
   "outputs": [
    {
     "data": {
      "text/plain": [
       "GLMakie.Screen(...)"
      ]
     },
     "execution_count": 768,
     "metadata": {},
     "output_type": "execute_result"
    }
   ],
   "source": [
    "using FileIO\n",
    "using GLMakie\n",
    "\n",
    "\n",
    "quad_stl = load(assetpath(pwd() * \"/assets/cf2_assembly.obj\"))\n",
    "\n",
    "fig = Figure()\n",
    "\n",
    "ax_lim = 0.05\n",
    "ax = Axis3(fig[1, 1], aspect = :equal, title = \"aspect = :equal\", limits=(-ax_lim, ax_lim,-ax_lim, ax_lim,-ax_lim, ax_lim))\n",
    "\n",
    "# static transparent model to indicate desired attitude\n",
    "quad_model_des_att = mesh!(ax, quad_stl, color = RGBAf(1, 0, 0, 0.25),transparency=true)\n",
    "GLMakie.rotate!(quad_model_des_att, to_makie_quaternion(q_d))\n",
    "\n",
    "# model of movable quad\n",
    "quad_model = mesh!(ax, quad_stl, color =:green)\n",
    "\n",
    "display(fig)"
   ]
  },
  {
   "cell_type": "markdown",
   "id": "e3a4d725-70c9-4b6e-b805-58eeb9ee483c",
   "metadata": {},
   "source": [
    "## Full rotation"
   ]
  },
  {
   "cell_type": "code",
   "execution_count": 797,
   "id": "0b21c490-76e3-41a2-9136-698fd7b31a9c",
   "metadata": {},
   "outputs": [
    {
     "data": {
      "text/plain": [
       "0.9833474 + 0.14357218im + 0.06407135jm + 0.09115755km"
      ]
     },
     "execution_count": 797,
     "metadata": {},
     "output_type": "execute_result"
    }
   ],
   "source": [
    "let\n",
    "\n",
    "plot_reset()  \n",
    "sleep(1)\n",
    "    \n",
    "GLMakie.rotate!(quad_model, to_makie_quaternion(res))\n",
    "end"
   ]
  },
  {
   "cell_type": "markdown",
   "id": "e8e6b42c-c649-4945-a297-ea906490e4d4",
   "metadata": {},
   "source": [
    "## Reduced error + yaw rotation (brescianini)"
   ]
  },
  {
   "cell_type": "code",
   "execution_count": 831,
   "id": "c44a3310-4a6b-4b6d-bf57-6ad664ac76d4",
   "metadata": {},
   "outputs": [],
   "source": [
    "let\n",
    "\n",
    "plot_reset(q)  \n",
    "sleep(1)\n",
    "    \n",
    "GLMakie.rotate!(quad_model, to_makie_quaternion( q * q_e_reduced_bres ))\n",
    "sleep(1)\n",
    "    \n",
    "GLMakie.rotate!(quad_model, to_makie_quaternion(q * q_e_reduced_bres *q_e_yaw_bres  ))\n",
    "sleep(1)\n",
    "\n",
    "end"
   ]
  },
  {
   "cell_type": "code",
   "execution_count": null,
   "id": "aeaf76ff-a7ee-4c7f-b22f-94654732fb98",
   "metadata": {},
   "outputs": [],
   "source": []
  }
 ],
 "metadata": {
  "kernelspec": {
   "display_name": "control_precompiled 1.9.1",
   "language": "julia",
   "name": "control_precompiled-1.9"
  },
  "language_info": {
   "file_extension": ".jl",
   "mimetype": "application/julia",
   "name": "julia",
   "version": "1.9.1"
  }
 },
 "nbformat": 4,
 "nbformat_minor": 5
}
