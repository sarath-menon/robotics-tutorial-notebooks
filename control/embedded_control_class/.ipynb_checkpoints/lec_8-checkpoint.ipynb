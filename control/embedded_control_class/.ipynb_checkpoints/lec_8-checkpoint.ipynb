{
 "cells": [
  {
   "cell_type": "code",
   "execution_count": 33,
   "id": "fd9813f5-7f77-41bb-a0de-9db7e3a7e6a5",
   "metadata": {},
   "outputs": [
    {
     "data": {
      "text/plain": [
       "get_shortest_update_time (generic function with 1 method)"
      ]
     },
     "execution_count": 33,
     "metadata": {},
     "output_type": "execute_result"
    }
   ],
   "source": [
    "# get total no. of bits in msg (data range - 0-64)\n",
    "function get_n_bits(data_size)\n",
    "    SOF = 1 \n",
    "    ARB = 12 \n",
    "    control = 6 \n",
    "    CRC = 16 \n",
    "    ACK = 2 \n",
    "    EOF = 7 \n",
    "    FNT = 3\n",
    "\n",
    "    return SOF + ARB + control + data_size + CRC + ACK + EOF + FNT\n",
    "end\n",
    "\n",
    "\n",
    "# get bit write time in s\n",
    "get_bit_write_time(bus_speed) = 1 / bus_speed\n",
    "\n",
    "# in ms\n",
    "get_tx_time(bit_write_time,msg_size, n_walls) = (bit_write_time * msg_size * n_walls * 2)\n",
    "\n",
    "# in ms\n",
    "get_shortest_update_time(tx_time, max_bus_util) =  ceil(tx_time / max_bus_util)"
   ]
  },
  {
   "cell_type": "markdown",
   "id": "86171791-6a29-4e3e-b22a-4d57daacc3b2",
   "metadata": {},
   "source": [
    "# Example in pdf notes"
   ]
  },
  {
   "cell_type": "code",
   "execution_count": 40,
   "id": "958fff4c-c08e-478c-a68b-1c93a456eaed",
   "metadata": {},
   "outputs": [
    {
     "data": {
      "text/plain": [
       "6.0"
      ]
     },
     "execution_count": 40,
     "metadata": {},
     "output_type": "execute_result"
    }
   ],
   "source": [
    "let\n",
    "\n",
    "data_size = 64 # bits\n",
    "bus_speed = 500 #kb/s\n",
    "n_walls = 3 # no of virtual walls\n",
    "max_bus_util = 0.25 # max \n",
    "\n",
    "msg_size = get_n_bits(data_size)\n",
    "bit_write_time = get_bit_write_time(bus_speed)\n",
    "tx_time = get_tx_time(bit_write_time,msg_size, n_walls)\n",
    "get_shortest_update_time(tx_time, max_bus_util)\n",
    "\n",
    "end"
   ]
  },
  {
   "cell_type": "markdown",
   "id": "75202fbf-004e-4e14-868f-5db14f383c49",
   "metadata": {},
   "source": [
    "# Lab case"
   ]
  },
  {
   "cell_type": "code",
   "execution_count": 41,
   "id": "1def793c-ec10-4a91-93c8-2c89dae8b7c6",
   "metadata": {},
   "outputs": [
    {
     "data": {
      "text/plain": [
       "4.0"
      ]
     },
     "execution_count": 41,
     "metadata": {},
     "output_type": "execute_result"
    }
   ],
   "source": [
    "let\n",
    "\n",
    "data_size = 32 # bits\n",
    "bus_speed = 500 #kb/s\n",
    "n_walls = 5 # no of virtual walls\n",
    "max_bus_util = 2/5 # max \n",
    "\n",
    "msg_size = get_n_bits(data_size)\n",
    "bit_write_time = get_bit_write_time(bus_speed)\n",
    "tx_time = get_tx_time(bit_write_time,msg_size, n_walls)\n",
    "get_shortest_update_time(tx_time, max_bus_util)\n",
    "\n",
    "end"
   ]
  },
  {
   "cell_type": "code",
   "execution_count": null,
   "id": "946c95d7-5100-402c-904e-88da3f947c52",
   "metadata": {},
   "outputs": [],
   "source": []
  }
 ],
 "metadata": {
  "kernelspec": {
   "display_name": "control_precompiled 1.9.1",
   "language": "julia",
   "name": "control_precompiled-1.9"
  },
  "language_info": {
   "file_extension": ".jl",
   "mimetype": "application/julia",
   "name": "julia",
   "version": "1.9.1"
  }
 },
 "nbformat": 4,
 "nbformat_minor": 5
}
