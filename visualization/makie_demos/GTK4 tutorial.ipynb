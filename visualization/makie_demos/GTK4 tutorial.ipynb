{
 "cells": [
  {
   "cell_type": "code",
   "execution_count": 1,
   "id": "db005deb",
   "metadata": {
    "scrolled": true
   },
   "outputs": [
    {
     "name": "stderr",
     "output_type": "stream",
     "text": [
      "\u001b[32m\u001b[1m  Activating\u001b[22m\u001b[39m project at `~/Documents/eth_courses/notebooks/visualization/makie_demos`\n"
     ]
    }
   ],
   "source": [
    "import Pkg; Pkg.activate(@__DIR__)"
   ]
  },
  {
   "cell_type": "code",
   "execution_count": 2,
   "id": "b3a4f7a4",
   "metadata": {},
   "outputs": [],
   "source": [
    "using Gtk4, Gtk4.GLib"
   ]
  },
  {
   "cell_type": "code",
   "execution_count": 3,
   "id": "a0843fa2-fc53-4eb7-ba82-9c5f49b89ed1",
   "metadata": {},
   "outputs": [
    {
     "data": {
      "text/plain": [
       "GListStoreLeaf(item-type, n-items=2)"
      ]
     },
     "execution_count": 3,
     "metadata": {},
     "output_type": "execute_result"
    }
   ],
   "source": [
    "# get avilable monitors\n",
    "monitors = Gtk4.monitors()"
   ]
  },
  {
   "cell_type": "markdown",
   "id": "c1680508",
   "metadata": {},
   "source": [
    "## Basic example"
   ]
  },
  {
   "cell_type": "code",
   "execution_count": 5,
   "id": "75088b53",
   "metadata": {},
   "outputs": [
    {
     "data": {
      "text/plain": [
       "true"
      ]
     },
     "execution_count": 5,
     "metadata": {},
     "output_type": "execute_result"
    },
    {
     "name": "stderr",
     "output_type": "stream",
     "text": [
      "\n",
      "(process:43834): Gdk-CRITICAL **: 22:00:10.325: gdk_surface_request_layout: assertion 'frame_clock' failed\n"
     ]
    }
   ],
   "source": [
    "# create window\n",
    "window = GtkWindow(\"My First Gtk4.jl Program\", 400, 200)\n",
    "\n",
    "# set window title\n",
    "set_gtk_property!(window, :title, \"Demo Window\")\n",
    "\n",
    "# launch on fullscreen\n",
    "set_gtk_property!(window, :fullscreened, true)\n",
    "\n",
    "# create horizontal layout\n",
    "vbox = GtkBox(:v)\n",
    "push!(window, vbox)\n",
    "\n",
    "# create buttons\n",
    "btn = GtkButton(\"Click Me\")\n",
    "cancel = GtkButton(\"Cancel\")\n",
    "ok = GtkButton(\"OK\")\n",
    "\n",
    "# add spacing btw elements in vertical layout\n",
    "vbox.spacing = 10\n",
    "\n",
    "# insert button into the ui\n",
    "push!(vbox, cancel)\n",
    "push!(vbox,btn)\n",
    "push!(vbox, ok)\n",
    "\n",
    "# make ok button fill available space\n",
    "ok.hexpand = true\n",
    "\n",
    "vbox.homogeneous = true"
   ]
  },
  {
   "cell_type": "code",
   "execution_count": 6,
   "id": "1996c6f4-39d9-431c-b931-fbe5668eaac8",
   "metadata": {},
   "outputs": [],
   "source": [
    "Gtk4.present(window, 1)"
   ]
  },
  {
   "cell_type": "markdown",
   "id": "f536f605",
   "metadata": {},
   "source": [
    "### add callback"
   ]
  },
  {
   "cell_type": "code",
   "execution_count": 7,
   "id": "14cc52b2",
   "metadata": {},
   "outputs": [
    {
     "name": "stdout",
     "output_type": "stream",
     "text": [
      "The button has been clicked\n",
      "The button has been clicked\n",
      "The button has been clicked\n",
      "The button has been clicked\n",
      "The button has been clicked\n",
      "The button has been clicked\n",
      "The button has been clicked\n",
      "The button has been clicked\n",
      "The button has been clicked\n",
      "The button has been clicked\n",
      "The button has been clicked\n",
      "The button has been clicked\n",
      "The button has been clicked\n"
     ]
    }
   ],
   "source": [
    "function on_button_clicked(btn)\n",
    "  println(\"The button has been clicked\")\n",
    "end\n",
    "\n",
    "signal_connect(on_button_clicked, btn, \"clicked\");"
   ]
  },
  {
   "cell_type": "markdown",
   "id": "09a76282",
   "metadata": {},
   "source": [
    "# Layouts"
   ]
  },
  {
   "cell_type": "markdown",
   "id": "b0b22def",
   "metadata": {},
   "source": [
    "### Grid layout"
   ]
  },
  {
   "cell_type": "code",
   "execution_count": 115,
   "id": "9cd6d8f5",
   "metadata": {},
   "outputs": [],
   "source": [
    "win = GtkWindow(\"Grid layout example\", 400, 400)\n",
    "g = GtkGrid()\n",
    "a = GtkEntry()  # a widget for entering text\n",
    "a.text = \"This is Gtk!\"\n",
    "b = GtkCheckButton(\"Check me!\")\n",
    "\n",
    "# slider \n",
    "slider1 = GtkScale(:h, 0:10)   \n",
    "slider2 = GtkScale(:h, 0:10)   \n",
    "\n",
    "# label\n",
    "label = GtkLabel(\"Label 1\")\n",
    "\n",
    "# text entry \n",
    "text_entry = GtkEntry()\n",
    "text_entry.text = \"Text entry\"\n",
    "\n",
    "# text view\n",
    "text_buffer = GtkTextBuffer()\n",
    "text_box = GtkTextView(text_buffer)\n",
    "text_buffer.text = \"Selva\"\n",
    "\n",
    "# Level bar\n",
    "level_bar = GtkLevelBar()\n",
    "set_gtk_property!(level_bar, :value, 8)\n",
    "set_gtk_property!(level_bar, :max_value, 10.0)\n",
    "\n",
    "# Now let's place these graphical elements into the Grid:\n",
    "g[1,1] = a    # Cartesian coordinates, g[x,y]\n",
    "g[2,1] = b\n",
    "g[1:2,2] = slider1  # spans both columns\n",
    "g[1:2,3] = label  # spans both columns\n",
    "g[1:2,4] = text_entry  # spans both columns\n",
    "g[1:2,5] = GtkSeparator(:h)\n",
    "g[1:2,6] = level_bar\n",
    "\n",
    "g.column_homogeneous = true # grid forces columns to have the same width\n",
    "g.column_spacing = 15  # introduce a 15-pixel gap between columns\n",
    "g.row_spacing = 15  # introduce a 15-pixel gap between columns\n",
    "push!(win, g);\n",
    "\n",
    "# push!(win, text_box);"
   ]
  },
  {
   "cell_type": "markdown",
   "id": "f4948bbf-cc69-412c-8c7b-be5f6fbbc90c",
   "metadata": {},
   "source": [
    "## Frame"
   ]
  },
  {
   "cell_type": "code",
   "execution_count": 90,
   "id": "20e0533b-9648-4f97-92cf-13eebc72f2ef",
   "metadata": {},
   "outputs": [],
   "source": [
    "win = GtkWindow(\"Grid layout example\", 400, 400)\n",
    "g = GtkGrid()\n",
    "\n",
    "# Frame\n",
    "frame = GtkFrame()\n",
    "hbox = GtkBox(:h)\n",
    "hbox.halign = Gtk4.Align_BASELINE\n",
    "hbox.spacing = 20\n",
    "hbox.hexpand= true\n",
    "\n",
    "frame.child = hbox\n",
    "frame.margin_start= 5\n",
    "frame.margin_end= 5\n",
    "frame.margin_top= 10\n",
    "frame.margin_bottom = 10\n",
    "\n",
    "# add buttons\n",
    "push!(hbox, GtkButton(\"Selv1\"))  #\n",
    "push!(hbox, GtkButton(\"Selv2\"))  #\n",
    "push!(hbox, GtkButton(\"Selv3\"))  #\n",
    "\n",
    "push!(win, frame);"
   ]
  },
  {
   "cell_type": "markdown",
   "id": "5e73c7a5",
   "metadata": {},
   "source": [
    "### Scrollable window"
   ]
  },
  {
   "cell_type": "code",
   "execution_count": 92,
   "id": "e5b74e5c",
   "metadata": {},
   "outputs": [
    {
     "name": "stderr",
     "output_type": "stream",
     "text": [
      "WARNING: redefinition of constant logwindow. This may fail, cause incorrect answers, or produce other errors.\n",
      "WARNING: redefinition of constant logtxt. This may fail, cause incorrect answers, or produce other errors.\n",
      "WARNING: redefinition of constant tview. This may fail, cause incorrect answers, or produce other errors.\n"
     ]
    }
   ],
   "source": [
    "win = GtkWindow(\"Scroller\", 100, 400)\n",
    "\n",
    "const logwindow = GtkScrolledWindow()\n",
    "const logtxt = GtkTextBuffer()\n",
    "\n",
    "logtxt.text = \"Random text.\"\n",
    "const tview = GtkTextView(logtxt)\n",
    "\n",
    "set_gtk_property!(logwindow, :child, tview)\n",
    "logwindow.child = tview\n",
    "push!(win, logwindow);"
   ]
  },
  {
   "cell_type": "markdown",
   "id": "26aa791b",
   "metadata": {},
   "source": [
    "### Notebook - Overhead tab menu"
   ]
  },
  {
   "cell_type": "code",
   "execution_count": 4,
   "id": "b51aa474",
   "metadata": {},
   "outputs": [],
   "source": [
    "win = GtkWindow(\"A new window\")\n",
    "\n",
    "nb = GtkNotebook()\n",
    "vbox = GtkBox(:v)\n",
    "hbox = GtkBox(:h)\n",
    "push!(nb, vbox, \"Vertical\")  # here \"Vertical\" is the label for the tab\n",
    "push!(nb, hbox, \"Horizontal\")\n",
    "\n",
    "push!(win, nb);"
   ]
  },
  {
   "cell_type": "markdown",
   "id": "157784b6",
   "metadata": {},
   "source": [
    "# Menu"
   ]
  },
  {
   "cell_type": "markdown",
   "id": "81ba0f04",
   "metadata": {},
   "source": [
    "### Stack - Overhead tab menu"
   ]
  },
  {
   "cell_type": "code",
   "execution_count": 119,
   "id": "b41a3b0f",
   "metadata": {},
   "outputs": [],
   "source": [
    "b = GtkBox(:v)\n",
    "w = GtkWindow(b, \"Stack\")\n",
    "sw = GtkStackSwitcher()\n",
    "push!(b,sw)\n",
    "stack = GtkStack()\n",
    "push!(b,stack)\n",
    "Gtk4.stack(sw, stack)\n",
    "\n",
    "label1 = GtkLabel(\"Label 1\")\n",
    "push!(stack, label1, \"titled1\", \"Tab 1\")\n",
    "\n",
    "box = GtkBox(:v)\n",
    "slider2 = GtkScale(:h, 0:10)   \n",
    "slider3 = GtkScale(:h, 0:10)   \n",
    "push!(box,slider2)\n",
    "push!(box,slider3) \n",
    "push!(stack, box, \"titled2\", \"Tab 2\")\n",
    "\n",
    "show(w);"
   ]
  },
  {
   "cell_type": "markdown",
   "id": "17ea3ffa-53f4-467d-96eb-603200d2d84e",
   "metadata": {},
   "source": [
    "## Stack Sidebar"
   ]
  },
  {
   "cell_type": "code",
   "execution_count": 124,
   "id": "0339e05d-c11d-4945-b39e-2fafb5dc5a8c",
   "metadata": {},
   "outputs": [],
   "source": [
    "b = GtkBox(:h)\n",
    "w = GtkWindow(b, \"Stack\")\n",
    "\n",
    "\n",
    "# sw = GtkStackSwitcher()\n",
    "sw = GtkStackSidebar()\n",
    "push!(b,sw)\n",
    "\n",
    "stack = GtkStack()\n",
    "push!(b,stack)\n",
    "\n",
    "label1 = GtkLabel(\"Label 1\")\n",
    "push!(stack, label1, \"titled1\", \"Position Controller\")\n",
    "\n",
    "box = GtkBox(:v)\n",
    "slider2 = GtkScale(:h, 0:10)   \n",
    "slider3 = GtkScale(:h, 0:10)   \n",
    "push!(box,slider2)\n",
    "push!(box,slider3) \n",
    "\n",
    "sw.stack =  stack\n",
    "push!(stack, GtkSeparator(:h))\n",
    "push!(stack, box, \"titled2\", \"Tab 2\")\n",
    "\n",
    "\n",
    "show(w);"
   ]
  },
  {
   "cell_type": "markdown",
   "id": "80155a2c",
   "metadata": {},
   "source": [
    "### Dropdown"
   ]
  },
  {
   "cell_type": "code",
   "execution_count": 20,
   "id": "426b50cc",
   "metadata": {},
   "outputs": [],
   "source": [
    "choices = [\"one\", \"two\", \"three\", \"four\"]\n",
    "dd = GtkDropDown(choices)\n",
    "# Let's set the active element to be \"two\", keeping in mind that the \"selected\" property uses 0 based indexing\n",
    "dd.selected = 1\n",
    "\n",
    "signal_connect(dd, \"notify::selected\") do widget, others...\n",
    "  # get the active index\n",
    "  idx = dd.selected\n",
    "  # get the active string\n",
    "  str = Gtk4.selected_string(dd)\n",
    "  println(\"Active element is \\\"$str\\\" at index $idx\")\n",
    "end\n",
    "\n",
    "win = GtkWindow(\"DropDown Example\",400,200)\n",
    "push!(win, dd);"
   ]
  },
  {
   "cell_type": "markdown",
   "id": "fa1f1ee0",
   "metadata": {},
   "source": [
    "# Data viewing"
   ]
  },
  {
   "cell_type": "markdown",
   "id": "7a48c766",
   "metadata": {},
   "source": [
    "### List view"
   ]
  },
  {
   "cell_type": "code",
   "execution_count": 24,
   "id": "28b50d70",
   "metadata": {},
   "outputs": [],
   "source": [
    "win = GtkWindow(\"A new window\")\n",
    "\n",
    "vbox = GtkBox(:v)\n",
    "\n",
    "# list to store data\n",
    "ls = GtkListStore(String, Int, Bool)\n",
    "push!(ls,(\"Peter\",20,false))\n",
    "push!(ls,(\"Paul\",30,false))\n",
    "push!(ls,(\"Mary\",25,true))\n",
    "\n",
    "# treeview to display data\n",
    "tv = GtkTreeView(GtkTreeModel(ls))\n",
    "# renderers for each column \n",
    "rTxt = GtkCellRendererText()\n",
    "rTog = GtkCellRendererToggle()\n",
    "\n",
    "# the actual data\n",
    "c1 = GtkTreeViewColumn(\"Name\", rTxt, Dict([(\"text\",0)]))\n",
    "c2 = GtkTreeViewColumn(\"Age\", rTxt, Dict([(\"text\",1)]))\n",
    "c3 = GtkTreeViewColumn(\"Female\", rTog, Dict([(\"active\",2)]))\n",
    "\n",
    "push!(tv, c1, c2, c3)\n",
    "push!(vbox, tv)\n",
    "\n",
    "\n",
    "push!(win, vbox);"
   ]
  },
  {
   "cell_type": "markdown",
   "id": "a74d9d6f",
   "metadata": {},
   "source": [
    "### Tree view"
   ]
  },
  {
   "cell_type": "code",
   "execution_count": 25,
   "id": "89f400c8",
   "metadata": {},
   "outputs": [
    {
     "data": {
      "text/plain": [
       "\"ONE\""
      ]
     },
     "execution_count": 25,
     "metadata": {},
     "output_type": "execute_result"
    }
   ],
   "source": [
    "ts = GtkTreeStore(String)\n",
    "iter1 = push!(ts,(\"one\",))\n",
    "iter2 = push!(ts,(\"two\",),iter1)\n",
    "iter3 = push!(ts,(\"three\",),iter2)\n",
    "tv = GtkTreeView(GtkTreeModel(ts))\n",
    "r1 = GtkCellRendererText()\n",
    "c1 = GtkTreeViewColumn(\"A\", r1, Dict([(\"text\",0)]))\n",
    "push!(tv,c1)\n",
    "win = GtkWindow(tv, \"Tree View\")\n",
    "\n",
    "iter = Gtk4.iter_from_index(ts, [1])\n",
    "ts[iter,1] = \"ONE\""
   ]
  },
  {
   "cell_type": "markdown",
   "id": "20bccf11",
   "metadata": {},
   "source": [
    "# Dialog boxes"
   ]
  },
  {
   "cell_type": "code",
   "execution_count": 22,
   "id": "f7023fe2",
   "metadata": {},
   "outputs": [
    {
     "data": {
      "text/plain": [
       "0x0000000000000901"
      ]
     },
     "execution_count": 22,
     "metadata": {},
     "output_type": "execute_result"
    },
    {
     "name": "stderr",
     "output_type": "stream",
     "text": [
      "Gtk-Message: 22:02:08.985: GtkDialog mapped without a transient parent. This is discouraged.\n"
     ]
    }
   ],
   "source": [
    "main_window = GtkWindow(\"Dialog example\")\n",
    "box = GtkBox(:v)\n",
    "main_window[]=box\n",
    "info_dialog_button = GtkButton(\"Info dialog\")\n",
    "push!(box,info_dialog_button)\n",
    "\n",
    "function open_info_dialog(b, user_data)\n",
    "    info_dialog(\"Here's some information\",main_window) do\n",
    "        nothing\n",
    "    end\n",
    "    nothing\n",
    "end\n",
    "\n",
    "Gtk4.on_signal_clicked(open_info_dialog, info_dialog_button)\n",
    "\n",
    "## Question dialog\n",
    "\n",
    "question_dialog_button = GtkButton(\"Question dialog\")\n",
    "push!(box,question_dialog_button)\n",
    "\n",
    "function open_question_dialog(b)\n",
    "    ask_dialog(\"May I ask you a question?\",\"No\",\"Yes\",main_window) do ans\n",
    "        @async println(\"You answered $ans\")\n",
    "    end\n",
    "end\n",
    "\n",
    "signal_connect(open_question_dialog,question_dialog_button,\"clicked\")\n",
    "\n",
    "## Input dialog\n",
    "\n",
    "input_dialog_button = GtkButton(\"Input dialog\")\n",
    "push!(box, input_dialog_button)\n",
    "\n",
    "function open_input_dialog(b)\n",
    "    input_dialog(\"Enter your information\", \"\") do t\n",
    "        @async println(\"response was \",t)\n",
    "    end\n",
    "end\n",
    "\n",
    "signal_connect(open_input_dialog,input_dialog_button,\"clicked\")\n",
    "\n",
    "## File open dialog\n",
    "\n",
    "file_open_dialog_button = GtkButton(\"File open dialog\")\n",
    "push!(box,file_open_dialog_button)\n",
    "\n",
    "function open_file_open_dialog(b)\n",
    "    open_dialog(\"Select a file to open\",main_window) do filename\n",
    "        @async println(\"selection was \", filename)\n",
    "    end\n",
    "end\n",
    "\n",
    "signal_connect(open_file_open_dialog,file_open_dialog_button,\"clicked\")\n",
    "\n",
    "## File open dialog (with a *.png filter)\n",
    "\n",
    "png_open_dialog_button = GtkButton(\"PNG open dialog\")\n",
    "push!(box,png_open_dialog_button)\n",
    "\n",
    "function open_png_open_dialog(b)\n",
    "    open_dialog(\"Select a file to open\",main_window,[\"*.png\"]) do filename\n",
    "        @async println(\"selection was \", filename)\n",
    "    end\n",
    "end\n",
    "\n",
    "signal_connect(open_png_open_dialog,png_open_dialog_button,\"clicked\")\n",
    "\n",
    "## File save dialog\n",
    "\n",
    "file_save_dialog_button = GtkButton(\"File save dialog\")\n",
    "push!(box,file_save_dialog_button)\n",
    "\n",
    "function open_file_save_dialog(b)\n",
    "    save_dialog(\"Save file\",main_window) do filename\n",
    "        @async println(\"selection was \", filename)\n",
    "    end\n",
    "end\n",
    "\n",
    "signal_connect(open_file_save_dialog,file_save_dialog_button,\"clicked\")\n",
    "\n",
    "## Color chooser dialog\n",
    "\n",
    "color_dialog_button = GtkButton(\"Color chooser dialog\")\n",
    "push!(box,color_dialog_button)\n",
    "\n",
    "function open_color_dialog(b)\n",
    "    color_dialog(\"Pick a color\",main_window) do selection\n",
    "        @async println(\"selection was \",selection)\n",
    "    end\n",
    "end\n",
    "\n",
    "signal_connect(open_color_dialog,color_dialog_button,\"clicked\")"
   ]
  },
  {
   "cell_type": "markdown",
   "id": "2cd48e21",
   "metadata": {},
   "source": [
    "### Paned window"
   ]
  },
  {
   "cell_type": "code",
   "execution_count": 13,
   "id": "7b4d4af6",
   "metadata": {},
   "outputs": [],
   "source": [
    "pw = GtkPaned(:h)\n",
    "w = GtkWindow(pw,\"Panedwindow\", 400, 400)\n",
    "pw2 = GtkPaned(:v)\n",
    "pw[1]=GtkButton(\"one\")\n",
    "pw[2]=pw2\n",
    "\n",
    "pw2[1]=GtkButton(\"two\")\n",
    "pw2[2]=GtkButton()\n",
    "pw2[2][]=GtkLabel(\"three\")\n",
    "\n",
    "show(w);"
   ]
  },
  {
   "cell_type": "markdown",
   "id": "64167d36",
   "metadata": {},
   "source": [
    "### Menubar"
   ]
  },
  {
   "cell_type": "code",
   "execution_count": 26,
   "id": "2ade641e",
   "metadata": {},
   "outputs": [
    {
     "name": "stderr",
     "output_type": "stream",
     "text": [
      "\n",
      "(process:1573): Gdk-CRITICAL **: 00:12:21.508: gdk_display_link_source_pause: assertion 'source->paused == FALSE' failed\n",
      "\n",
      "(process:1573): Gdk-CRITICAL **: 00:12:30.034: gdk_display_link_source_pause: assertion 'source->paused == FALSE' failed\n",
      "\n",
      "(process:1573): Gdk-CRITICAL **: 00:12:35.439: gdk_display_link_source_pause: assertion 'source->paused == FALSE' failed\n",
      "\n",
      "(process:1573): Gdk-CRITICAL **: 00:12:39.288: gdk_display_link_source_pause: assertion 'source->paused == FALSE' failed\n",
      "\n",
      "(process:1573): Gdk-CRITICAL **: 00:56:32.355: gdk_display_link_source_pause: assertion 'source->paused == FALSE' failed\n",
      "\n",
      "(process:1573): Gdk-CRITICAL **: 08:06:30.891: gdk_display_link_source_pause: assertion 'source->paused == FALSE' failed\n",
      "\n",
      "(process:1573): Gdk-CRITICAL **: 09:31:40.247: gdk_display_link_source_pause: assertion 'source->paused == FALSE' failed\n",
      "\n",
      "(process:1573): Gdk-CRITICAL **: 17:04:11.926: gdk_display_link_source_pause: assertion 'source->paused == FALSE' failed\n",
      "\n",
      "(process:1573): Gdk-CRITICAL **: 20:11:34.216: gdk_display_link_source_pause: assertion 'source->paused == FALSE' failed\n",
      "\n",
      "(process:1573): Gdk-CRITICAL **: 20:11:41.796: gdk_display_link_source_pause: assertion 'source->paused == FALSE' failed\n",
      "\n",
      "(process:1573): Gdk-CRITICAL **: 20:11:45.956: gdk_display_link_source_pause: assertion 'source->paused == FALSE' failed\n",
      "\n",
      "(process:1573): Gdk-CRITICAL **: 20:11:51.926: gdk_display_link_source_pause: assertion 'source->paused == FALSE' failed\n",
      "\n",
      "(process:1573): Gdk-CRITICAL **: 22:12:05.620: gdk_display_link_source_pause: assertion 'source->paused == FALSE' failed\n",
      "\n",
      "(process:1573): Gdk-CRITICAL **: 22:12:15.374: gdk_display_link_source_pause: assertion 'source->paused == FALSE' failed\n",
      "\n",
      "(process:1573): Gdk-CRITICAL **: 22:12:19.105: gdk_display_link_source_pause: assertion 'source->paused == FALSE' failed\n",
      "\n",
      "(process:1573): Gdk-CRITICAL **: 22:12:24.003: gdk_display_link_source_pause: assertion 'source->paused == FALSE' failed\n",
      "\n",
      "(process:1573): Gdk-CRITICAL **: 22:28:46.744: gdk_display_link_source_pause: assertion 'source->paused == FALSE' failed\n",
      "\n",
      "(process:1573): Gdk-CRITICAL **: 22:49:44.037: gdk_display_link_source_pause: assertion 'source->paused == FALSE' failed\n"
     ]
    }
   ],
   "source": [
    "win = GtkWindow(\"toolbar\", 800, 600)\n",
    "\n",
    "menu = Gtk4.GMenu()\n",
    "label1 = GtkLabel(\"selva\")\n",
    "\n",
    "file = GMenuItem(\"file\")\n",
    "filemenu = GMenu(file)\n",
    "new_ = GMenuItem(\"New\")\n",
    "push!(filemenu, new_)\n",
    "push!(menu, file)\n",
    "\n",
    "menu_bar = Gtk4.G_.PopoverMenuBar_new_from_model(menu)\n",
    "push!(win, menu_bar);"
   ]
  },
  {
   "cell_type": "markdown",
   "id": "7cc861d2",
   "metadata": {},
   "source": [
    "# GTK Builder"
   ]
  },
  {
   "cell_type": "code",
   "execution_count": 26,
   "id": "5c7a2dfd",
   "metadata": {},
   "outputs": [
    {
     "data": {
      "text/plain": [
       "Gtk4.GtkBuilderLeaf(current-object, scope, translation-domain=nothing)"
      ]
     },
     "execution_count": 26,
     "metadata": {},
     "output_type": "execute_result"
    }
   ],
   "source": [
    "b = GtkBuilder(filename=\"myapp.ui\")"
   ]
  },
  {
   "cell_type": "code",
   "execution_count": 27,
   "id": "f532708f",
   "metadata": {},
   "outputs": [],
   "source": [
    "win = b[\"window1\"]\n",
    "show(win);"
   ]
  },
  {
   "cell_type": "code",
   "execution_count": 28,
   "id": "8a5d0813",
   "metadata": {},
   "outputs": [],
   "source": [
    "@load_builder(GtkBuilder(filename=\"myapp.ui\"))"
   ]
  },
  {
   "cell_type": "markdown",
   "id": "50b0b6fa",
   "metadata": {},
   "source": [
    "# Cairomakie plot"
   ]
  },
  {
   "cell_type": "code",
   "execution_count": 29,
   "id": "58e1e19b",
   "metadata": {},
   "outputs": [],
   "source": [
    "using CairoMakie, Makie\n",
    "using FileIO\n",
    "\n",
    "canvas = GtkCanvas()\n",
    "window = GtkWindow(\"Makie\", 500, 500)\n",
    "\n",
    "function drawonto(canvas, figure)\n",
    "    @guarded draw(canvas) do _\n",
    "        scene = figure.scene\n",
    "        resize!(scene, Gtk4.width(canvas), Gtk4.height(canvas))\n",
    "        config = CairoMakie.ScreenConfig(1.0, 1.0, :good, true, true)\n",
    "        screen = CairoMakie.Screen(scene, config, Gtk4.cairo_surface(canvas))\n",
    "        CairoMakie.cairo_draw(screen, scene)\n",
    "    end\n",
    "end\n",
    "\n",
    "# 2d plot\n",
    "# fig, ax, pl = heatmap(rand(50, 50)) # or something\n",
    "\n",
    "# 3d plot\n",
    "brain = load(assetpath(\"brain.stl\"))\n",
    "fig, ax, pl = mesh(\n",
    "    brain,\n",
    "    color = [tri[1][2] for tri in brain for i in 1:3],\n",
    "    colormap = Reverse(:Spectral),\n",
    "    figure = (resolution = (1000, 1000),)\n",
    ");\n",
    "\n",
    "drawonto(canvas, fig)\n",
    "box = GtkBox(:v)\n",
    "slider1 = GtkScale(:h, 0:10)   \n",
    "\n",
    "push!(box, slider1)\n",
    "push!(box, canvas)\n",
    "push!(window,box)\n",
    "\n",
    "set_gtk_property!(canvas,:hexpand,true)\n",
    "set_gtk_property!(canvas,:vexpand,true)\n",
    "\n",
    "show(canvas);\n",
    "show(box);\n",
    "show(window); # trigger rendering"
   ]
  },
  {
   "cell_type": "markdown",
   "id": "f36d989c",
   "metadata": {},
   "source": [
    "## GLMakie"
   ]
  },
  {
   "cell_type": "code",
   "execution_count": 4,
   "id": "3d0982e9-b30a-4f14-9358-5b73b7c369c0",
   "metadata": {
    "scrolled": true
   },
   "outputs": [
    {
     "name": "stderr",
     "output_type": "stream",
     "text": [
      "\u001b[33m\u001b[1m┌ \u001b[22m\u001b[39m\u001b[33m\u001b[1mWarning: \u001b[22m\u001b[39mExecuting realizecb:\n",
      "\u001b[33m\u001b[1m└ \u001b[22m\u001b[39m\u001b[90m@ Gtk4.GLib ~/.julia/packages/Gtk4/qY7HD/src/GLib/signals.jl:121\u001b[39m\n",
      "\u001b[91m\u001b[1mERROR: \u001b[22m\u001b[39mcould not load symbol \"g_bookmark_file_get_type\":\n",
      "dlsym(0x8f4cd690, g_bookmark_file_get_type): symbol not found\n",
      "Stacktrace:\n",
      " "
     ]
    },
    {
     "data": {
      "text/plain": [
       "GtkWindowLeaf(accessible-role=GTK_ACCESSIBLE_ROLE_WINDOW, name=\"\", parent, root, width-request=-1, height-request=-1, visible=true, sensitive=true, can-focus=true, has-focus=false, can-target=true, focus-on-click=true, focusable=false, has-default=false, receives-default=false, cursor, has-tooltip=false, tooltip-markup=nothing, tooltip-text=nothing, opacity=1.000000, overflow=GTK_OVERFLOW_HIDDEN, halign=GTK_ALIGN_FILL, valign=GTK_ALIGN_FILL, margin-start=0, margin-end=0, margin-top=0, margin-bottom=0, hexpand=false, vexpand=false, hexpand-set=false, vexpand-set=false, scale-factor=2, css-name=\"window\", css-classes, layout-manager, title=\"Selva\", resizable=true, modal=false, default-width=400, default-height=300, destroy-with-parent=false, hide-on-close=false, icon-name=nothing, display, decorated=true, deletable=true, transient-for, application, default-widget, focus-widget, child, titlebar, handle-menubar-accel=true, is-active=false, startup-id, mnemonics-visible=false, focus-visible=false, maximized=false, fullscreened=false)"
      ]
     },
     "execution_count": 4,
     "metadata": {},
     "output_type": "execute_result"
    },
    {
     "name": "stderr",
     "output_type": "stream",
     "text": [
      " [1] \u001b[0m\u001b[1mg_type\u001b[22m\u001b[0m\u001b[1m(\u001b[22m\u001b[90m#unused#\u001b[39m::"
     ]
    },
    {
     "name": "stdout",
     "output_type": "stream",
     "text": [
      "\n"
     ]
    },
    {
     "name": "stderr",
     "output_type": "stream",
     "text": [
      "\u001b[0mType\u001b[90m{Gtk4.GLib.GBookmarkFile}\u001b[39m\u001b[0m\u001b[1m)\u001b[22m\n",
      "\u001b[90m    @\u001b[39m \u001b[35mGtk4.GLib\u001b[39m \u001b[90m~/.julia/packages/Gtk4/qY7HD/src/gen/\u001b[39m\u001b[90m\u001b[4mglib_structs:7\u001b[24m\u001b[39m\n",
      "  [2] \u001b[0m\u001b[1mgetindex\u001b[22m\u001b[0m\u001b[1m(\u001b[22m\u001b[90mgv\u001b[39m::\u001b[0mBase.RefValue\u001b[90m{Gtk4.GLib.GValue}\u001b[39m, \u001b[90m#unused#\u001b[39m::\u001b[0mType\u001b[90m{Any}\u001b[39m\u001b[0m\u001b[1m)\u001b[22m\n",
      "\u001b[90m    @\u001b[39m \u001b[35mGtk4.GLib\u001b[39m \u001b[90m~/.julia/packages/Gtk4/qY7HD/src/GLib/\u001b[39m\u001b[90m\u001b[4mgvalues.jl:234\u001b[24m\u001b[39m\n",
      "  [3] \u001b[0m\u001b[1m#130\u001b[22m\n",
      "\u001b[90m    @\u001b[39m \u001b[90m~/.julia/packages/Gtk4/qY7HD/src/GLib/\u001b[39m\u001b[90m\u001b[4msignals.jl:59\u001b[24m\u001b[39m\u001b[90m [inlined]\u001b[39m\n",
      "  [4] \u001b[0m\u001b[1mg_siginterruptible\u001b[22m\u001b[0m\u001b[1m(\u001b[22m\u001b[90mf\u001b[39m::\u001b[0mGtk4.GLib.var\"#130#132\"\u001b[90m{Ptr{Gtk4.GLib.GValue}, UInt32, Ptr{Gtk4.GLib.GValue}, Vector{Any}, typeof(Gtk4Makie.realizecb)}\u001b[39m, \u001b[90mcb\u001b[39m::\u001b[0mAny\u001b[0m\u001b[1m)\u001b[22m\n",
      "\u001b[90m    @\u001b[39m \u001b[35mGtk4.GLib\u001b[39m \u001b[90m~/.julia/packages/Gtk4/qY7HD/src/GLib/\u001b[39m\u001b[90m\u001b[4msignals.jl:224\u001b[24m\u001b[39m\n",
      "  [5] \u001b[0m\u001b[1mGClosureMarshal\u001b[22m\u001b[0m\u001b[1m(\u001b[22m\u001b[90mclosuref\u001b[39m::\u001b[0mPtr\u001b[90m{Nothing}\u001b[39m, \u001b[90mreturn_value\u001b[39m::\u001b[0mPtr\u001b[90m{Gtk4.GLib.GValue}\u001b[39m, \u001b[90mn_param_values\u001b[39m::\u001b[0mUInt32, \u001b[90mparam_values\u001b[39m::\u001b[0mPtr\u001b[90m{Gtk4.GLib.GValue}\u001b[39m, \u001b[90minvocation_hint\u001b[39m::\u001b[0mPtr\u001b[90m{Nothing}\u001b[39m, \u001b[90mmarshal_data\u001b[39m::\u001b[0mPtr\u001b[90m{Nothing}\u001b[39m\u001b[0m\u001b[1m)\u001b[22m\n",
      "\u001b[90m    @\u001b[39m \u001b[35mGtk4.GLib\u001b[39m \u001b[90m~/.julia/packages/Gtk4/qY7HD/src/GLib/\u001b[39m\u001b[90m\u001b[4msignals.jl:56\u001b[24m\u001b[39m\n",
      "  [6] \u001b[0m\u001b[1mattach\u001b[22m\n",
      "\u001b[90m    @\u001b[39m \u001b[90m~/.julia/packages/Gtk4/qY7HD/src/gen/\u001b[39m\u001b[90m\u001b[4mgtk4_methods:5309\u001b[24m\u001b[39m\u001b[90m [inlined]\u001b[39m\n",
      "  [7] \u001b[0m\u001b[1msetindex!\u001b[22m\u001b[0m\u001b[1m(\u001b[22m\u001b[90mgrid\u001b[39m::\u001b[0mGtkGridLeaf, \u001b[90mchild\u001b[39m::\u001b[0mGtk4Makie.GtkGLMakie, \u001b[90mi\u001b[39m::\u001b[0mInt64, \u001b[90mj\u001b[39m::\u001b[0mInt64\u001b[0m\u001b[1m)\u001b[22m\n",
      "\u001b[90m    @\u001b[39m \u001b[35mGtk4\u001b[39m \u001b[90m~/.julia/packages/Gtk4/qY7HD/src/\u001b[39m\u001b[90m\u001b[4mlayout.jl:128\u001b[24m\u001b[39m\n",
      "  [8] \u001b[0m\u001b[1mGTKScreen\u001b[22m\u001b[0m\u001b[1m(\u001b[22m\u001b[90mheaderbar\u001b[39m::\u001b[0mBool; \u001b[90mresolution\u001b[39m::\u001b[0mTuple\u001b[90m{Int64, Int64}\u001b[39m, \u001b[90mapp\u001b[39m::\u001b[0mNothing, \u001b[90mscreen_config\u001b[39m::\u001b[0mBase.Pairs\u001b[90m{Symbol, Union{}, Tuple{}, NamedTuple{(), Tuple{}}}\u001b[39m\u001b[0m\u001b[1m)\u001b[22m\n",
      "\u001b[90m    @\u001b[39m \u001b[33mGtk4Makie\u001b[39m \u001b[90m~/.julia/packages/Gtk4Makie/UQp4S/src/\u001b[39m\u001b[90m\u001b[4mscreen.jl:368\u001b[24m\u001b[39m\n",
      "  [9] \u001b[0m\u001b[1mGTKScreen\u001b[22m\n",
      "\u001b[90m    @\u001b[39m \u001b[90m~/.julia/packages/Gtk4Makie/UQp4S/src/\u001b[39m\u001b[90m\u001b[4mscreen.jl:325\u001b[24m\u001b[39m\u001b[90m [inlined]\u001b[39m\n",
      " [10] top-level scope\n",
      "\u001b[90m    @\u001b[39m \u001b[90m\u001b[4mIn[4]:6\u001b[24m\u001b[39m\n",
      " [11] \u001b[0m\u001b[1meval\u001b[22m\n",
      "\u001b[90m    @\u001b[39m \u001b[90m./\u001b[39m\u001b[90m\u001b[4mboot.jl:370\u001b[24m\u001b[39m\u001b[90m [inlined]\u001b[39m\n",
      " [12] \u001b[0m\u001b[1minclude_string\u001b[22m\u001b[0m\u001b[1m(\u001b[22m\u001b[90mmapexpr\u001b[39m::\u001b[0mtypeof(REPL.softscope), \u001b[90mmod\u001b[39m::\u001b[0mModule, \u001b[90mcode\u001b[39m::\u001b[0mString, \u001b[90mfilename\u001b[39m::\u001b[0mString\u001b[0m\u001b[1m)\u001b[22m\n",
      "\u001b[90m    @\u001b[39m \u001b[90mBase\u001b[39m \u001b[90m./\u001b[39m\u001b[90m\u001b[4mloading.jl:1903\u001b[24m\u001b[39m\n",
      " [13] \u001b[0m\u001b[1msoftscope_include_string\u001b[22m\u001b[0m\u001b[1m(\u001b[22m\u001b[90mm\u001b[39m::\u001b[0mModule, \u001b[90mcode\u001b[39m::\u001b[0mString, \u001b[90mfilename\u001b[39m::\u001b[0mString\u001b[0m\u001b[1m)\u001b[22m\n",
      "\u001b[90m    @\u001b[39m \u001b[36mSoftGlobalScope\u001b[39m \u001b[90m~/.julia/packages/SoftGlobalScope/u4UzH/src/\u001b[39m\u001b[90m\u001b[4mSoftGlobalScope.jl:65\u001b[24m\u001b[39m\n",
      " [14] \u001b[0m\u001b[1mexecute_request\u001b[22m\u001b[0m\u001b[1m(\u001b[22m\u001b[90msocket\u001b[39m::\u001b[0mZMQ.Socket, \u001b[90mmsg\u001b[39m::\u001b[0mIJulia.Msg\u001b[0m\u001b[1m)\u001b[22m\n",
      "\u001b[90m    @\u001b[39m \u001b[32mIJulia\u001b[39m \u001b[90m~/.julia/packages/IJulia/Vo51o/src/\u001b[39m\u001b[90m\u001b[4mexecute_request.jl:67\u001b[24m\u001b[39m\n",
      " [15] \u001b[0m\u001b[1m#invokelatest#2\u001b[22m\n",
      "\u001b[90m    @\u001b[39m \u001b[90m./\u001b[39m\u001b[90m\u001b[4messentials.jl:819\u001b[24m\u001b[39m\u001b[90m [inlined]\u001b[39m\n",
      " [16] \u001b[0m\u001b[1minvokelatest\u001b[22m\n",
      "\u001b[90m    @\u001b[39m \u001b[90m./\u001b[39m\u001b[90m\u001b[4messentials.jl:816\u001b[24m\u001b[39m\u001b[90m [inlined]\u001b[39m\n",
      " [17] \u001b[0m\u001b[1meventloop\u001b[22m\u001b[0m\u001b[1m(\u001b[22m\u001b[90msocket\u001b[39m::\u001b[0mZMQ.Socket\u001b[0m\u001b[1m)\u001b[22m\n",
      "\u001b[90m    @\u001b[39m \u001b[32mIJulia\u001b[39m \u001b[90m~/.julia/packages/IJulia/Vo51o/src/\u001b[39m\u001b[90m\u001b[4meventloop.jl:8\u001b[24m\u001b[39m\n",
      " [18] \u001b[0m\u001b[1m(::IJulia.var\"#15#18\")\u001b[22m\u001b[0m\u001b[1m(\u001b[22m\u001b[0m\u001b[1m)\u001b[22m\n",
      "\u001b[90m    @\u001b[39m \u001b[32mIJulia\u001b[39m \u001b[90m./\u001b[39m\u001b[90m\u001b[4mtask.jl:514\u001b[24m\u001b[39m\n"
     ]
    }
   ],
   "source": [
    "using Gtk4Makie, GLMakie\n",
    "\n",
    "monitors =  GLMakie.GLFW.GetMonitors()\n",
    "GLMakie.activate!(inline=false, title = \"Selva\", monitor=monitors[1])\n",
    "\n",
    "screen = Gtk4Makie.GTKScreen(resolution=(800, 800))\n",
    "\n",
    "display(screen, scatter(1:4))\n",
    "\n",
    "# make window fullscreen\n",
    "win = Gtk4Makie.window(screen)"
   ]
  },
  {
   "cell_type": "code",
   "execution_count": 3,
   "id": "d5b083f8",
   "metadata": {
    "scrolled": true
   },
   "outputs": [
    {
     "name": "stderr",
     "output_type": "stream",
     "text": [
      "\u001b[33m\u001b[1m┌ \u001b[22m\u001b[39m\u001b[33m\u001b[1mWarning: \u001b[22m\u001b[39mExecuting #21:\n",
      "\u001b[33m\u001b[1m└ \u001b[22m\u001b[39m\u001b[90m@ Gtk4.GLib ~/.julia/packages/Gtk4/qY7HD/src/GLib/signals.jl:121\u001b[39m\n",
      "\u001b[33m\u001b[1m┌ \u001b[22m\u001b[39m\u001b[33m\u001b[1mWarning: \u001b[22m\u001b[39mExecuting #21:\n",
      "\u001b[33m\u001b[1m└ \u001b[22m\u001b[39m\u001b[90m@ Gtk4.GLib ~/.julia/packages/Gtk4/qY7HD/src/GLib/signals.jl:121\u001b[39m\n",
      "\u001b[91m\u001b[1mERROR: \u001b[22m\u001b[39m\u001b[91m\u001b[1mERROR: \u001b[22m\u001b[39mcould not load symbol \"g_bookmark_file_get_type\":\n",
      "dlsym(0x8f4cd690, g_bookmark_file_get_type): symbol not foundcould not load symbol \"g_bookmark_file_get_type\":\n",
      "dlsym(0x8f4cd690, g_bookmark_file_get_type): symbol not found\n",
      "Stacktrace:\n",
      " "
     ]
    },
    {
     "data": {
      "text/plain": [
       "GtkWindowLeaf(accessible-role=GTK_ACCESSIBLE_ROLE_WINDOW, name=\"\", parent, root, width-request=-1, height-request=-1, visible=true, sensitive=true, can-focus=true, has-focus=false, can-target=true, focus-on-click=true, focusable=false, has-default=false, receives-default=false, cursor, has-tooltip=false, tooltip-markup=nothing, tooltip-text=nothing, opacity=1.000000, overflow=GTK_OVERFLOW_HIDDEN, halign=GTK_ALIGN_FILL, valign=GTK_ALIGN_FILL, margin-start=0, margin-end=0, margin-top=0, margin-bottom=0, hexpand=false, vexpand=false, hexpand-set=false, vexpand-set=false, scale-factor=2, css-name=\"window\", css-classes, layout-manager, title=\"2 Makie widgets in one window\", resizable=true, modal=false, default-width=600, default-height=600, destroy-with-parent=false, hide-on-close=false, icon-name=nothing, display, decorated=true, deletable=true, transient-for, application, default-widget, focus-widget, child, titlebar, handle-menubar-accel=true, is-active=false, startup-id, mnemonics-visible=false, focus-visible=false, maximized=false, fullscreened=false)"
      ]
     },
     "execution_count": 3,
     "metadata": {},
     "output_type": "execute_result"
    },
    {
     "name": "stderr",
     "output_type": "stream",
     "text": [
      " [1] \n",
      "Stacktrace:\u001b[0m\u001b[1mg_type\u001b[22m\n",
      "\u001b[0m\u001b[1m(\u001b[22m \u001b[90m#unused#\u001b[39m"
     ]
    },
    {
     "name": "stdout",
     "output_type": "stream",
     "text": [
      "\n",
      "\n"
     ]
    },
    {
     "name": "stderr",
     "output_type": "stream",
     "text": [
      " [1]:: \u001b[0mType\u001b[0m\u001b[1mg_type\u001b[22m\u001b[90m{Gtk4.GLib.GBookmarkFile}\u001b[39m\u001b[0m\u001b[1m(\u001b[22m\u001b[0m\u001b[1m)\u001b[22m\u001b[90m#unused#\u001b[39m\n",
      "::\u001b[90m    @\u001b[39m\u001b[0mType \u001b[90m{Gtk4.GLib.GBookmarkFile}\u001b[39m\u001b[35mGtk4.GLib\u001b[39m\u001b[0m\u001b[1m)\u001b[22m \n",
      "\u001b[90m~/.julia/packages/Gtk4/qY7HD/src/gen/\u001b[39m\u001b[90m    @\u001b[39m\u001b[90m\u001b[4mglib_structs:7\u001b[24m\u001b[39m \u001b[35mGtk4.GLib\u001b[39m\n",
      "  \u001b[90m~/.julia/packages/Gtk4/qY7HD/src/gen/\u001b[39m [2]\u001b[90m\u001b[4mglib_structs:7\u001b[24m\u001b[39m \u001b[0m\u001b[1mgetindex\u001b[22m\n",
      "\u001b[0m\u001b[1m(\u001b[22m \u001b[90mgv\u001b[39m [2]:: \u001b[0mBase.RefValue\u001b[0m\u001b[1mgetindex\u001b[22m\u001b[90m{Gtk4.GLib.GValue}\u001b[39m\u001b[0m\u001b[1m(\u001b[22m, \u001b[90mgv\u001b[39m\u001b[90m#unused#\u001b[39m::::\u001b[0mBase.RefValue\u001b[0mType\u001b[90m{Gtk4.GLib.GValue}\u001b[39m\u001b[90m{Any}\u001b[39m, \u001b[0m\u001b[1m)\u001b[22m\u001b[90m#unused#\u001b[39m\n",
      "::\u001b[90m    @\u001b[39m\u001b[0mType \u001b[90m{Any}\u001b[39m\u001b[35mGtk4.GLib\u001b[39m\u001b[0m\u001b[1m)\u001b[22m \n",
      "\u001b[90m~/.julia/packages/Gtk4/qY7HD/src/GLib/\u001b[39m\u001b[90m    @\u001b[39m\u001b[90m\u001b[4mgvalues.jl:234\u001b[24m\u001b[39m \u001b[35mGtk4.GLib\u001b[39m\n",
      "  \u001b[90m~/.julia/packages/Gtk4/qY7HD/src/GLib/\u001b[39m [3]\u001b[90m\u001b[4mgvalues.jl:234\u001b[24m\u001b[39m \u001b[0m\u001b[1m(::Gtk4.GLib.var\"#130#132\"{Ptr{Gtk4.GLib.GValue}, UInt32, Ptr{Gtk4.GLib.GValue}, Vector{Any}, Gtk4Makie.var\"#21#22\"{Gtk4Makie.GtkGLMakie, Makie.FigureAxisPlot}})\u001b[22m\n",
      "\u001b[0m\u001b[1m(\u001b[22m \u001b[0m\u001b[1m)\u001b[22m [3]\n",
      " \u001b[90m    @\u001b[39m\u001b[0m\u001b[1m(::Gtk4.GLib.var\"#130#132\"{Ptr{Gtk4.GLib.GValue}, UInt32, Ptr{Gtk4.GLib.GValue}, Vector{Any}, Gtk4Makie.var\"#21#22\"{Gtk4Makie.GtkGLMakie, Makie.FigureAxisPlot}})\u001b[22m \u001b[0m\u001b[1m(\u001b[22m\u001b[35mGtk4.GLib\u001b[39m\u001b[0m\u001b[1m)\u001b[22m \n",
      "\u001b[90m~/.julia/packages/Gtk4/qY7HD/src/GLib/\u001b[39m\u001b[90m    @\u001b[39m\u001b[90m\u001b[4msignals.jl:59\u001b[24m\u001b[39m \u001b[35mGtk4.GLib\u001b[39m\n",
      "  \u001b[90m~/.julia/packages/Gtk4/qY7HD/src/GLib/\u001b[39m [4]\u001b[90m\u001b[4msignals.jl:59\u001b[24m\u001b[39m \u001b[0m\u001b[1mg_siginterruptible\u001b[22m\n",
      "\u001b[0m\u001b[1m(\u001b[22m \u001b[90mf\u001b[39m [4]:: \u001b[0mGtk4.GLib.var\"#130#132\"\u001b[0m\u001b[1mg_siginterruptible\u001b[22m\u001b[90m{Ptr{Gtk4.GLib.GValue}, UInt32, Ptr{Gtk4.GLib.GValue}, Vector{Any}, Gtk4Makie.var\"#21#22\"{Gtk4Makie.GtkGLMakie, Makie.FigureAxisPlot}}\u001b[39m\u001b[0m\u001b[1m(\u001b[22m, \u001b[90mf\u001b[39m\u001b[90mcb\u001b[39m::::\u001b[0mGtk4.GLib.var\"#130#132\"\u001b[0mAny\u001b[90m{Ptr{Gtk4.GLib.GValue}, UInt32, Ptr{Gtk4.GLib.GValue}, Vector{Any}, Gtk4Makie.var\"#21#22\"{Gtk4Makie.GtkGLMakie, Makie.FigureAxisPlot}}\u001b[39m\u001b[0m\u001b[1m)\u001b[22m, \n",
      "\u001b[90mcb\u001b[39m\u001b[90m    @\u001b[39m:: \u001b[0mAny\u001b[35mGtk4.GLib\u001b[39m\u001b[0m\u001b[1m)\u001b[22m \n",
      "\u001b[90m~/.julia/packages/Gtk4/qY7HD/src/GLib/\u001b[39m\u001b[90m    @\u001b[39m\u001b[90m\u001b[4msignals.jl:224\u001b[24m\u001b[39m \u001b[35mGtk4.GLib\u001b[39m\n",
      "  \u001b[90m~/.julia/packages/Gtk4/qY7HD/src/GLib/\u001b[39m [5]\u001b[90m\u001b[4msignals.jl:224\u001b[24m\u001b[39m \u001b[0m\u001b[1mGClosureMarshal\u001b[22m\n",
      "\u001b[0m\u001b[1m(\u001b[22m \u001b[90mclosuref\u001b[39m [5]:: \u001b[0mPtr\u001b[0m\u001b[1mGClosureMarshal\u001b[22m\u001b[90m{Nothing}\u001b[39m\u001b[0m\u001b[1m(\u001b[22m, \u001b[90mclosuref\u001b[39m\u001b[90mreturn_value\u001b[39m::::\u001b[0mPtr\u001b[0mPtr\u001b[90m{Nothing}\u001b[39m\u001b[90m{Gtk4.GLib.GValue}\u001b[39m, , \u001b[90mreturn_value\u001b[39m\u001b[90mn_param_values\u001b[39m::::\u001b[0mPtr\u001b[0mUInt32\u001b[90m{Gtk4.GLib.GValue}\u001b[39m, , \u001b[90mparam_values\u001b[39m\u001b[90mn_param_values\u001b[39m::::\u001b[0mPtr\u001b[0mUInt32\u001b[90m{Gtk4.GLib.GValue}\u001b[39m, , \u001b[90mparam_values\u001b[39m\u001b[90minvocation_hint\u001b[39m::::\u001b[0mPtr\u001b[0mPtr\u001b[90m{Gtk4.GLib.GValue}\u001b[39m\u001b[90m{Nothing}\u001b[39m, , \u001b[90minvocation_hint\u001b[39m\u001b[90mmarshal_data\u001b[39m::::\u001b[0mPtr\u001b[0mPtr\u001b[90m{Nothing}\u001b[39m\u001b[90m{Nothing}\u001b[39m, \u001b[0m\u001b[1m)\u001b[22m\u001b[90mmarshal_data\u001b[39m\n",
      "::\u001b[90m    @\u001b[39m\u001b[0mPtr \u001b[90m{Nothing}\u001b[39m\u001b[35mGtk4.GLib\u001b[39m\u001b[0m\u001b[1m)\u001b[22m \n",
      "\u001b[90m~/.julia/packages/Gtk4/qY7HD/src/GLib/\u001b[39m\u001b[90m    @\u001b[39m\u001b[90m\u001b[4msignals.jl:56\u001b[24m\u001b[39m \u001b[35mGtk4.GLib\u001b[39m\n",
      "  \u001b[90m~/.julia/packages/Gtk4/qY7HD/src/GLib/\u001b[39m [6]\u001b[90m\u001b[4msignals.jl:56\u001b[24m\u001b[39m \u001b[0m\u001b[1mshow\u001b[22m\n",
      "\n",
      " \u001b[90m    @\u001b[39m [6]  \u001b[90m~/.julia/packages/Gtk4/qY7HD/src/gen/\u001b[39m\u001b[0m\u001b[1mshow\u001b[22m\u001b[90m\u001b[4mgtk4_methods:13734\u001b[24m\u001b[39m\n",
      "\u001b[90m [inlined]\u001b[39m\u001b[90m    @\u001b[39m\n",
      "  \u001b[90m~/.julia/packages/Gtk4/qY7HD/src/gen/\u001b[39m [7]\u001b[90m\u001b[4mgtk4_methods:13734\u001b[24m\u001b[39m \u001b[90m [inlined]\u001b[39m\u001b[0m\u001b[1mshow\u001b[22m\n",
      "\u001b[0m\u001b[1m(\u001b[22m \u001b[90mw\u001b[39m [7]:: \u001b[0mGtkWindowLeaf\u001b[0m\u001b[1mshow\u001b[22m\u001b[0m\u001b[1m)\u001b[22m\u001b[0m\u001b[1m(\u001b[22m\n",
      "\u001b[90mw\u001b[39m\u001b[90m    @\u001b[39m:: \u001b[0mGtkWindowLeaf\u001b[35mGtk4\u001b[39m\u001b[0m\u001b[1m)\u001b[22m \n",
      "\u001b[90m~/.julia/packages/Gtk4/qY7HD/src/\u001b[39m\u001b[90m    @\u001b[39m\u001b[90m\u001b[4mbase.jl:89\u001b[24m\u001b[39m \u001b[35mGtk4\u001b[39m\n",
      "  \u001b[90m~/.julia/packages/Gtk4/qY7HD/src/\u001b[39m [8]\u001b[90m\u001b[4mbase.jl:89\u001b[24m\u001b[39m top-level scope\n",
      "\n",
      " \u001b[90m    @\u001b[39m [8]  \u001b[90m\u001b[4mIn[3]:15\u001b[24m\u001b[39mtop-level scope\n",
      "\n",
      "\u001b[90m    @\u001b[39m   [9]\u001b[90m\u001b[4mIn[3]:15\u001b[24m\u001b[39m \u001b[0m\u001b[1meval\u001b[22m\n",
      "\n",
      " \u001b[90m    @\u001b[39m [9]  \u001b[90m./\u001b[39m\u001b[0m\u001b[1meval\u001b[22m\u001b[90m\u001b[4mboot.jl:370\u001b[24m\u001b[39m\n",
      "\u001b[90m [inlined]\u001b[39m\u001b[90m    @\u001b[39m\n",
      "  \u001b[90m./\u001b[39m[10]\u001b[90m\u001b[4mboot.jl:370\u001b[24m\u001b[39m \u001b[90m [inlined]\u001b[39m\u001b[0m\u001b[1minclude_string\u001b[22m\n",
      "\u001b[0m\u001b[1m(\u001b[22m \u001b[90mmapexpr\u001b[39m[10]:: \u001b[0mtypeof(REPL.softscope)\u001b[0m\u001b[1minclude_string\u001b[22m, \u001b[0m\u001b[1m(\u001b[22m\u001b[90mmod\u001b[39m\u001b[90mmapexpr\u001b[39m::::\u001b[0mModule\u001b[0mtypeof(REPL.softscope), , \u001b[90mcode\u001b[39m\u001b[90mmod\u001b[39m::::\u001b[0mString\u001b[0mModule, , \u001b[90mfilename\u001b[39m\u001b[90mcode\u001b[39m::::\u001b[0mString\u001b[0mString\u001b[0m\u001b[1m)\u001b[22m, \n",
      "\u001b[90mfilename\u001b[39m\u001b[90m    @\u001b[39m:: \u001b[0mString\u001b[90mBase\u001b[39m\u001b[0m\u001b[1m)\u001b[22m \n",
      "\u001b[90m./\u001b[39m\u001b[90m    @\u001b[39m\u001b[90m\u001b[4mloading.jl:1903\u001b[24m\u001b[39m \u001b[90mBase\u001b[39m\n",
      "  \u001b[90m./\u001b[39m[11]\u001b[90m\u001b[4mloading.jl:1903\u001b[24m\u001b[39m \u001b[0m\u001b[1msoftscope_include_string\u001b[22m\n",
      "\u001b[0m\u001b[1m(\u001b[22m \u001b[90mm\u001b[39m[11]:: \u001b[0mModule\u001b[0m\u001b[1msoftscope_include_string\u001b[22m, \u001b[0m\u001b[1m(\u001b[22m\u001b[90mcode\u001b[39m\u001b[90mm\u001b[39m::::\u001b[0mString\u001b[0mModule, , \u001b[90mfilename\u001b[39m\u001b[90mcode\u001b[39m::::\u001b[0mString\u001b[0mString\u001b[0m\u001b[1m)\u001b[22m, \n",
      "\u001b[90mfilename\u001b[39m\u001b[90m    @\u001b[39m:: \u001b[0mString\u001b[36mSoftGlobalScope\u001b[39m\u001b[0m\u001b[1m)\u001b[22m \n",
      "\u001b[90m~/.julia/packages/SoftGlobalScope/u4UzH/src/\u001b[39m\u001b[90m    @\u001b[39m\u001b[90m\u001b[4mSoftGlobalScope.jl:65\u001b[24m\u001b[39m \u001b[36mSoftGlobalScope\u001b[39m\n",
      "  \u001b[90m~/.julia/packages/SoftGlobalScope/u4UzH/src/\u001b[39m[12]\u001b[90m\u001b[4mSoftGlobalScope.jl:65\u001b[24m\u001b[39m \u001b[0m\u001b[1mexecute_request\u001b[22m\n",
      "\u001b[0m\u001b[1m(\u001b[22m \u001b[90msocket\u001b[39m[12]:: \u001b[0mZMQ.Socket\u001b[0m\u001b[1mexecute_request\u001b[22m, \u001b[0m\u001b[1m(\u001b[22m\u001b[90mmsg\u001b[39m\u001b[90msocket\u001b[39m::::\u001b[0mIJulia.Msg\u001b[0mZMQ.Socket\u001b[0m\u001b[1m)\u001b[22m, \n",
      "\u001b[90mmsg\u001b[39m\u001b[90m    @\u001b[39m:: \u001b[0mIJulia.Msg\u001b[32mIJulia\u001b[39m\u001b[0m\u001b[1m)\u001b[22m \n",
      "\u001b[90m~/.julia/packages/IJulia/Vo51o/src/\u001b[39m\u001b[90m    @\u001b[39m\u001b[90m\u001b[4mexecute_request.jl:67\u001b[24m\u001b[39m \u001b[32mIJulia\u001b[39m\n",
      "  \u001b[90m~/.julia/packages/IJulia/Vo51o/src/\u001b[39m[13]\u001b[90m\u001b[4mexecute_request.jl:67\u001b[24m\u001b[39m \u001b[0m\u001b[1m#invokelatest#2\u001b[22m\n",
      "\n",
      " \u001b[90m    @\u001b[39m[13]  \u001b[90m./\u001b[39m\u001b[0m\u001b[1m#invokelatest#2\u001b[22m\u001b[90m\u001b[4messentials.jl:819\u001b[24m\u001b[39m\n",
      "\u001b[90m [inlined]\u001b[39m\u001b[90m    @\u001b[39m\n",
      "  \u001b[90m./\u001b[39m[14]\u001b[90m\u001b[4messentials.jl:819\u001b[24m\u001b[39m \u001b[90m [inlined]\u001b[39m\u001b[0m\u001b[1minvokelatest\u001b[22m\n",
      "\n",
      " \u001b[90m    @\u001b[39m[14]  \u001b[90m./\u001b[39m\u001b[0m\u001b[1minvokelatest\u001b[22m\u001b[90m\u001b[4messentials.jl:816\u001b[24m\u001b[39m\n",
      "\u001b[90m [inlined]\u001b[39m\u001b[90m    @\u001b[39m\n",
      "  \u001b[90m./\u001b[39m[15]\u001b[90m\u001b[4messentials.jl:816\u001b[24m\u001b[39m \u001b[90m [inlined]\u001b[39m\u001b[0m\u001b[1meventloop\u001b[22m\n",
      "\u001b[0m\u001b[1m(\u001b[22m \u001b[90msocket\u001b[39m[15]:: \u001b[0mZMQ.Socket\u001b[0m\u001b[1meventloop\u001b[22m\u001b[0m\u001b[1m)\u001b[22m\u001b[0m\u001b[1m(\u001b[22m\n",
      "\u001b[90msocket\u001b[39m\u001b[90m    @\u001b[39m:: \u001b[0mZMQ.Socket\u001b[32mIJulia\u001b[39m\u001b[0m\u001b[1m)\u001b[22m \n",
      "\u001b[90m~/.julia/packages/IJulia/Vo51o/src/\u001b[39m\u001b[90m    @\u001b[39m\u001b[90m\u001b[4meventloop.jl:8\u001b[24m\u001b[39m \u001b[32mIJulia\u001b[39m\n",
      "  \u001b[90m~/.julia/packages/IJulia/Vo51o/src/\u001b[39m[16]\u001b[90m\u001b[4meventloop.jl:8\u001b[24m\u001b[39m \u001b[0m\u001b[1m(::IJulia.var\"#15#18\")\u001b[22m\n",
      "\u001b[0m\u001b[1m(\u001b[22m \u001b[0m\u001b[1m)\u001b[22m[16]\n",
      " \u001b[90m    @\u001b[39m\u001b[0m\u001b[1m(::IJulia.var\"#15#18\")\u001b[22m \u001b[0m\u001b[1m(\u001b[22m\u001b[32mIJulia\u001b[39m\u001b[0m\u001b[1m)\u001b[22m \n",
      "\u001b[90m./\u001b[39m\u001b[90m    @\u001b[39m\u001b[90m\u001b[4mtask.jl:514\u001b[24m\u001b[39m \u001b[32mIJulia\u001b[39m\n",
      " \u001b[90m./\u001b[39m\u001b[90m\u001b[4mtask.jl:514\u001b[24m\u001b[39m\n"
     ]
    }
   ],
   "source": [
    "using Gtk4Makie, Gtk4\n",
    "using GLMakie\n",
    "\n",
    "# Simple example using GtkMakieWidget\n",
    "\n",
    "win = GtkWindow(\"2 Makie widgets in one window\", 600, 600, true, false)\n",
    "p=GtkPaned(:v;position=200)\n",
    "p[1]=GtkMakieWidget()\n",
    "p[2]=GtkMakieWidget()\n",
    "win[]=p\n",
    "\n",
    "push!(p[1],lines(rand(10)))\n",
    "push!(p[2],scatter(rand(10)))\n",
    "\n",
    "show(win)"
   ]
  },
  {
   "cell_type": "code",
   "execution_count": 11,
   "id": "2cf517ca-e002-495d-a8b0-33ec98422c46",
   "metadata": {},
   "outputs": [
    {
     "name": "stderr",
     "output_type": "stream",
     "text": [
      "\u001b[32m\u001b[1m    Updating\u001b[22m\u001b[39m registry at `~/.julia/registries/General.toml`\n",
      "\u001b[32m\u001b[1m  No Changes\u001b[22m\u001b[39m to `~/Documents/eth_courses/notebooks/visualization/makie_demos/Project.toml`\n",
      "\u001b[32m\u001b[1m  No Changes\u001b[22m\u001b[39m to `~/Documents/eth_courses/notebooks/visualization/makie_demos/Manifest.toml`\n"
     ]
    }
   ],
   "source": [
    "using Pkg\n",
    "Pkg.update(\"Gtk4\")"
   ]
  },
  {
   "cell_type": "markdown",
   "id": "ddcff130",
   "metadata": {},
   "source": [
    "### cabvas documentation example with box"
   ]
  },
  {
   "cell_type": "code",
   "execution_count": 32,
   "id": "061d1478",
   "metadata": {},
   "outputs": [],
   "source": [
    "using Graphics\n",
    "height = Graphics.height\n",
    "width = Graphics.width\n",
    "\n",
    "c = GtkCanvas()\n",
    "c.hexpand = c.vexpand = true\n",
    "window = GtkWindow(\"Canvas\")\n",
    "\n",
    "@guarded draw(c) do widget\n",
    "    ctx = getgc(c)\n",
    "    h = height(c)\n",
    "    w = width(c)\n",
    "    # Paint red rectangle\n",
    "    rectangle(ctx, 0, 0, w, h/2)\n",
    "    set_source_rgb(ctx, 1, 0, 0)\n",
    "    fill(ctx)\n",
    "    # Paint blue rectangle\n",
    "    rectangle(ctx, 0, 3h/4, w, h/4)\n",
    "    set_source_rgb(ctx, 0, 0, 1)\n",
    "    fill(ctx)\n",
    "end\n",
    "\n",
    "#\n",
    "box = GtkBox(:v) \n",
    "push!(box, c)\n",
    "\n",
    "slider1 = GtkScale(:h, 0:10)   \n",
    "push!(box, slider1)\n",
    "\n",
    "push!(window,box)\n",
    "\n",
    "show(window); # trigger rendering"
   ]
  },
  {
   "cell_type": "markdown",
   "id": "e1fbc9d9",
   "metadata": {},
   "source": [
    "# GTK Demo App"
   ]
  },
  {
   "cell_type": "code",
   "execution_count": 8,
   "id": "e498e5d9",
   "metadata": {},
   "outputs": [
    {
     "ename": "LoadError",
     "evalue": "MethodError: no method matching GtkCssProvider(; filename::String)\n\n\u001b[0mClosest candidates are:\n\u001b[0m  GtkCssProvider()\u001b[91m got unsupported keyword argument \"filename\"\u001b[39m\n\u001b[0m\u001b[90m   @\u001b[39m \u001b[35mGtk4\u001b[39m \u001b[90m~/.julia/packages/Gtk4/G5ogj/src/gen/\u001b[39m\u001b[90m\u001b[4mgtk4_structs:4244\u001b[24m\u001b[39m\n\u001b[0m  GtkCssProvider(\u001b[91m::Any\u001b[39m)\u001b[91m got unsupported keyword argument \"filename\"\u001b[39m\n\u001b[0m\u001b[90m   @\u001b[39m \u001b[35mGtk4\u001b[39m \u001b[90m~/.julia/packages/Gtk4/G5ogj/src/\u001b[39m\u001b[90m\u001b[4mbase.jl:188\u001b[24m\u001b[39m\n\u001b[0m  GtkCssProvider(\u001b[91m::Any\u001b[39m, \u001b[91m::Any\u001b[39m)\u001b[91m got unsupported keyword argument \"filename\"\u001b[39m\n\u001b[0m\u001b[90m   @\u001b[39m \u001b[35mGtk4\u001b[39m \u001b[90m~/.julia/packages/Gtk4/G5ogj/src/\u001b[39m\u001b[90m\u001b[4mbase.jl:188\u001b[24m\u001b[39m\n",
     "output_type": "error",
     "traceback": [
      "MethodError: no method matching GtkCssProvider(; filename::String)\n\n\u001b[0mClosest candidates are:\n\u001b[0m  GtkCssProvider()\u001b[91m got unsupported keyword argument \"filename\"\u001b[39m\n\u001b[0m\u001b[90m   @\u001b[39m \u001b[35mGtk4\u001b[39m \u001b[90m~/.julia/packages/Gtk4/G5ogj/src/gen/\u001b[39m\u001b[90m\u001b[4mgtk4_structs:4244\u001b[24m\u001b[39m\n\u001b[0m  GtkCssProvider(\u001b[91m::Any\u001b[39m)\u001b[91m got unsupported keyword argument \"filename\"\u001b[39m\n\u001b[0m\u001b[90m   @\u001b[39m \u001b[35mGtk4\u001b[39m \u001b[90m~/.julia/packages/Gtk4/G5ogj/src/\u001b[39m\u001b[90m\u001b[4mbase.jl:188\u001b[24m\u001b[39m\n\u001b[0m  GtkCssProvider(\u001b[91m::Any\u001b[39m, \u001b[91m::Any\u001b[39m)\u001b[91m got unsupported keyword argument \"filename\"\u001b[39m\n\u001b[0m\u001b[90m   @\u001b[39m \u001b[35mGtk4\u001b[39m \u001b[90m~/.julia/packages/Gtk4/G5ogj/src/\u001b[39m\u001b[90m\u001b[4mbase.jl:188\u001b[24m\u001b[39m\n",
      "",
      "Stacktrace:",
      " [1] top-level scope",
      "   @ In[8]:5"
     ]
    }
   ],
   "source": [
    "window = GtkWindow(\"A new window\", 800, 800)\n",
    "\n",
    "# add css file\n",
    "style_file = joinpath(dirname(Base.source_path()), \"style.css\")\n",
    "provider = GtkCssProvider(filename = style_file)\n",
    "Gtk4.G_.add_provider_for_display(Gtk4.G_.get_display(window), GtkStyleProvider(provider), 1)\n",
    "\n",
    "hbox = GtkBox(:h)\n",
    "menu_btn = Gtk4.G_.MenuButton_new()\n",
    "menu_btn.icon_name = \"open-menu\"\n",
    "\n",
    "popover = Gtk4.G_.Popover_new()\n",
    "set_gtk_property!(menu_btn, :popover, popover)\n",
    "label1 = GtkLabel(\"selva\")\n",
    "set_gtk_property!(popover, :child, label1)\n",
    "set_gtk_property!(popover, :has_arrow, false)\n",
    "\n",
    "top_stack = GtkStack()\n",
    "top_stack_sw = GtkStackSwitcher()\n",
    "header = GtkHeaderBar()\n",
    "\n",
    "push!(hbox, top_stack_sw)\n",
    "\n",
    "# create dropdown menu\n",
    "choices = [\"plotter\", \"logger\"]\n",
    "dd = GtkDropDown(choices)\n",
    "# Let's set the active element to be \"two\", keeping in mind that the \"selected\" property uses 0 based indexing\n",
    "dd.selected = 0\n",
    "\n",
    "# create menu bar\n",
    "menu = Gtk4.GMenu()\n",
    "file = GMenuItem(\"file\")\n",
    "filemenu = GMenu(file)\n",
    "new_ = GMenuItem(\"New\")\n",
    "push!(filemenu, new_)\n",
    "push!(menu, file)\n",
    "\n",
    "menu_bar = Gtk4.G_.PopoverMenuBar_new_from_model(menu)\n",
    "\n",
    "signal_connect(dd, \"notify::selected\") do widget, others...\n",
    "  # get the active index\n",
    "  idx = dd.selected\n",
    "  # get the active string\n",
    "  str = Gtk4.selected_string(dd)\n",
    "  println(\"Active element is \\\"$str\\\" at index $idx\")\n",
    "end\n",
    "\n",
    "# add menu button to end of the header \n",
    "Gtk4.G_.pack_end(header, menu_btn)\n",
    "Gtk4.G_.pack_end(header, dd)\n",
    "\n",
    "# add dropdown menu to start of the header \n",
    "Gtk4.G_.pack_start(header, menu_bar)\n",
    "\n",
    "header.title_widget = hbox\n",
    "\n",
    "\n",
    "# add clidren to stack \n",
    "slider1 = GtkScale(:h, 0:10)   \n",
    "# Gtk4.G_.add_child(top_stack, slider1)\n",
    "\n",
    "\n",
    "vbox = GtkBox(:v)\n",
    "push!(vbox, header)\n",
    "push!(top_stack, GtkLabel(\"Controller\"), \"id1\", \"Controller\")  # first string is an id, second is a label\n",
    "push!(top_stack, GtkLabel(\"Estimator\"), \"id2\", \"Estimator\") # widget can be retrieved using s[id]\n",
    "\n",
    "# assisgn stack to stackswotcher\n",
    "set_gtk_property!(top_stack_sw, :stack, top_stack)\n",
    "\n",
    "push!(window, vbox);"
   ]
  },
  {
   "cell_type": "markdown",
   "id": "801eddf0",
   "metadata": {},
   "source": [
    "# Changing colours"
   ]
  },
  {
   "cell_type": "markdown",
   "id": "699dc146",
   "metadata": {},
   "source": [
    "### CHange background colour"
   ]
  },
  {
   "cell_type": "code",
   "execution_count": 23,
   "id": "e5bb979d",
   "metadata": {},
   "outputs": [
    {
     "name": "stderr",
     "output_type": "stream",
     "text": [
      "\n",
      "(process:1573): Gtk-WARNING **: 23:24:47.863: Theme parser error: <data>:1:12-13: Expected a valid selector\n",
      "\n",
      "(process:1573): Gdk-CRITICAL **: 23:40:38.802: gdk_display_link_source_pause: assertion 'source->paused == FALSE' failed\n",
      "\n",
      "(process:1573): Gdk-CRITICAL **: 23:40:47.517: gdk_display_link_source_pause: assertion 'source->paused == FALSE' failed\n",
      "\n",
      "(process:1573): Gdk-CRITICAL **: 23:40:52.937: gdk_display_link_source_pause: assertion 'source->paused == FALSE' failed\n",
      "\n",
      "(process:1573): Gdk-CRITICAL **: 23:40:57.716: gdk_display_link_source_pause: assertion 'source->paused == FALSE' failed\n"
     ]
    }
   ],
   "source": [
    "window = GtkWindow()\n",
    "\n",
    "nb = GtkNotebook()\n",
    "set_gtk_property!(nb, :name, \"nb1\")\n",
    "\n",
    "frame = GtkFrame()\n",
    "set_gtk_property!(frame, :name, \"frame1\")\n",
    "\n",
    "provider = GtkCssProvider(\"makie_demos/style1.css\")\n",
    "# Gtk4.G_.add_provider_for_display(Gtk4.G_.get_display(window), GtkStyleProvider(provider), 1)\n",
    "\n",
    "# push!(window, nb)\n",
    "# push!(window, frame)\n",
    "\n",
    "show(window);"
   ]
  },
  {
   "cell_type": "markdown",
   "id": "a231fd00-5d08-439e-b02a-7ba2b5fb7d6f",
   "metadata": {},
   "source": [
    "# Plain dialogs"
   ]
  },
  {
   "cell_type": "code",
   "execution_count": 13,
   "id": "0d5eb777-4734-4335-99c4-4fb20a480e13",
   "metadata": {},
   "outputs": [
    {
     "data": {
      "text/plain": [
       "\"\""
      ]
     },
     "execution_count": 13,
     "metadata": {},
     "output_type": "execute_result"
    }
   ],
   "source": [
    "open_dialog(\"Pick a file\")"
   ]
  }
 ],
 "metadata": {
  "kernelspec": {
   "display_name": "Julia 1.9.1",
   "language": "julia",
   "name": "julia-1.9"
  },
  "language_info": {
   "file_extension": ".jl",
   "mimetype": "application/julia",
   "name": "julia",
   "version": "1.9.3"
  }
 },
 "nbformat": 4,
 "nbformat_minor": 5
}
