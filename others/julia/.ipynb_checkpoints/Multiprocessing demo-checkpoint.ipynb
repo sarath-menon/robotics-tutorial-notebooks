{
 "cells": [
  {
   "cell_type": "code",
   "execution_count": 1,
   "id": "de3cd382-1f01-4cc5-b558-116722ca0ac8",
   "metadata": {},
   "outputs": [
    {
     "name": "stderr",
     "output_type": "stream",
     "text": [
      "\u001b[32m\u001b[1m  Activating\u001b[22m\u001b[39m project at `~/Documents/eth_courses/notebooks/others/julia`\n"
     ]
    }
   ],
   "source": [
    "import Pkg; Pkg.activate(@__DIR__); Pkg.instantiate();"
   ]
  },
  {
   "cell_type": "code",
   "execution_count": 4,
   "id": "6d1ddb8c-3c6b-493a-aebe-88cada192b94",
   "metadata": {},
   "outputs": [],
   "source": [
    "using Distributed"
   ]
  },
  {
   "cell_type": "code",
   "execution_count": 8,
   "id": "2896545a-17f1-41e7-9659-bae9b7c5be79",
   "metadata": {},
   "outputs": [
    {
     "data": {
      "text/plain": [
       "7"
      ]
     },
     "execution_count": 8,
     "metadata": {},
     "output_type": "execute_result"
    }
   ],
   "source": [
    "# add worker processes\n",
    "addprocs(3)\n",
    "\n",
    "# get total no. of processes available\n",
    "nprocs()"
   ]
  },
  {
   "cell_type": "code",
   "execution_count": 20,
   "id": "4d4065b2-7143-4242-8efa-52fd79628c2a",
   "metadata": {},
   "outputs": [
    {
     "data": {
      "text/plain": [
       "3-element Vector{Int64}:\n",
       " 2\n",
       " 3\n",
       " 4"
      ]
     },
     "execution_count": 20,
     "metadata": {},
     "output_type": "execute_result"
    }
   ],
   "source": [
    "# see list of worker processes\n",
    "workers_vec = workers()"
   ]
  },
  {
   "cell_type": "code",
   "execution_count": 15,
   "id": "d1e4b4a4-9972-463b-bea1-53fae7e75c11",
   "metadata": {},
   "outputs": [],
   "source": [
    "# to remove worker process\n",
    "# rmprocs(4)"
   ]
  },
  {
   "cell_type": "markdown",
   "id": "9477975c-796e-4c2c-9fe4-133f933701dd",
   "metadata": {},
   "source": [
    "## Giving access to packages"
   ]
  },
  {
   "cell_type": "code",
   "execution_count": 34,
   "id": "af4819b1-5891-4a39-8fd4-83c8edc5d311",
   "metadata": {},
   "outputs": [],
   "source": [
    "# give all processes access to \n",
    "@everywhere using LinearAlgebra\n",
    "\n",
    "# give specific process access to a library \n",
    "@everywhere using LinearAlgebra"
   ]
  },
  {
   "cell_type": "markdown",
   "id": "c3b6af4c-04de-4adb-9e53-c538ebe212c7",
   "metadata": {},
   "source": [
    "### give access to external packages"
   ]
  },
  {
   "cell_type": "code",
   "execution_count": 40,
   "id": "9195849d-ed63-48f9-b251-163e43eb3122",
   "metadata": {},
   "outputs": [
    {
     "name": "stdout",
     "output_type": "stream",
     "text": [
      "      From worker 4:\t\u001b[32m\u001b[1m  Activating\u001b[22m\u001b[39m project at `~/Documents/eth_courses/notebooks/others/julia`\n",
      "      From worker 2:\t\u001b[32m\u001b[1m  Activating\u001b[22m\u001b[39m project at `~/Documents/eth_courses/notebooks/others/julia`\n",
      "      From worker 3:\t\u001b[32m\u001b[1m  Activating\u001b[22m\u001b[39m project at `~/Documents/eth_courses/notebooks/others/julia`\n"
     ]
    },
    {
     "name": "stderr",
     "output_type": "stream",
     "text": [
      "\u001b[32m\u001b[1m  Activating\u001b[22m\u001b[39m project at `~/Documents/eth_courses/notebooks/others/julia`\n"
     ]
    }
   ],
   "source": [
    "# first, give access to Pkg\n",
    "@everywhere using Pkg\n",
    "@everywhere Pkg.activate(\"\")\n",
    "\n",
    "@everywhere using GLMakie"
   ]
  },
  {
   "cell_type": "markdown",
   "id": "4691ac4c-7911-4ad1-b1f9-ac17ae5badc4",
   "metadata": {},
   "source": [
    "## Assign task to worker"
   ]
  },
  {
   "cell_type": "code",
   "execution_count": 33,
   "id": "e79cb342-0ba3-4eb5-8482-67891e5c2028",
   "metadata": {},
   "outputs": [
    {
     "data": {
      "text/plain": [
       "51.576497890602276"
      ]
     },
     "execution_count": 33,
     "metadata": {},
     "output_type": "execute_result"
    }
   ],
   "source": [
    "# assign\n",
    "result = @spawnat workers_vec[1] sum(rand(100))\n",
    "\n",
    "# fetch result\n",
    "fetch(result)"
   ]
  },
  {
   "cell_type": "markdown",
   "id": "3ffe91ab-15a6-497f-ba02-7d2dd7021763",
   "metadata": {},
   "source": [
    "## Shared memory"
   ]
  },
  {
   "cell_type": "code",
   "execution_count": 36,
   "id": "f5924b1d-b1a7-4472-96f4-4e9c7cf3b6d9",
   "metadata": {
    "scrolled": true
   },
   "outputs": [
    {
     "data": {
      "text/plain": [
       "10-element SharedVector{Float64}:\n",
       " 0.6267187224982268\n",
       " 0.8817363828215531\n",
       " 0.011293757847060437\n",
       " 0.09456161388462736\n",
       " 0.03124374948989095\n",
       " 0.24056898671511173\n",
       " 0.8041669950063928\n",
       " 0.3187918270663206\n",
       " 0.9543884579779982\n",
       " 0.24687767561435203"
      ]
     },
     "execution_count": 36,
     "metadata": {},
     "output_type": "execute_result"
    }
   ],
   "source": [
    "using SharedArrays\n",
    "\n",
    "data = SharedArray(rand(10))"
   ]
  },
  {
   "cell_type": "code",
   "execution_count": null,
   "id": "d11a0e38-7d54-4f4f-be66-1b78d199bdcb",
   "metadata": {},
   "outputs": [],
   "source": [
    "# assign task of plotting shared  data to worker 1\n",
    "result = @spawnat workers_vec[1] lines(data)\n",
    "fetch(result)"
   ]
  },
  {
   "cell_type": "code",
   "execution_count": null,
   "id": "6b73fd22-a8ae-442b-89bf-52c7112e56b9",
   "metadata": {},
   "outputs": [],
   "source": []
  }
 ],
 "metadata": {
  "kernelspec": {
   "display_name": "control_precompiled_2_threads 1.9.2",
   "language": "julia",
   "name": "control_precompiled_2_threads-1.9"
  },
  "language_info": {
   "file_extension": ".jl",
   "mimetype": "application/julia",
   "name": "julia",
   "version": "1.9.1"
  }
 },
 "nbformat": 4,
 "nbformat_minor": 5
}
