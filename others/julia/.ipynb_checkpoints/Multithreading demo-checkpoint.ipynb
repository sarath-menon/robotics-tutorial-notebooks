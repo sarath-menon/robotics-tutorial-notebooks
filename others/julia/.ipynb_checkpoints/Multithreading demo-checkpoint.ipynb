{
 "cells": [
  {
   "cell_type": "code",
   "execution_count": 1,
   "id": "817e4b9d-f7f1-4b48-a81c-f8cfd6cfb7cd",
   "metadata": {},
   "outputs": [
    {
     "name": "stderr",
     "output_type": "stream",
     "text": [
      "\u001b[32m\u001b[1m  Activating\u001b[22m\u001b[39m project at `~/Documents/eth_courses/notebooks/others/julia`\n"
     ]
    }
   ],
   "source": [
    "import Pkg; Pkg.activate(@__DIR__); Pkg.instantiate();"
   ]
  },
  {
   "cell_type": "code",
   "execution_count": 2,
   "id": "e9c78848-193c-431e-89bd-3b1071e008b6",
   "metadata": {},
   "outputs": [],
   "source": [
    "using ThreadPools\n",
    "using DataStructures\n",
    "using GLMakie"
   ]
  },
  {
   "cell_type": "markdown",
   "id": "1b9f155f-16cc-4df4-a483-ea4a51d4e83f",
   "metadata": {},
   "source": [
    "# Wait, notify demo - (communication using channels)"
   ]
  },
  {
   "cell_type": "code",
   "execution_count": 3,
   "id": "1a3331ea-2216-4b74-9943-5375343db9e1",
   "metadata": {},
   "outputs": [
    {
     "data": {
      "text/plain": [
       "Channel{Float64}(10) (empty)"
      ]
     },
     "execution_count": 3,
     "metadata": {},
     "output_type": "execute_result"
    }
   ],
   "source": [
    "c1 = Channel{Float64}(10)"
   ]
  },
  {
   "cell_type": "markdown",
   "id": "644eff94-3dc0-4b37-9ba4-3c4308955da5",
   "metadata": {},
   "source": [
    "### Receiver (Run first)"
   ]
  },
  {
   "cell_type": "code",
   "execution_count": 4,
   "id": "abd0ea1d-b3a3-4e3a-ad0b-709d16261c66",
   "metadata": {},
   "outputs": [
    {
     "data": {
      "text/plain": [
       "Task (runnable) @0x000000016a2f2b60"
      ]
     },
     "execution_count": 4,
     "metadata": {},
     "output_type": "execute_result"
    },
    {
     "name": "stdout",
     "output_type": "stream",
     "text": [
      "Waiting for data\n"
     ]
    }
   ],
   "source": [
    "# new condition created each time (becuase contions remains locked after use for some reason)\n",
    "condition = Threads.Condition()\n",
    "\n",
    "receiver = @tspawnat 2 begin\n",
    "    Core.println(\"Waiting for data\")\n",
    "\n",
    "    for i = 1:10\n",
    "\n",
    "        # wait for data\n",
    "        lock(condition)\n",
    "        wait(condition)\n",
    "\n",
    "        # Do stuff\n",
    "        data = take!(c1)\n",
    "        Core.println(\"Received data\", data)\n",
    "\n",
    "        # notify sender that stuff has been completed\n",
    "        lock(condition)\n",
    "        notify(condition)\n",
    "    end\n",
    "\n",
    "end"
   ]
  },
  {
   "cell_type": "markdown",
   "id": "95067f5e-ab98-4e71-be31-23d879b5243a",
   "metadata": {},
   "source": [
    "### Sender"
   ]
  },
  {
   "cell_type": "code",
   "execution_count": 5,
   "id": "5319f330-afa2-4076-a06b-95a2494c7e8a",
   "metadata": {
    "scrolled": true
   },
   "outputs": [
    {
     "name": "stdout",
     "output_type": "stream",
     "text": [
      "Sent data1\n"
     ]
    },
    {
     "data": {
      "text/plain": [
       "Task (runnable) @0x000000016d675f90"
      ]
     },
     "execution_count": 5,
     "metadata": {},
     "output_type": "execute_result"
    },
    {
     "name": "stdout",
     "output_type": "stream",
     "text": [
      "Received data1\n",
      "Sent data2\n",
      "Received data2\n",
      "Sent data3\n",
      "Received data3\n",
      "Sent data4\n",
      "Received data4\n",
      "Sent data5\n",
      "Received data5\n",
      "Sent data6\n",
      "Received data6\n",
      "Sent data7\n",
      "Received data7\n",
      "Sent data8\n",
      "Received data8\n",
      "Sent data9\n",
      "Received data9\n",
      "Sent data10\n",
      "Received data10\n"
     ]
    }
   ],
   "source": [
    "sender = @tspawnat 1 begin\n",
    "    for i = 1:10\n",
    "\n",
    "        # send data\n",
    "        put!(c1, i)\n",
    "        Core.println(\"Sent data\", i)\n",
    "\n",
    "        lock(condition)\n",
    "        notify(condition)\n",
    "\n",
    "        # wait for received to complete stuff\n",
    "        lock(condition)\n",
    "        wait(condition)\n",
    "    end\n",
    "\n",
    "end"
   ]
  },
  {
   "cell_type": "markdown",
   "id": "ddae03ef-5d15-418b-839f-bf5b66d13f9d",
   "metadata": {},
   "source": [
    "# Wait, notify demo - (communication without channels, using just notify)"
   ]
  },
  {
   "cell_type": "markdown",
   "id": "7825ee13-2180-43d9-803b-247892858ab7",
   "metadata": {},
   "source": [
    "### Receiver (Run first)"
   ]
  },
  {
   "cell_type": "code",
   "execution_count": 146,
   "id": "e6769cf2-254f-4d22-ae7e-a43dea243b4a",
   "metadata": {},
   "outputs": [
    {
     "data": {
      "text/plain": [
       "Task (runnable) @0x000000017466c400"
      ]
     },
     "execution_count": 146,
     "metadata": {},
     "output_type": "execute_result"
    },
    {
     "name": "stdout",
     "output_type": "stream",
     "text": [
      "Waiting for data\n"
     ]
    }
   ],
   "source": [
    "# new condition created each time (becuase contions remains locked after use for some reason)\n",
    "condition = Threads.Condition()\n",
    "\n",
    "receiver = @tspawnat 2 begin\n",
    "\n",
    "    # if islocked(condition)\n",
    "    #     unlock(condition)\n",
    "    # end\n",
    "    \n",
    "    Core.println(\"Waiting for data\")\n",
    "\n",
    "    for i = 1:10\n",
    "\n",
    "        # wait for data\n",
    "        lock(condition)\n",
    "        data = wait(condition)\n",
    "\n",
    "        # Do stuff\n",
    "        Core.println(\"Received data\", data)\n",
    "\n",
    "        # notify sender that stuff has been completed\n",
    "        lock(condition)\n",
    "        notify(condition)\n",
    "    end\n",
    "    unlock(condition)\n",
    "     unlock(condition)\n",
    "end"
   ]
  },
  {
   "cell_type": "markdown",
   "id": "744500ad-9d30-4086-b088-13b70b67b8cf",
   "metadata": {},
   "source": [
    "### Sender"
   ]
  },
  {
   "cell_type": "code",
   "execution_count": 145,
   "id": "c69dbc11-6f1c-417d-a3e7-b184d9ad657a",
   "metadata": {
    "scrolled": true
   },
   "outputs": [
    {
     "name": "stdout",
     "output_type": "stream",
     "text": [
      "Sent data1\n",
      "Received data1\n",
      "Sent data2\n",
      "Received data2\n",
      "Sent data3\n",
      "Received data3"
     ]
    },
    {
     "data": {
      "text/plain": [
       "Task (runnable) @0x0000000174666cb0"
      ]
     },
     "execution_count": 145,
     "metadata": {},
     "output_type": "execute_result"
    },
    {
     "name": "stdout",
     "output_type": "stream",
     "text": [
      "\n",
      "Sent data4\n",
      "Received data4\n",
      "Sent data5\n",
      "Received data5\n",
      "Sent data6\n",
      "Received data6\n",
      "Sent data7\n",
      "Received data7\n",
      "Sent data8\n",
      "Received data8\n",
      "Sent data9\n",
      "Received data9\n",
      "Sent data10\n",
      "Received data10\n"
     ]
    }
   ],
   "source": [
    "sender = @tspawnat 1 begin\n",
    "    for i = 1:10\n",
    "\n",
    "         # send data\n",
    "        lock(condition)\n",
    "        notify(condition, i)\n",
    "        \n",
    "        Core.println(\"Sent data\", i)\n",
    "\n",
    "        # wait for received to complete stuff\n",
    "        lock(condition)\n",
    "        wait(condition)\n",
    "    end\n",
    "end"
   ]
  },
  {
   "cell_type": "markdown",
   "id": "1acee492-bdf8-4d69-a4f4-27d7f6ac900e",
   "metadata": {},
   "source": [
    "## Simple notify, wait demo"
   ]
  },
  {
   "cell_type": "code",
   "execution_count": 221,
   "id": "ec3e91fe-4436-48b4-bd44-c7055bf276d7",
   "metadata": {},
   "outputs": [
    {
     "name": "stdout",
     "output_type": "stream",
     "text": [
      "Selva: 1\n",
      "Selva: 2\n",
      "Selva: 3\n",
      "Selva: 4\n",
      "Selva: 5\n",
      "Selva: 6\n",
      "Selva: 7\n",
      "Selva: 8\n",
      "Selva: 9\n"
     ]
    }
   ],
   "source": [
    "condition = Condition()\n",
    "\n",
    "@async begin for i=1:10\n",
    "    wait(condition)\n",
    "    Core.println(\"Selva: $i\") \n",
    "    end\n",
    "end\n",
    "\n",
    "for i=1:10\n",
    "    notify(condition)\n",
    "    sleep(0.1)\n",
    "end"
   ]
  },
  {
   "cell_type": "markdown",
   "id": "e6986252-e202-4914-b546-cd09ff084d47",
   "metadata": {},
   "source": [
    "# Receiver , circular buffer demo"
   ]
  },
  {
   "cell_type": "code",
   "execution_count": 65,
   "id": "73d1f91d-fa87-449c-9144-99e7f65b8c28",
   "metadata": {},
   "outputs": [
    {
     "data": {
      "text/plain": [
       "Channel{Int64}(10) (empty)"
      ]
     },
     "execution_count": 65,
     "metadata": {},
     "output_type": "execute_result"
    }
   ],
   "source": [
    "function sender(c1)\n",
    "    Core.println(\"Waiting to send data\")\n",
    "    for i = 1:10\n",
    "        # send data\n",
    "        put!(c1, i)\n",
    "        # Core.println(\"Sent data:\", i)\n",
    "        \n",
    "        sleep(0.1)\n",
    "    end\n",
    "end\n",
    "\n",
    "\n",
    "function receiver(c1, flag)\n",
    "    Core.println(\"Waiting to receive data\")\n",
    "    buffer_len = 10\n",
    "    \n",
    "    buffer = CircularDeque{Float64}(buffer_len)  \n",
    "    #buffer = CircularBuffer{Float64}(buffer_len)  \n",
    "\n",
    "    first_received_flag = false\n",
    "    \n",
    "\n",
    "    @async begin while flag[]==true\n",
    "        # send data\n",
    "        data = take!(c1)\n",
    "        Core.println(\"Received:\", data)\n",
    "        first_received_flag = true\n",
    "\n",
    "        if length(buffer) == buffer_len\n",
    "            pop!(buffer)\n",
    "        end\n",
    "            \n",
    "        pushfirst!(buffer, data)\n",
    "    end\n",
    "\n",
    "    end\n",
    "\n",
    "    while true\n",
    "        while length(buffer) ==0\n",
    "            sleep(0.01)\n",
    "        end\n",
    "            \n",
    "        data = pop!(buffer)\n",
    "        Core.println(\"Popped data:\", data)\n",
    "        sleep(0.2)\n",
    "\n",
    "        if length(buffer) == 0\n",
    "            break\n",
    "        end\n",
    "        \n",
    "        # @show buffer\n",
    "    end\n",
    "end\n",
    "\n",
    "c1 = Channel{Int64}(10)"
   ]
  },
  {
   "cell_type": "code",
   "execution_count": 66,
   "id": "401423ee-ac8c-4dc8-881b-4e788c55a779",
   "metadata": {},
   "outputs": [
    {
     "data": {
      "text/plain": [
       "Task (runnable) @0x000000016bc106a0"
      ]
     },
     "execution_count": 66,
     "metadata": {},
     "output_type": "execute_result"
    },
    {
     "name": "stdout",
     "output_type": "stream",
     "text": [
      "Waiting to receive data\n"
     ]
    }
   ],
   "source": [
    "flag = Observable{Bool}(true)\n",
    "\n",
    "receiver_task = @tspawnat 2 receiver(c1, flag)"
   ]
  },
  {
   "cell_type": "code",
   "execution_count": 67,
   "id": "24a25fa0-df63-4420-b78e-701756a34862",
   "metadata": {},
   "outputs": [
    {
     "name": "stdout",
     "output_type": "stream",
     "text": [
      "Waiting to send data\n",
      "Received:1\n",
      "Popped data:1\n",
      "Received:2\n",
      "Received:3\n",
      "Popped data:2\n",
      "Received:4\n",
      "Received:5\n",
      "Popped data:3\n",
      "Received:6\n",
      "Popped data:4\n",
      "Received:7\n",
      "Received:8\n",
      "Popped data:5\n",
      "Received:9\n",
      "Received:10\n",
      "Popped data:6\n",
      "Popped data:7\n",
      "Popped data:8\n",
      "Popped data:9\n",
      "Popped data:10\n"
     ]
    }
   ],
   "source": [
    "\n",
    "sender_task = @tspawnat 1 sender(c1)\n",
    "\n",
    "sleep(0.5)\n"
   ]
  },
  {
   "cell_type": "code",
   "execution_count": null,
   "id": "ef803475-bcd9-458b-9752-026dce48d7c8",
   "metadata": {},
   "outputs": [],
   "source": []
  }
 ],
 "metadata": {
  "kernelspec": {
   "display_name": "control_precompiled_2_threads 1.9.2",
   "language": "julia",
   "name": "control_precompiled_2_threads-1.9"
  },
  "language_info": {
   "file_extension": ".jl",
   "mimetype": "application/julia",
   "name": "julia",
   "version": "1.9.1"
  }
 },
 "nbformat": 4,
 "nbformat_minor": 5
}
