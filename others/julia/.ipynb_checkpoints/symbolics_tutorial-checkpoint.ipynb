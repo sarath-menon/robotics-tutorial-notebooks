{
 "cells": [
  {
   "cell_type": "code",
   "execution_count": 1,
   "id": "1d776e72-a26e-4b7d-a43b-ec75e1e7315f",
   "metadata": {},
   "outputs": [
    {
     "name": "stderr",
     "output_type": "stream",
     "text": [
      "\u001b[32m\u001b[1m  Activating\u001b[22m\u001b[39m project at `~/Documents/eth_courses/notebooks/others/julia`\n"
     ]
    }
   ],
   "source": [
    "import Pkg; Pkg.activate(@__DIR__); Pkg.instantiate();"
   ]
  },
  {
   "cell_type": "code",
   "execution_count": 5,
   "id": "612a7b9f",
   "metadata": {},
   "outputs": [],
   "source": [
    "using Symbolics"
   ]
  },
  {
   "cell_type": "markdown",
   "id": "37d9d77b",
   "metadata": {},
   "source": [
    "### Defining Symbolic Variables"
   ]
  },
  {
   "cell_type": "code",
   "execution_count": 7,
   "id": "a309d219",
   "metadata": {},
   "outputs": [
    {
     "data": {
      "text/latex": [
       "$$ \\begin{equation}\n",
       "\\left[\n",
       "\\begin{array}{c}\n",
       "x \\\\\n",
       "y \\\\\n",
       "\\end{array}\n",
       "\\right]\n",
       "\\end{equation}\n",
       " $$"
      ],
      "text/plain": [
       "2-element Vector{Num}:\n",
       " x\n",
       " y"
      ]
     },
     "execution_count": 7,
     "metadata": {},
     "output_type": "execute_result"
    }
   ],
   "source": [
    "@variables x y"
   ]
  },
  {
   "cell_type": "markdown",
   "id": "e72e6112",
   "metadata": {},
   "source": [
    "### Creating expressions"
   ]
  },
  {
   "cell_type": "code",
   "execution_count": 8,
   "id": "46c3f271",
   "metadata": {},
   "outputs": [
    {
     "data": {
      "text/latex": [
       "$$ \\begin{equation}\n",
       "y + x^{2}\n",
       "\\end{equation}\n",
       " $$"
      ],
      "text/plain": [
       "y + x^2"
      ]
     },
     "execution_count": 8,
     "metadata": {},
     "output_type": "execute_result"
    }
   ],
   "source": [
    "z = x^2 + y"
   ]
  },
  {
   "cell_type": "markdown",
   "id": "21d66f54",
   "metadata": {},
   "source": [
    "### Matrices"
   ]
  },
  {
   "cell_type": "code",
   "execution_count": 11,
   "id": "9e922259",
   "metadata": {},
   "outputs": [
    {
     "data": {
      "text/latex": [
       "$$ \\begin{equation}\n",
       "\\left[\n",
       "\\begin{array}{ccc}\n",
       "y + x^{2} & 0 & 2 x \\\\\n",
       "0 & 0 & 2 y \\\\\n",
       "x + y^{2} & 0 & 0 \\\\\n",
       "\\end{array}\n",
       "\\right]\n",
       "\\end{equation}\n",
       " $$"
      ],
      "text/plain": [
       "3×3 Matrix{Num}:\n",
       " y + x^2  0  2x\n",
       "       0  0  2y\n",
       " x + y^2  0   0"
      ]
     },
     "execution_count": 11,
     "metadata": {},
     "output_type": "execute_result"
    }
   ],
   "source": [
    "A = [x^2 + y 0 2x\n",
    "     0       0 2y\n",
    "     y^2 + x 0 0]"
   ]
  },
  {
   "cell_type": "code",
   "execution_count": 12,
   "id": "3a15b536",
   "metadata": {},
   "outputs": [
    {
     "data": {
      "text/latex": [
       "$$ \\begin{equation}\n",
       "\\left[\n",
       "\\begin{array}{ccc}\n",
       "\\left( y + x^{2} \\right)^{2} & 0 & 2 x \\left( y + x^{2} \\right) \\\\\n",
       "0 & 0 & 2 y \\left( y + x^{2} \\right) \\\\\n",
       "\\left( y + x^{2} \\right) \\left( x + y^{2} \\right) & 0 & 0 \\\\\n",
       "\\end{array}\n",
       "\\right]\n",
       "\\end{equation}\n",
       " $$"
      ],
      "text/plain": [
       "3×3 Matrix{Num}:\n",
       "         (y + x^2)^2  0  2x*(y + x^2)\n",
       "                   0  0  2y*(y + x^2)\n",
       " (y + x^2)*(x + y^2)  0             0"
      ]
     },
     "execution_count": 12,
     "metadata": {},
     "output_type": "execute_result"
    }
   ],
   "source": [
    "A*z"
   ]
  },
  {
   "cell_type": "markdown",
   "id": "d9f77ca3",
   "metadata": {},
   "source": [
    "## Derivatives"
   ]
  },
  {
   "cell_type": "code",
   "execution_count": 17,
   "id": "05d55d1f",
   "metadata": {},
   "outputs": [
    {
     "data": {
      "text/plain": [
       "(::Differential) (generic function with 2 methods)"
      ]
     },
     "execution_count": 17,
     "metadata": {},
     "output_type": "execute_result"
    }
   ],
   "source": [
    "@variables t\n",
    "\n",
    "# create differential operator\n",
    "D = Differential(t)"
   ]
  },
  {
   "cell_type": "code",
   "execution_count": 39,
   "id": "765d6182",
   "metadata": {},
   "outputs": [
    {
     "data": {
      "text/latex": [
       "$$ \\begin{equation}\n",
       "\\frac{\\mathrm{d}}{\\mathrm{d}t} \\left( t + t^{2} \\right)\n",
       "\\end{equation}\n",
       " $$"
      ],
      "text/plain": [
       "Differential(t)(t + t^2)"
      ]
     },
     "metadata": {},
     "output_type": "display_data"
    },
    {
     "data": {
      "text/latex": [
       "$$ \\begin{equation}\n",
       "1 + 2 t\n",
       "\\end{equation}\n",
       " $$"
      ],
      "text/plain": [
       "1 + 2t"
      ]
     },
     "execution_count": 39,
     "metadata": {},
     "output_type": "execute_result"
    }
   ],
   "source": [
    "z = t + t^2\n",
    "\n",
    "# lazy evaluation \n",
    "display(D(z))\n",
    "\n",
    "# full evaluation \n",
    "expand_derivatives(D(z))"
   ]
  },
  {
   "cell_type": "code",
   "execution_count": null,
   "id": "71f27a0a",
   "metadata": {},
   "outputs": [],
   "source": []
  },
  {
   "cell_type": "markdown",
   "id": "a05a9953",
   "metadata": {},
   "source": [
    "### Compute Jacobian"
   ]
  },
  {
   "cell_type": "code",
   "execution_count": 13,
   "id": "22c14928",
   "metadata": {},
   "outputs": [
    {
     "name": "stdout",
     "output_type": "stream",
     "text": [
      "Vector:"
     ]
    },
    {
     "data": {
      "text/latex": [
       "$$ \\begin{equation}\n",
       "\\left[\n",
       "\\begin{array}{c}\n",
       "x + x y \\\\\n",
       "y + x^{2} \\\\\n",
       "\\end{array}\n",
       "\\right]\n",
       "\\end{equation}\n",
       " $$"
      ],
      "text/plain": [
       "2-element Vector{Num}:\n",
       " x + x*y\n",
       " y + x^2"
      ]
     },
     "metadata": {},
     "output_type": "display_data"
    },
    {
     "name": "stdout",
     "output_type": "stream",
     "text": [
      "Jacobian:"
     ]
    },
    {
     "data": {
      "text/latex": [
       "$$ \\begin{equation}\n",
       "\\left[\n",
       "\\begin{array}{cc}\n",
       "1 + y & x \\\\\n",
       "2 x & 1 \\\\\n",
       "\\end{array}\n",
       "\\right]\n",
       "\\end{equation}\n",
       " $$"
      ],
      "text/plain": [
       "2×2 Matrix{Num}:\n",
       " 1 + y  x\n",
       "    2x  1"
      ]
     },
     "execution_count": 13,
     "metadata": {},
     "output_type": "execute_result"
    }
   ],
   "source": [
    "A = [x + x*y, x^2 + y]\n",
    "print(\"Vector:\")\n",
    "display(A)\n",
    "\n",
    "print(\"Jacobian:\")\n",
    "Symbolics.jacobian(A, [x, y])"
   ]
  },
  {
   "cell_type": "markdown",
   "id": "4055e04b",
   "metadata": {},
   "source": [
    "# Symbolic Arrays"
   ]
  },
  {
   "cell_type": "code",
   "execution_count": 23,
   "id": "a4aeed9a",
   "metadata": {},
   "outputs": [
    {
     "data": {
      "text/plain": [
       "Symbolics.Arr{Num, 2}"
      ]
     },
     "execution_count": 23,
     "metadata": {},
     "output_type": "execute_result"
    }
   ],
   "source": [
    "@variables A[1:5, 1:3] b[1:3] C[4:4]\n",
    "\n",
    "typeof(A)"
   ]
  },
  {
   "cell_type": "markdown",
   "id": "810f071c",
   "metadata": {},
   "source": [
    "### Operations on symbolic arrays"
   ]
  },
  {
   "cell_type": "code",
   "execution_count": 24,
   "id": "5f832f6c",
   "metadata": {},
   "outputs": [
    {
     "data": {
      "text/latex": [
       "$$ \\begin{equation}\n",
       "A b\n",
       "\\end{equation}\n",
       " $$"
      ],
      "text/plain": [
       "(A*b)[1:5]"
      ]
     },
     "execution_count": 24,
     "metadata": {},
     "output_type": "execute_result"
    }
   ],
   "source": [
    "# multiplication\n",
    "c = A * b"
   ]
  },
  {
   "cell_type": "code",
   "execution_count": 25,
   "id": "5764f37c",
   "metadata": {},
   "outputs": [
    {
     "data": {
      "text/latex": [
       "$$ \\begin{equation}\n",
       "\\left[\n",
       "\\begin{array}{c}\n",
       "\\sin\\left( b_1 A_{1}ˏ_1 + b_2 A_{1}ˏ_2 + b_3 A_{1}ˏ_3 \\right) \\\\\n",
       "\\sin\\left( b_1 A_{2}ˏ_1 + b_2 A_{2}ˏ_2 + b_3 A_{2}ˏ_3 \\right) \\\\\n",
       "\\sin\\left( b_1 A_{3}ˏ_1 + b_2 A_{3}ˏ_2 + b_3 A_{3}ˏ_3 \\right) \\\\\n",
       "\\sin\\left( b_1 A_{4}ˏ_1 + b_2 A_{4}ˏ_2 + b_3 A_{4}ˏ_3 \\right) \\\\\n",
       "\\sin\\left( b_1 A_{5}ˏ_1 + b_2 A_{5}ˏ_2 + b_3 A_{5}ˏ_3 \\right) \\\\\n",
       "\\end{array}\n",
       "\\right]\n",
       "\\end{equation}\n",
       " $$"
      ],
      "text/plain": [
       "5-element Vector{Num}:\n",
       " sin(b[1]*A[1, 1] + b[2]*A[1, 2] + b[3]*A[1, 3])\n",
       " sin(b[1]*A[2, 1] + b[2]*A[2, 2] + b[3]*A[2, 3])\n",
       " sin(b[1]*A[3, 1] + b[2]*A[3, 2] + b[3]*A[3, 3])\n",
       " sin(b[1]*A[4, 1] + b[2]*A[4, 2] + b[3]*A[4, 3])\n",
       " sin(b[1]*A[5, 1] + b[2]*A[5, 2] + b[3]*A[5, 3])"
      ]
     },
     "execution_count": 25,
     "metadata": {},
     "output_type": "execute_result"
    }
   ],
   "source": [
    "collect(map(sin, c ))"
   ]
  },
  {
   "cell_type": "code",
   "execution_count": 26,
   "id": "9e4d4eef",
   "metadata": {},
   "outputs": [
    {
     "data": {
      "text/latex": [
       "$$ \\begin{equation}\n",
       "\\left[\n",
       "\\begin{array}{c}\n",
       "\\sin\\left( b_1 A_{2}ˏ_1 + b_2 A_{2}ˏ_2 + b_3 A_{2}ˏ_3 \\right) \\\\\n",
       "\\sin\\left( b_1 A_{3}ˏ_1 + b_2 A_{3}ˏ_2 + b_3 A_{3}ˏ_3 \\right) \\\\\n",
       "\\sin\\left( b_1 A_{4}ˏ_1 + b_2 A_{4}ˏ_2 + b_3 A_{4}ˏ_3 \\right) \\\\\n",
       "\\end{array}\n",
       "\\right]\n",
       "\\end{equation}\n",
       " $$"
      ],
      "text/plain": [
       "3-element Vector{Num}:\n",
       " sin(b[1]*A[2, 1] + b[2]*A[2, 2] + b[3]*A[2, 3])\n",
       " sin(b[1]*A[3, 1] + b[2]*A[3, 2] + b[3]*A[3, 3])\n",
       " sin(b[1]*A[4, 1] + b[2]*A[4, 2] + b[3]*A[4, 3])"
      ]
     },
     "execution_count": 26,
     "metadata": {},
     "output_type": "execute_result"
    }
   ],
   "source": [
    "collect(map(sin, c )[2:4])"
   ]
  },
  {
   "cell_type": "markdown",
   "id": "7ce26a16-1d0e-4c7e-9176-8a982cabcd92",
   "metadata": {},
   "source": [
    "# Code generation exampl"
   ]
  },
  {
   "cell_type": "markdown",
   "id": "cb4df6fa-9b40-4f0f-82ab-f1ced1306148",
   "metadata": {},
   "source": [
    "## LQR "
   ]
  },
  {
   "cell_type": "code",
   "execution_count": 8,
   "id": "97f57bd6-6ba9-4a70-80f9-92569855d56f",
   "metadata": {},
   "outputs": [
    {
     "data": {
      "text/plain": [
       "\"#include <math.h>\\nvoid lqr_controller(double* du, const double* RHS1, const double* RHS2) {\\n  du[0] = RHS2[0] * RHS1[0] + RHS2[2] * RHS1[1] + RHS2[4] * RHS1[2] + RHS2[6] * RHS1[3] + RHS2[8] * RHS1[4] + RHS2[10] * RHS1[5];\\n  du[1] = RHS2[1] * RHS1[0] + RHS2[3] * RHS1[1] + RHS2[5] * RHS1[2] + RHS2[7] * RHS1[3] + RHS2[9] * RHS1[4] + RHS2[11] * RHS1[5];\\n}\\n\""
      ]
     },
     "execution_count": 8,
     "metadata": {},
     "output_type": "execute_result"
    }
   ],
   "source": [
    "function lqr_controller!(U, X, K)\n",
    "  U = K*X\n",
    "end\n",
    "\n",
    "let\n",
    "\n",
    "# trace it into symbpolics \n",
    "\n",
    "nx::Integer = 6\n",
    "nu::Integer = 2\n",
    "    \n",
    "@variables t  U[1:nu] K[1:nu, 1:nx] X[1:nx, 1]\n",
    "    \n",
    "X = collect(X)\n",
    "K = collect(K)\n",
    "\n",
    "build_function(lqr_controller!(U, X, K), X, K, target=Symbolics.CTarget(), fname=\"lqr_controller\")\n",
    "end"
   ]
  },
  {
   "cell_type": "markdown",
   "id": "e106a1b6-dcbb-48f2-b1e4-d97f7b65c650",
   "metadata": {},
   "source": [
    "# QUaternion multiplication"
   ]
  },
  {
   "cell_type": "code",
   "execution_count": 9,
   "id": "e69de45b-baf4-465b-8d85-c0e5cb882b43",
   "metadata": {},
   "outputs": [
    {
     "ename": "LoadError",
     "evalue": "ArgumentError: Package Rotations not found in current path.\n- Run `import Pkg; Pkg.add(\"Rotations\")` to install the Rotations package.",
     "output_type": "error",
     "traceback": [
      "ArgumentError: Package Rotations not found in current path.\n- Run `import Pkg; Pkg.add(\"Rotations\")` to install the Rotations package.",
      "",
      "Stacktrace:",
      " [1] require(into::Module, mod::Symbol)",
      "   @ Base ~/sys_control.so:-1"
     ]
    }
   ],
   "source": [
    "using Rotations\n",
    "\n",
    "let\n",
    "\n",
    "@variables qw qx qy qx\n",
    "\n",
    "q = QuatRotation(qw, qx, qy, qx)\n",
    "end"
   ]
  },
  {
   "cell_type": "code",
   "execution_count": null,
   "id": "3d670f3f-51ee-4dec-b20a-0687ae9aa63f",
   "metadata": {},
   "outputs": [],
   "source": []
  }
 ],
 "metadata": {
  "kernelspec": {
   "display_name": "control_precompiled 1.9.1",
   "language": "julia",
   "name": "control_precompiled-1.9"
  },
  "language_info": {
   "file_extension": ".jl",
   "mimetype": "application/julia",
   "name": "julia",
   "version": "1.9.1"
  }
 },
 "nbformat": 4,
 "nbformat_minor": 5
}
