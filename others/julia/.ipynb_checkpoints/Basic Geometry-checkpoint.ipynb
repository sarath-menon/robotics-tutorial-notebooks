{
 "cells": [
  {
   "cell_type": "code",
   "execution_count": 3,
   "id": "d46ab2ff-b64c-4eed-aaf5-d3021ad97016",
   "metadata": {},
   "outputs": [
    {
     "name": "stderr",
     "output_type": "stream",
     "text": [
      "\u001b[32m\u001b[1m  Activating\u001b[22m\u001b[39m project at `~/Documents/eth_courses/notebooks/math/julia/calculus/vector fields`\n"
     ]
    }
   ],
   "source": [
    "import Pkg; Pkg.activate(@__DIR__); Pkg.instantiate();"
   ]
  },
  {
   "cell_type": "code",
   "execution_count": 4,
   "id": "a768e20b-be11-45cb-84f1-64b1af992e24",
   "metadata": {},
   "outputs": [
    {
     "data": {
      "text/plain": [
       "Point3{Float64}\u001b[90m (alias for \u001b[39m\u001b[90mPoint{3, Float64}\u001b[39m\u001b[90m)\u001b[39m"
      ]
     },
     "execution_count": 4,
     "metadata": {},
     "output_type": "execute_result"
    }
   ],
   "source": [
    "using GLMakie\n",
    "using LinearAlgebra\n",
    "# using Symbolics\n",
    "using ForwardDiff\n",
    "using BenchmarkTools\n",
    "using Colors\n",
    "\n",
    "GLMakie.activate!(inline=false)\n",
    "P2_f64 = Point{2, Float64}\n",
    "P3_f64 = Point{3, Float64}"
   ]
  },
  {
   "cell_type": "markdown",
   "id": "b65577e7-6fda-438c-8ca5-2c345193e4a1",
   "metadata": {},
   "source": [
    "# Planes"
   ]
  },
  {
   "cell_type": "markdown",
   "id": "9e647ed7-fa70-4655-a1ca-88e0f58f799c",
   "metadata": {},
   "source": [
    "### z = 0"
   ]
  },
  {
   "cell_type": "code",
   "execution_count": 1004,
   "id": "80ebf1b6-4330-48d9-9627-3567e81f9442",
   "metadata": {},
   "outputs": [
    {
     "data": {
      "text/plain": [
       "GLMakie.Screen(...)"
      ]
     },
     "execution_count": 1004,
     "metadata": {},
     "output_type": "execute_result"
    }
   ],
   "source": [
    "let \n",
    "\n",
    "fig = Figure()\n",
    "ax1 = Axis3(fig[1, 1], aspect = :equal, title = \"3D Vector field\",\n",
    "        #limits =(ax_low, ax_high,ax_low, ax_high,ax_low, ax_high,\n",
    "        xlabel=\"X\", ylabel=\"Y\", zlabel=\"Z\",\n",
    "        xlabelsize=30, ylabelsize=30, zlabelsize=30\n",
    "    )\n",
    "\n",
    "xs = LinRange(0, 10, 100)\n",
    "ys = LinRange(0, 15, 100)\n",
    "zs = [0 for x in xs, y in ys]\n",
    "    \n",
    "# plot surface\n",
    "surface!(ax1, xs, ys, zs, colormap = :viridis, transparency = true, overdraw = true,)\n",
    "    \n",
    "display(fig)   \n",
    "    \n",
    "end"
   ]
  },
  {
   "cell_type": "code",
   "execution_count": null,
   "id": "a463ed6a-3193-45d0-a584-211c141beaeb",
   "metadata": {},
   "outputs": [],
   "source": []
  },
  {
   "cell_type": "code",
   "execution_count": null,
   "id": "c6943777-43c5-4c42-86e4-136e42048798",
   "metadata": {},
   "outputs": [],
   "source": []
  }
 ],
 "metadata": {
  "kernelspec": {
   "display_name": "control_precompiled 1.9.1",
   "language": "julia",
   "name": "control_precompiled-1.9"
  },
  "language_info": {
   "file_extension": ".jl",
   "mimetype": "application/julia",
   "name": "julia",
   "version": "1.9.1"
  }
 },
 "nbformat": 4,
 "nbformat_minor": 5
}
