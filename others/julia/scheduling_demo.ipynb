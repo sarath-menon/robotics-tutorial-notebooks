{
 "cells": [
  {
   "cell_type": "code",
   "execution_count": 1,
   "id": "b762158f-908e-440e-9203-556f9efcbc38",
   "metadata": {},
   "outputs": [
    {
     "name": "stderr",
     "output_type": "stream",
     "text": [
      "\u001b[32m\u001b[1m  Activating\u001b[22m\u001b[39m project at `~/Documents/eth_courses/notebooks/others/julia`\n"
     ]
    }
   ],
   "source": [
    "import Pkg; Pkg.activate(@__DIR__); Pkg.instantiate();"
   ]
  },
  {
   "cell_type": "code",
   "execution_count": 2,
   "id": "8f0e0bb5-0146-4d2a-9e67-763e6809ea8a",
   "metadata": {},
   "outputs": [
    {
     "data": {
      "text/plain": [
       "@tc (macro with 1 method)"
      ]
     },
     "execution_count": 2,
     "metadata": {},
     "output_type": "execute_result"
    }
   ],
   "source": [
    "macro tc(ex)\n",
    "    quote\n",
    "        try\n",
    "            while true\n",
    "                $(esc(ex))\n",
    "            end\n",
    "        catch\n",
    "           println(\"Exiting task\")\n",
    "        end\n",
    "    end\n",
    "end"
   ]
  },
  {
   "cell_type": "code",
   "execution_count": 3,
   "id": "f8bc7054-4a33-4291-8589-189bfca36e07",
   "metadata": {},
   "outputs": [
    {
     "data": {
      "text/plain": [
       "quote\n",
       "    \u001b[90m#= In[2]:3 =#\u001b[39m\n",
       "    try\n",
       "        \u001b[90m#= In[2]:4 =#\u001b[39m\n",
       "        while true\n",
       "            \u001b[90m#= In[2]:5 =#\u001b[39m\n",
       "            begin\n",
       "                \u001b[90m#= In[3]:2 =#\u001b[39m\n",
       "                wait(condition)\n",
       "                \u001b[90m#= In[3]:4 =#\u001b[39m\n",
       "                println(\"Task 1 Running\")\n",
       "                \u001b[90m#= In[3]:7 =#\u001b[39m\n",
       "                counter += 1\n",
       "                \u001b[90m#= In[3]:8 =#\u001b[39m\n",
       "                println(\"Counter: $(counter)\")\n",
       "            end\n",
       "            \u001b[90m#= In[2]:6 =#\u001b[39m\n",
       "        end\n",
       "    catch\n",
       "        \u001b[90m#= In[2]:8 =#\u001b[39m\n",
       "        Main.println(\"Exiting task\")\n",
       "    end\n",
       "end"
      ]
     },
     "execution_count": 3,
     "metadata": {},
     "output_type": "execute_result"
    }
   ],
   "source": [
    "@macroexpand @tc begin \n",
    "    wait(condition)\n",
    "        \n",
    "    println(\"Task 1 Running\"); \n",
    "    # sleep(2); \n",
    "\n",
    "    counter+=1\n",
    "    println(\"Counter: $counter\"); \n",
    "\n",
    "    end"
   ]
  },
  {
   "cell_type": "code",
   "execution_count": 4,
   "id": "3d1f3134-a95e-4c79-b618-c3095f2b3df9",
   "metadata": {},
   "outputs": [
    {
     "data": {
      "text/plain": [
       "task2_func (generic function with 1 method)"
      ]
     },
     "execution_count": 4,
     "metadata": {},
     "output_type": "execute_result"
    }
   ],
   "source": [
    "function task1_func(condition)\n",
    "    counter = 0\n",
    "\n",
    "    @tc begin \n",
    "    wait(condition)\n",
    "        \n",
    "    println(\"Task 1 Running\"); \n",
    "    # sleep(2); \n",
    "\n",
    "    counter+=1\n",
    "    println(\"Counter: $counter\"); \n",
    "\n",
    "    end\n",
    "end\n",
    "\n",
    "function task2_func(condition)\n",
    "    counter = 0\n",
    "\n",
    "    @tc begin \n",
    "    wait(condition)\n",
    "        \n",
    "    println(\"Task 2 Running\"); \n",
    "    # sleep(2); \n",
    "\n",
    "    counter+=1\n",
    "    println(\"Counter: $counter\"); \n",
    "        \n",
    "    end\n",
    "end"
   ]
  },
  {
   "cell_type": "code",
   "execution_count": 5,
   "id": "7c4cdd08-a6bf-44a8-89b1-2e2c23becdaa",
   "metadata": {},
   "outputs": [
    {
     "data": {
      "text/plain": [
       "Task (runnable) @0x0000000173f447f0"
      ]
     },
     "execution_count": 5,
     "metadata": {},
     "output_type": "execute_result"
    }
   ],
   "source": [
    "c = Condition()\n",
    "\n",
    "task_1 = @task task1_func(c)\n",
    "task_2 = @task task2_func(c)"
   ]
  },
  {
   "cell_type": "code",
   "execution_count": 6,
   "id": "26e69eea-248e-440c-9a04-35ba9667cf9b",
   "metadata": {
    "scrolled": true
   },
   "outputs": [
    {
     "data": {
      "text/plain": [
       "Task (runnable) @0x0000000173f447f0"
      ]
     },
     "execution_count": 6,
     "metadata": {},
     "output_type": "execute_result"
    }
   ],
   "source": [
    "schedule(task_1)\n",
    "schedule(task_2)\n",
    "# schedule(block_task)"
   ]
  },
  {
   "cell_type": "code",
   "execution_count": 7,
   "id": "a7151677-19a2-4571-b91a-39706351a95b",
   "metadata": {},
   "outputs": [
    {
     "name": "stdout",
     "output_type": "stream",
     "text": [
      "Task 1 Running\n"
     ]
    },
    {
     "data": {
      "text/plain": [
       "2"
      ]
     },
     "execution_count": 7,
     "metadata": {},
     "output_type": "execute_result"
    },
    {
     "name": "stdout",
     "output_type": "stream",
     "text": [
      "Counter: 1\n",
      "Task 2 Running\n",
      "Counter: 1\n"
     ]
    }
   ],
   "source": [
    "notify(c)"
   ]
  },
  {
   "cell_type": "code",
   "execution_count": 8,
   "id": "54b93567-f659-44b0-af7b-ef215b5c3e71",
   "metadata": {
    "scrolled": true
   },
   "outputs": [
    {
     "name": "stdout",
     "output_type": "stream",
     "text": [
      "Exiting task\n"
     ]
    },
    {
     "data": {
      "text/plain": [
       "Task (done) @0x0000000173f447f0"
      ]
     },
     "execution_count": 8,
     "metadata": {},
     "output_type": "execute_result"
    },
    {
     "name": "stdout",
     "output_type": "stream",
     "text": [
      "Exiting task\n"
     ]
    }
   ],
   "source": [
    "schedule(task_1, 0; error=true)\n",
    "schedule(task_2, 0; error=true)"
   ]
  },
  {
   "cell_type": "markdown",
   "id": "3d8b6ef5-1318-41df-9d2d-8fd7dcaff231",
   "metadata": {},
   "source": [
    "# Cost of task switching "
   ]
  },
  {
   "cell_type": "markdown",
   "id": "54b912cd-5a80-44bd-85b9-9867b4ffe686",
   "metadata": {},
   "source": [
    "## With condition var"
   ]
  },
  {
   "cell_type": "code",
   "execution_count": 39,
   "id": "e9d089cc-b1a4-4bde-8372-31014aef73f0",
   "metadata": {},
   "outputs": [
    {
     "data": {
      "text/plain": [
       "Task (runnable) @0x000000010e57acb0"
      ]
     },
     "execution_count": 39,
     "metadata": {},
     "output_type": "execute_result"
    }
   ],
   "source": [
    "function task3_func(condition, sum_var)\n",
    "    counter = 0\n",
    "    \n",
    "    @tc begin \n",
    "    wait(condition)\n",
    "\n",
    "    sum_var = sum(1:1000)\n",
    "    # @show sum_var\n",
    "\n",
    "    counter+=1\n",
    "    # println(\"Counter: $counter\"); \n",
    "\n",
    "    notify(condition)\n",
    "    end\n",
    "end\n",
    "\n",
    "c = Condition()\n",
    "\n",
    "sum_var = 0\n",
    "task_3 = @async task3_func(c, sum_var)"
   ]
  },
  {
   "cell_type": "code",
   "execution_count": 37,
   "id": "10964baa-e874-4e94-9381-abbe29edfde8",
   "metadata": {},
   "outputs": [],
   "source": [
    "for i=1:10\n",
    "    notify(c)\n",
    "    wait(c)\n",
    "end"
   ]
  },
  {
   "cell_type": "code",
   "execution_count": 40,
   "id": "1feb9177-f696-49e9-bd32-7a4287405ce1",
   "metadata": {
    "scrolled": true
   },
   "outputs": [
    {
     "name": "stdout",
     "output_type": "stream",
     "text": [
      "  280.136 μs (0 allocations: 0 bytes)\n"
     ]
    }
   ],
   "source": [
    "@btime begin for i=1:10\n",
    "    notify(c)\n",
    "    wait(c)\n",
    "end\n",
    "\n",
    "end"
   ]
  },
  {
   "cell_type": "code",
   "execution_count": 38,
   "id": "8a4e57f8-83ea-4baf-889e-65d764ec2532",
   "metadata": {},
   "outputs": [
    {
     "name": "stdout",
     "output_type": "stream",
     "text": [
      "Exiting task\n"
     ]
    },
    {
     "data": {
      "text/plain": [
       "Task (done) @0x000000010e5786a0"
      ]
     },
     "execution_count": 38,
     "metadata": {},
     "output_type": "execute_result"
    }
   ],
   "source": [
    "schedule(task_3, 0; error=true)"
   ]
  },
  {
   "cell_type": "markdown",
   "id": "fd50f9ed-b654-42e7-83cc-2770381705ff",
   "metadata": {},
   "source": [
    "## Without task, condition var"
   ]
  },
  {
   "cell_type": "code",
   "execution_count": 34,
   "id": "80d85680-cf70-429e-9829-6df54bd9180f",
   "metadata": {},
   "outputs": [
    {
     "data": {
      "text/plain": [
       "0"
      ]
     },
     "execution_count": 34,
     "metadata": {},
     "output_type": "execute_result"
    }
   ],
   "source": [
    "function task4_func(sum_var)\n",
    " \n",
    "    sum_var = sum(1:1000)\n",
    "end\n",
    "\n",
    "sum_var = 0"
   ]
  },
  {
   "cell_type": "code",
   "execution_count": 35,
   "id": "5348da22-a84a-4b98-a5fa-ba0e752de372",
   "metadata": {},
   "outputs": [
    {
     "name": "stdout",
     "output_type": "stream",
     "text": [
      "  1.655 ns (0 allocations: 0 bytes)\n"
     ]
    }
   ],
   "source": [
    "@btime begin for i=1:10\n",
    "    task4_func(sum_var)\n",
    "end\n",
    "\n",
    "end"
   ]
  },
  {
   "cell_type": "code",
   "execution_count": null,
   "id": "81c882ce-17ca-4172-9aea-70cd9905cf76",
   "metadata": {},
   "outputs": [],
   "source": []
  }
 ],
 "metadata": {
  "kernelspec": {
   "display_name": "control_precompiled 1.9.1",
   "language": "julia",
   "name": "control_precompiled-1.9"
  },
  "language_info": {
   "file_extension": ".jl",
   "mimetype": "application/julia",
   "name": "julia",
   "version": "1.9.1"
  }
 },
 "nbformat": 4,
 "nbformat_minor": 5
}
