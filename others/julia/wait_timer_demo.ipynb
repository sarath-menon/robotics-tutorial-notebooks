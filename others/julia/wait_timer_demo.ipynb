{
 "cells": [
  {
   "cell_type": "code",
   "execution_count": 1,
   "id": "0c93a986-0e13-430c-aa08-0aee17feddb9",
   "metadata": {},
   "outputs": [
    {
     "name": "stderr",
     "output_type": "stream",
     "text": [
      "\u001b[32m\u001b[1m  Activating\u001b[22m\u001b[39m project at `~/Documents/eth_courses/notebooks/others/julia`\n"
     ]
    }
   ],
   "source": [
    "import Pkg; Pkg.activate(@__DIR__); Pkg.instantiate();"
   ]
  },
  {
   "cell_type": "code",
   "execution_count": 4,
   "id": "231f8bd0-c878-4684-82f5-3cd5854559f5",
   "metadata": {},
   "outputs": [
    {
     "data": {
      "text/plain": [
       "Timer(Ptr{Nothing} @0x00007ff683634490, Base.GenericCondition{Base.Threads.SpinLock}(Base.IntrusiveLinkedList{Task}(Task (runnable) @0x00000001762f1900, Task (runnable) @0x00000001762f1900), Base.Threads.SpinLock(0)), true, false)"
      ]
     },
     "execution_count": 4,
     "metadata": {},
     "output_type": "execute_result"
    }
   ],
   "source": [
    "cb(timer) = println(\"Selva\")\n",
    "\n",
    "t = Timer(cb, 2)"
   ]
  },
  {
   "cell_type": "code",
   "execution_count": 5,
   "id": "0278180e-fd3a-47b8-bbf4-3ff2583f4028",
   "metadata": {},
   "outputs": [
    {
     "name": "stdout",
     "output_type": "stream",
     "text": [
      "Selva\n"
     ]
    }
   ],
   "source": [
    "wait(t)"
   ]
  },
  {
   "cell_type": "code",
   "execution_count": 33,
   "id": "3dc93807-85b3-4c4d-a1f1-d1d9bc4ed771",
   "metadata": {},
   "outputs": [
    {
     "data": {
      "text/plain": [
       "wait_until (generic function with 2 methods)"
      ]
     },
     "execution_count": 33,
     "metadata": {},
     "output_type": "execute_result"
    }
   ],
   "source": [
    "function wait_until(c::Condition; timeout::Real)    \n",
    "    timer = Timer(timeout) do t\n",
    "            notify(c)\n",
    "            println(\"Notified using timer\")\n",
    "    end\n",
    "\n",
    "    try\n",
    "        return wait(c)\n",
    "    finally\n",
    "        close(timer)\n",
    "    end\n",
    "end"
   ]
  },
  {
   "cell_type": "code",
   "execution_count": 34,
   "id": "aab7999d-f1ff-4d3d-8e33-8729ebab4b81",
   "metadata": {},
   "outputs": [
    {
     "name": "stdout",
     "output_type": "stream",
     "text": [
      "Waiting for notification\n",
      "Notified using timer\n"
     ]
    },
    {
     "data": {
      "text/plain": [
       "0"
      ]
     },
     "execution_count": 34,
     "metadata": {},
     "output_type": "execute_result"
    }
   ],
   "source": [
    "let\n",
    "\n",
    "c = Condition()\n",
    "\n",
    "println(\"Waiting for notification\")\n",
    "wait_until(c; timeout=4)\n",
    "\n",
    "notify(c)\n",
    "    \n",
    "end"
   ]
  },
  {
   "cell_type": "code",
   "execution_count": 82,
   "id": "c91fef5e-2baa-4836-a4c6-59fa45c05f0b",
   "metadata": {},
   "outputs": [
    {
     "data": {
      "text/plain": [
       "Base.Threads.SpinLock(0)"
      ]
     },
     "execution_count": 82,
     "metadata": {},
     "output_type": "execute_result"
    }
   ],
   "source": [
    "lk = Threads.SpinLock()"
   ]
  },
  {
   "cell_type": "code",
   "execution_count": 85,
   "id": "9714e85a-0aa0-45d3-a2b5-0e795e1b5b54",
   "metadata": {},
   "outputs": [
    {
     "data": {
      "text/plain": [
       "lock_demo (generic function with 1 method)"
      ]
     },
     "execution_count": 85,
     "metadata": {},
     "output_type": "execute_result"
    }
   ],
   "source": [
    "function lock_demo(lk)\n",
    "\n",
    "    if trylock(lk) == false\n",
    "        println(\"Already locked\")\n",
    "        return\n",
    "    else\n",
    "        println(\"Locked\")\n",
    "    end\n",
    "        \n",
    "    try\n",
    "        \n",
    "    finally\n",
    "        unlock(lk)\n",
    "        println(\"Unlocked\")\n",
    "    catch\n",
    "        println(\"Cannot find the square root of negative numbers\")\n",
    "    end\n",
    "\n",
    "end"
   ]
  },
  {
   "cell_type": "code",
   "execution_count": 94,
   "id": "0ab11f83-205f-4353-994e-f03364e599ba",
   "metadata": {},
   "outputs": [
    {
     "name": "stdout",
     "output_type": "stream",
     "text": [
      "Locked\n",
      "Unlocked\n"
     ]
    }
   ],
   "source": [
    "lock_demo(lk)"
   ]
  },
  {
   "cell_type": "code",
   "execution_count": 92,
   "id": "44716ec6-8a07-4855-84d0-0306c5114b11",
   "metadata": {},
   "outputs": [],
   "source": [
    "unlock(lk)"
   ]
  },
  {
   "cell_type": "code",
   "execution_count": null,
   "id": "d0534be3-f2fa-41b6-a0a0-379264dd785f",
   "metadata": {},
   "outputs": [],
   "source": []
  }
 ],
 "metadata": {
  "kernelspec": {
   "display_name": "control_precompiled 1.9.1",
   "language": "julia",
   "name": "control_precompiled-1.9"
  },
  "language_info": {
   "file_extension": ".jl",
   "mimetype": "application/julia",
   "name": "julia",
   "version": "1.9.1"
  }
 },
 "nbformat": 4,
 "nbformat_minor": 5
}
