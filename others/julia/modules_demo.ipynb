{
 "cells": [
  {
   "cell_type": "code",
   "execution_count": 1,
   "id": "5b722e3c-7e40-4a69-a769-b313421f6b59",
   "metadata": {},
   "outputs": [
    {
     "name": "stderr",
     "output_type": "stream",
     "text": [
      "\u001b[32m\u001b[1m  Activating\u001b[22m\u001b[39m project at `~/Documents/eth_courses/notebooks/others/julia`\n"
     ]
    }
   ],
   "source": [
    "import Pkg; Pkg.activate(@__DIR__); Pkg.instantiate();"
   ]
  },
  {
   "cell_type": "markdown",
   "id": "91c4f7fb-d350-485d-9c8e-847de4f0c950",
   "metadata": {},
   "source": [
    "# Example 1"
   ]
  },
  {
   "cell_type": "code",
   "execution_count": 44,
   "id": "c00e9dd6-270f-42b3-863b-42c6208f5d62",
   "metadata": {},
   "outputs": [
    {
     "name": "stderr",
     "output_type": "stream",
     "text": [
      "WARNING: replacing module A.\n",
      "WARNING: replacing module B.\n"
     ]
    },
    {
     "data": {
      "text/plain": [
       "Main.B"
      ]
     },
     "execution_count": 44,
     "metadata": {},
     "output_type": "execute_result"
    }
   ],
   "source": [
    "module A\n",
    "    export f, SimAccMode\n",
    "\n",
    "    abstract type SimAccMode end\n",
    "\n",
    "    f() = 1\n",
    "end   \n",
    "\n",
    "module B\n",
    "    import ..A: f, SimAccMode\n",
    "\n",
    "    f(x) = 2\n",
    "end   "
   ]
  },
  {
   "cell_type": "code",
   "execution_count": 39,
   "id": "ad5d5e01-25b6-41b3-9b8c-016d835c27fd",
   "metadata": {},
   "outputs": [
    {
     "name": "stderr",
     "output_type": "stream",
     "text": [
      "WARNING: using A.f in module Main conflicts with an existing identifier.\n"
     ]
    }
   ],
   "source": [
    "using .A  "
   ]
  },
  {
   "cell_type": "code",
   "execution_count": 40,
   "id": "06aa813d-b434-400e-a705-c0e350511515",
   "metadata": {},
   "outputs": [
    {
     "data": {
      "text/plain": [
       "1"
      ]
     },
     "execution_count": 40,
     "metadata": {},
     "output_type": "execute_result"
    }
   ],
   "source": [
    "f()"
   ]
  },
  {
   "cell_type": "code",
   "execution_count": 41,
   "id": "d7ef750b-8ed6-4dfd-96a9-00ef97e68e51",
   "metadata": {},
   "outputs": [
    {
     "data": {
      "text/plain": [
       "2"
      ]
     },
     "execution_count": 41,
     "metadata": {},
     "output_type": "execute_result"
    }
   ],
   "source": [
    "f(1)"
   ]
  },
  {
   "cell_type": "code",
   "execution_count": 42,
   "id": "18823d23-27d1-4989-a37e-a0bae902da15",
   "metadata": {},
   "outputs": [
    {
     "data": {
      "text/plain": [
       "true"
      ]
     },
     "execution_count": 42,
     "metadata": {},
     "output_type": "execute_result"
    }
   ],
   "source": [
    "A.f == B.f\n",
    "A.SimAccMode == B.SimAccMode"
   ]
  },
  {
   "cell_type": "markdown",
   "id": "e55fd129-646d-4294-ba76-85a01fdd1fc1",
   "metadata": {},
   "source": [
    "# Example 2"
   ]
  },
  {
   "cell_type": "code",
   "execution_count": 46,
   "id": "cdad2b3e-a91b-4923-ab41-b08c97acb35a",
   "metadata": {},
   "outputs": [
    {
     "name": "stderr",
     "output_type": "stream",
     "text": [
      "WARNING: replacing module B.\n",
      "WARNING: replacing module A.\n"
     ]
    },
    {
     "data": {
      "text/plain": [
       "Main.A"
      ]
     },
     "execution_count": 46,
     "metadata": {},
     "output_type": "execute_result"
    }
   ],
   "source": [
    "module B\n",
    "    export f, SimAccMode\n",
    "\n",
    "    abstract type SimAccMode end\n",
    "\n",
    "    f() = 1\n",
    "end   \n",
    "\n",
    "\n",
    "module A\n",
    "    using ..B\n",
    "end   "
   ]
  },
  {
   "cell_type": "code",
   "execution_count": 107,
   "id": "927aa008-cc65-41ca-a317-390af2f87dbb",
   "metadata": {},
   "outputs": [
    {
     "name": "stdout",
     "output_type": "stream",
     "text": [
      "f == A.B.f = true\n"
     ]
    },
    {
     "name": "stderr",
     "output_type": "stream",
     "text": [
      "WARNING: replacing module C.\n"
     ]
    },
    {
     "data": {
      "text/plain": [
       "Main.C"
      ]
     },
     "execution_count": 107,
     "metadata": {},
     "output_type": "execute_result"
    }
   ],
   "source": [
    "module C\n",
    "    # import ..A: f, SimAccMode\n",
    "    using ..A\n",
    "    using ..A: f, SimAccMode\n",
    "\n",
    "    @show f == A.B.f\n",
    "\n",
    "end   "
   ]
  },
  {
   "cell_type": "markdown",
   "id": "6beff545-a6f0-427b-844a-f090d9901e76",
   "metadata": {},
   "source": [
    "# Example 3"
   ]
  },
  {
   "cell_type": "code",
   "execution_count": 92,
   "id": "79a19c48-a215-458e-92a2-136f5cf0a462",
   "metadata": {},
   "outputs": [
    {
     "name": "stdout",
     "output_type": "stream",
     "text": [
      "parentmodule(SimAccMode) = Main.B\n"
     ]
    },
    {
     "name": "stderr",
     "output_type": "stream",
     "text": [
      "WARNING: replacing module B.\n",
      "WARNING: replacing module C.\n",
      "WARNING: replacing module A.\n"
     ]
    },
    {
     "data": {
      "text/plain": [
       "Main.A"
      ]
     },
     "execution_count": 92,
     "metadata": {},
     "output_type": "execute_result"
    }
   ],
   "source": [
    "module B\n",
    "    export f, SimAccMode\n",
    "\n",
    "    abstract type SimAccMode end\n",
    "\n",
    "    f() = 1\n",
    "end   \n",
    "\n",
    "module C\n",
    "    import ..B: f, SimAccMode\n",
    "    @show parentmodule(SimAccMode)\n",
    "\n",
    "    sample_dict = Dict()\n",
    "    sample_dict[:selva] = SimAccMode\n",
    "\n",
    "end   \n",
    "\n",
    "\n",
    "module A\n",
    "    using ..B\n",
    "    using ..C\n",
    "end   "
   ]
  },
  {
   "cell_type": "code",
   "execution_count": 105,
   "id": "63a5d902-2bc1-4b41-9401-2c6aebee183f",
   "metadata": {},
   "outputs": [
    {
     "name": "stdout",
     "output_type": "stream",
     "text": [
      "f == A.B.f = true\n",
      "A.C.sample_dict[:selva] == SimAccMode = true\n"
     ]
    },
    {
     "name": "stderr",
     "output_type": "stream",
     "text": [
      "WARNING: replacing module D.\n"
     ]
    },
    {
     "data": {
      "text/plain": [
       "Main.D"
      ]
     },
     "execution_count": 105,
     "metadata": {},
     "output_type": "execute_result"
    }
   ],
   "source": [
    "module D\n",
    "    using ..A\n",
    "    import ..A: f, SimAccMode\n",
    "\n",
    "    @show f == A.B.f\n",
    "\n",
    "    @show  A.C.sample_dict[:selva] == SimAccMode\n",
    "end   "
   ]
  },
  {
   "cell_type": "code",
   "execution_count": null,
   "id": "10b095a5-aacd-4f70-9c52-01928a2c3dd8",
   "metadata": {},
   "outputs": [],
   "source": []
  }
 ],
 "metadata": {
  "kernelspec": {
   "display_name": "control_precompiled 1.9.1",
   "language": "julia",
   "name": "control_precompiled-1.9"
  },
  "language_info": {
   "file_extension": ".jl",
   "mimetype": "application/julia",
   "name": "julia",
   "version": "1.9.1"
  }
 },
 "nbformat": 4,
 "nbformat_minor": 5
}
