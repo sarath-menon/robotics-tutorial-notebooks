{
 "cells": [
  {
   "cell_type": "code",
   "execution_count": 1,
   "id": "1161b7cf",
   "metadata": {
    "scrolled": true
   },
   "outputs": [
    {
     "name": "stderr",
     "output_type": "stream",
     "text": [
      "\u001b[32m\u001b[1m  Activating\u001b[22m\u001b[39m project at `~/Documents/eth_courses/notebooks/math/julia/probability`\n",
      "\u001b[33m\u001b[1m┌ \u001b[22m\u001b[39m\u001b[33m\u001b[1mWarning: \u001b[22m\u001b[39mThe active manifest file has dependencies that were resolved with a different julia version (1.8.5). Unexpected behavior may occur.\n",
      "\u001b[33m\u001b[1m└ \u001b[22m\u001b[39m\u001b[90m@ ~/Documents/eth_courses/notebooks/math/julia/probability/Manifest.toml:0\u001b[39m\n",
      "\u001b[32m\u001b[1m   Installed\u001b[22m\u001b[39m libsvm_jll ────────────── v3.25.0+0\n",
      "\u001b[32m\u001b[1m   Installed\u001b[22m\u001b[39m ScikitLearnBase ───────── v0.5.0\n",
      "\u001b[32m\u001b[1m   Installed\u001b[22m\u001b[39m HypergeometricFunctions ─ v0.3.16\n",
      "\u001b[32m\u001b[1m   Installed\u001b[22m\u001b[39m GLMakie ───────────────── v0.8.5\n",
      "\u001b[32m\u001b[1m   Installed\u001b[22m\u001b[39m FFTW ──────────────────── v1.6.0\n",
      "\u001b[32m\u001b[1m   Installed\u001b[22m\u001b[39m GLM ───────────────────── v1.8.3\n",
      "\u001b[32m\u001b[1m   Installed\u001b[22m\u001b[39m StaticArrays ──────────── v1.5.25\n",
      "\u001b[32m\u001b[1m   Installed\u001b[22m\u001b[39m SentinelArrays ────────── v1.3.18\n",
      "\u001b[32m\u001b[1m   Installed\u001b[22m\u001b[39m LIBLINEAR ─────────────── v0.6.0\n",
      "\u001b[32m\u001b[1m   Installed\u001b[22m\u001b[39m Loess ─────────────────── v0.5.4\n",
      "\u001b[32m\u001b[1m   Installed\u001b[22m\u001b[39m SpecialFunctions ──────── v2.2.0\n",
      "\u001b[32m\u001b[1m   Installed\u001b[22m\u001b[39m Ratios ────────────────── v0.4.4\n",
      "\u001b[32m\u001b[1m   Installed\u001b[22m\u001b[39m StatsModels ───────────── v0.7.2\n",
      "\u001b[32m\u001b[1m   Installed\u001b[22m\u001b[39m Compat ────────────────── v4.6.1\n",
      "\u001b[32m\u001b[1m   Installed\u001b[22m\u001b[39m DataFrames ────────────── v1.5.0\n",
      "\u001b[32m\u001b[1m   Installed\u001b[22m\u001b[39m Expat_jll ─────────────── v2.4.8+0\n",
      "\u001b[32m\u001b[1m   Installed\u001b[22m\u001b[39m Indexing ──────────────── v1.1.1\n",
      "\u001b[32m\u001b[1m   Installed\u001b[22m\u001b[39m StatsBase ─────────────── v0.33.21\n",
      "\u001b[32m\u001b[1m   Installed\u001b[22m\u001b[39m Parsers ───────────────── v2.5.10\n",
      "\u001b[32m\u001b[1m   Installed\u001b[22m\u001b[39m LogExpFunctions ───────── v0.3.23\n",
      "\u001b[32m\u001b[1m   Installed\u001b[22m\u001b[39m InverseFunctions ──────── v0.1.9\n",
      "\u001b[32m\u001b[1m   Installed\u001b[22m\u001b[39m AbstractFFTs ──────────── v1.3.1\n",
      "\u001b[32m\u001b[1m   Installed\u001b[22m\u001b[39m Pixman_jll ────────────── v0.40.1+0\n",
      "\u001b[32m\u001b[1m   Installed\u001b[22m\u001b[39m OpenSSL_jll ───────────── v1.1.20+0\n",
      "\u001b[32m\u001b[1m   Installed\u001b[22m\u001b[39m IterTools ─────────────── v1.4.0\n",
      "\u001b[32m\u001b[1m   Installed\u001b[22m\u001b[39m CairoMakie ────────────── v0.10.5\n",
      "\u001b[32m\u001b[1m   Installed\u001b[22m\u001b[39m Dictionaries ──────────── v0.3.25\n",
      "\u001b[32m\u001b[1m   Installed\u001b[22m\u001b[39m FillArrays ────────────── v1.1.0\n",
      "\u001b[32m\u001b[1m   Installed\u001b[22m\u001b[39m PrecompileTools ───────── v1.1.1\n",
      "\u001b[32m\u001b[1m   Installed\u001b[22m\u001b[39m ShiftedArrays ─────────── v2.0.0\n",
      "\u001b[32m\u001b[1m   Installed\u001b[22m\u001b[39m LIBSVM ────────────────── v0.8.0\n",
      "\u001b[32m\u001b[1m   Installed\u001b[22m\u001b[39m SortingAlgorithms ─────── v1.1.0\n",
      "\u001b[32m\u001b[1m   Installed\u001b[22m\u001b[39m ChangesOfVariables ────── v0.1.7\n",
      "\u001b[32m\u001b[1m   Installed\u001b[22m\u001b[39m liblinear_jll ─────────── v2.30.0+0\n",
      "\u001b[32m\u001b[1m   Installed\u001b[22m\u001b[39m DensityInterface ──────── v0.4.0\n",
      "\u001b[32m\u001b[1m   Installed\u001b[22m\u001b[39m Distributions ─────────── v0.25.94\n",
      "\u001b[32m\u001b[1m   Installed\u001b[22m\u001b[39m PrettyTables ──────────── v2.2.4\n",
      "\u001b[32m\u001b[1m   Installed\u001b[22m\u001b[39m AlgebraOfGraphics ─────── v0.6.14\n",
      "\u001b[32m\u001b[1m   Installed\u001b[22m\u001b[39m Makie ─────────────────── v0.19.5\n",
      "\u001b[32m\u001b[1mPrecompiling\u001b[22m\u001b[39m project...\n",
      "\u001b[32m  ✓ \u001b[39m\u001b[90mIndexing\u001b[39m\n",
      "\u001b[32m  ✓ \u001b[39m\u001b[90mLoess\u001b[39m\n",
      "\u001b[32m  ✓ \u001b[39m\u001b[90mChangesOfVariables\u001b[39m\n",
      "\u001b[32m  ✓ \u001b[39m\u001b[90mInverseFunctions\u001b[39m\n",
      "\u001b[32m  ✓ \u001b[39m\u001b[90mSentinelArrays\u001b[39m\n",
      "\u001b[32m  ✓ \u001b[39m\u001b[90mShiftedArrays\u001b[39m\n",
      "\u001b[32m  ✓ \u001b[39m\u001b[90mlibsvm_jll\u001b[39m\n",
      "\u001b[32m  ✓ \u001b[39m\u001b[90mScikitLearnBase\u001b[39m\n",
      "\u001b[32m  ✓ \u001b[39m\u001b[90mliblinear_jll\u001b[39m\n",
      "\u001b[32m  ✓ \u001b[39m\u001b[90mDensityInterface\u001b[39m\n",
      "\u001b[32m  ✓ \u001b[39m\u001b[90mDictionaries\u001b[39m\n",
      "\u001b[32m  ✓ \u001b[39m\u001b[90mStatsModels\u001b[39m\n",
      "\u001b[32m  ✓ \u001b[39m\u001b[90mLIBLINEAR\u001b[39m\n",
      "\u001b[32m  ✓ \u001b[39m\u001b[90mGLM\u001b[39m\n",
      "\u001b[32m  ✓ \u001b[39mLIBSVM\n",
      "\u001b[91m  ✗ \u001b[39mCairoMakie\n",
      "\u001b[32m  ✓ \u001b[39m\u001b[90mPrettyTables\u001b[39m\n",
      "\u001b[32m  ✓ \u001b[39mAlgebraOfGraphics\n",
      "\u001b[32m  ✓ \u001b[39mDataFrames\n",
      "  18 dependencies successfully precompiled in 161 seconds. 10 already precompiled.\n",
      "  \u001b[91m1\u001b[39m dependency errored. To see a full report either run `import Pkg; Pkg.precompile()` or load the package\n"
     ]
    }
   ],
   "source": [
    "import Pkg; Pkg.activate(@__DIR__); Pkg.instantiate()"
   ]
  },
  {
   "cell_type": "code",
   "execution_count": 2,
   "id": "a5d0367f",
   "metadata": {},
   "outputs": [
    {
     "data": {
      "text/plain": [
       "TaskLocalRNG()"
      ]
     },
     "execution_count": 2,
     "metadata": {},
     "output_type": "execute_result"
    }
   ],
   "source": [
    "using Random, Distributions\n",
    "Random.seed!(123)"
   ]
  },
  {
   "cell_type": "markdown",
   "id": "d01b3b4c",
   "metadata": {},
   "source": [
    "# Normal distrib"
   ]
  },
  {
   "cell_type": "code",
   "execution_count": 3,
   "id": "80a0ec0f",
   "metadata": {},
   "outputs": [
    {
     "data": {
      "text/plain": [
       "1.0"
      ]
     },
     "execution_count": 3,
     "metadata": {},
     "output_type": "execute_result"
    }
   ],
   "source": [
    "X_gaussian = Normal()\n",
    "mean(X_gaussian)\n",
    "var(X_gaussian)\n",
    "std(X_gaussian)"
   ]
  },
  {
   "cell_type": "markdown",
   "id": "5e7b1a19",
   "metadata": {},
   "source": [
    "### draw samples"
   ]
  },
  {
   "cell_type": "code",
   "execution_count": 4,
   "id": "cd54a57e",
   "metadata": {},
   "outputs": [
    {
     "data": {
      "text/plain": [
       "100-element Vector{Float64}:\n",
       "  0.8082879284649668\n",
       " -1.1220725081141734\n",
       " -1.1046361023292959\n",
       " -0.4169926351649334\n",
       "  0.28758798062385577\n",
       "  0.2298186980518676\n",
       " -0.4217686643996927\n",
       " -1.355590621101197\n",
       "  0.0694591410918936\n",
       " -0.11732280453081337\n",
       "  1.2192815097319654\n",
       "  0.29291433452245674\n",
       " -0.031148130349280094\n",
       "  ⋮\n",
       "  0.8513501652164516\n",
       "  0.13094190429166025\n",
       " -0.03170723035024594\n",
       "  0.4350014776438522\n",
       "  0.8402951127287839\n",
       "  0.37905112039392486\n",
       " -0.10862495404911267\n",
       " -0.6787747615011163\n",
       " -1.088218513936287\n",
       "  0.7037583257923017\n",
       "  0.14332589323751366\n",
       "  0.14837536667608195"
      ]
     },
     "execution_count": 4,
     "metadata": {},
     "output_type": "execute_result"
    }
   ],
   "source": [
    " samples = rand(X_gaussian, 100)"
   ]
  },
  {
   "cell_type": "markdown",
   "id": "475ec970",
   "metadata": {},
   "source": [
    "## Maximum likelihood"
   ]
  },
  {
   "cell_type": "code",
   "execution_count": 5,
   "id": "439c73af",
   "metadata": {},
   "outputs": [
    {
     "data": {
      "text/plain": [
       "Normal{Float64}(μ=-0.04827714875398303, σ=0.9256810813636542)"
      ]
     },
     "execution_count": 5,
     "metadata": {},
     "output_type": "execute_result"
    }
   ],
   "source": [
    "fit_mle(Normal, samples)"
   ]
  },
  {
   "cell_type": "markdown",
   "id": "c9c5dc3d",
   "metadata": {},
   "source": [
    "## CDF"
   ]
  },
  {
   "cell_type": "code",
   "execution_count": 6,
   "id": "bfb5c507",
   "metadata": {},
   "outputs": [
    {
     "data": {
      "text/plain": [
       "0.5"
      ]
     },
     "execution_count": 6,
     "metadata": {},
     "output_type": "execute_result"
    }
   ],
   "source": [
    "cdf( X_gaussian, 0)"
   ]
  },
  {
   "cell_type": "markdown",
   "id": "6fd0b195",
   "metadata": {},
   "source": [
    "## Scaling"
   ]
  },
  {
   "cell_type": "code",
   "execution_count": 7,
   "id": "d3e54fe5",
   "metadata": {},
   "outputs": [
    {
     "data": {
      "text/plain": [
       "Normal{Float64}(μ=0.0, σ=5.0)"
      ]
     },
     "execution_count": 7,
     "metadata": {},
     "output_type": "execute_result"
    }
   ],
   "source": [
    "X_gaussian * 5"
   ]
  },
  {
   "cell_type": "markdown",
   "id": "2d339804",
   "metadata": {},
   "source": [
    "## Addition"
   ]
  },
  {
   "cell_type": "code",
   "execution_count": 8,
   "id": "024612a1",
   "metadata": {},
   "outputs": [
    {
     "data": {
      "text/plain": [
       "Normal{Float64}(μ=2.0, σ=1.8027756377319946)"
      ]
     },
     "execution_count": 8,
     "metadata": {},
     "output_type": "execute_result"
    }
   ],
   "source": [
    "Y_gaussian = Normal(2, 1.5)\n",
    "convolve(X_gaussian, Y_gaussian)"
   ]
  },
  {
   "cell_type": "markdown",
   "id": "2af44f4d",
   "metadata": {},
   "source": [
    "# Other distributions"
   ]
  },
  {
   "cell_type": "markdown",
   "id": "f270fed4",
   "metadata": {},
   "source": [
    "### Bernoulli"
   ]
  },
  {
   "cell_type": "code",
   "execution_count": 9,
   "id": "a0201266",
   "metadata": {},
   "outputs": [
    {
     "data": {
      "text/plain": [
       "1-element Vector{Bool}:\n",
       " 1"
      ]
     },
     "execution_count": 9,
     "metadata": {},
     "output_type": "execute_result"
    }
   ],
   "source": [
    "p = 0.5\n",
    "bernoulli_distrib = Bernoulli(p)\n",
    "\n",
    "# draw sample\n",
    "rand(bernoulli_distrib ,1)"
   ]
  },
  {
   "cell_type": "markdown",
   "id": "cf2ff6c0",
   "metadata": {},
   "source": [
    "### Categorical"
   ]
  },
  {
   "cell_type": "code",
   "execution_count": 10,
   "id": "043081f0",
   "metadata": {},
   "outputs": [
    {
     "data": {
      "text/plain": [
       "5-element Vector{Int64}:\n",
       " 1\n",
       " 1\n",
       " 1\n",
       " 1\n",
       " 1"
      ]
     },
     "execution_count": 10,
     "metadata": {},
     "output_type": "execute_result"
    }
   ],
   "source": [
    "# catgeories 1,2,3\n",
    "p = [0.7,0.2,0.1]\n",
    "\n",
    "categorical_distrib = Categorical(p)\n",
    "\n",
    "# draw samples\n",
    "rand(categorical_distrib ,5)"
   ]
  },
  {
   "cell_type": "markdown",
   "id": "d38c4574",
   "metadata": {},
   "source": [
    "### Uniform "
   ]
  },
  {
   "cell_type": "code",
   "execution_count": 11,
   "id": "4a8cae0c",
   "metadata": {},
   "outputs": [
    {
     "data": {
      "text/plain": [
       "4-element Vector{Float64}:\n",
       " -1.4324173442454347\n",
       "  1.2317171491486811\n",
       "  2.4518801576780413\n",
       " -0.7688755850370956"
      ]
     },
     "execution_count": 11,
     "metadata": {},
     "output_type": "execute_result"
    }
   ],
   "source": [
    "uniform_distrib = Uniform(-2,3.5)\n",
    "\n",
    "# draw samples\n",
    "rand(uniform_distrib ,4)"
   ]
  },
  {
   "cell_type": "markdown",
   "id": "b1048fb5",
   "metadata": {},
   "source": [
    "### Discrete uniform "
   ]
  },
  {
   "cell_type": "code",
   "execution_count": 12,
   "id": "1874ff57",
   "metadata": {},
   "outputs": [
    {
     "data": {
      "text/plain": [
       "4-element Vector{Int64}:\n",
       " 5\n",
       " 2\n",
       " 4\n",
       " 5"
      ]
     },
     "execution_count": 12,
     "metadata": {},
     "output_type": "execute_result"
    }
   ],
   "source": [
    "discrete_uniform_distrib = DiscreteUniform(1,5)\n",
    "\n",
    "# draw samples\n",
    "rand(discrete_uniform_distrib ,4)"
   ]
  },
  {
   "cell_type": "code",
   "execution_count": null,
   "id": "6f79aaef",
   "metadata": {},
   "outputs": [],
   "source": []
  },
  {
   "cell_type": "code",
   "execution_count": null,
   "id": "389891db-f27c-4b29-b8a1-b8df07830205",
   "metadata": {},
   "outputs": [],
   "source": []
  }
 ],
 "metadata": {
  "kernelspec": {
   "display_name": "control_precompiled 1.9.1",
   "language": "julia",
   "name": "control_precompiled-1.9"
  },
  "language_info": {
   "file_extension": ".jl",
   "mimetype": "application/julia",
   "name": "julia",
   "version": "1.9.1"
  }
 },
 "nbformat": 4,
 "nbformat_minor": 5
}
