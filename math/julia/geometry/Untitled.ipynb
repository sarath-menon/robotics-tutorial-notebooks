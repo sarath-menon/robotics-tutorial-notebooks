{
 "cells": [
  {
   "cell_type": "code",
   "execution_count": 5,
   "id": "42b63214-8c42-4e09-9cb9-96280403c8f2",
   "metadata": {},
   "outputs": [],
   "source": [
    "from scipy.interpolate import BPoly\n",
    "import numpy as np"
   ]
  },
  {
   "cell_type": "code",
   "execution_count": 12,
   "id": "ca82ae72-76f4-4264-ae9c-e03816fe3d23",
   "metadata": {},
   "outputs": [],
   "source": [
    "points = np.array([(0,0),(0,1),(1,2),(2,2)]) \n",
    "curve = BPoly(points[:,None,:], [0,1])\n"
   ]
  },
  {
   "cell_type": "code",
   "execution_count": 14,
   "id": "5597655e-9884-4f10-ab11-2459066314ee",
   "metadata": {},
   "outputs": [
    {
     "data": {
      "text/plain": [
       "array([-6800., -7940.])"
      ]
     },
     "execution_count": 14,
     "metadata": {},
     "output_type": "execute_result"
    }
   ],
   "source": [
    "curve(20)"
   ]
  },
  {
   "cell_type": "code",
   "execution_count": null,
   "id": "21ff0250-0dac-4cde-8193-710d7ae8a3f9",
   "metadata": {},
   "outputs": [],
   "source": []
  }
 ],
 "metadata": {
  "kernelspec": {
   "display_name": "Python 3 (ipykernel)",
   "language": "python",
   "name": "python3"
  },
  "language_info": {
   "codemirror_mode": {
    "name": "ipython",
    "version": 3
   },
   "file_extension": ".py",
   "mimetype": "text/x-python",
   "name": "python",
   "nbconvert_exporter": "python",
   "pygments_lexer": "ipython3",
   "version": "3.11.4"
  }
 },
 "nbformat": 4,
 "nbformat_minor": 5
}
