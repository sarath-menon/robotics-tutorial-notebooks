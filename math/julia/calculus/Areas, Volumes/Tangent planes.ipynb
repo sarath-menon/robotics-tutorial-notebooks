{
 "cells": [
  {
   "cell_type": "code",
   "execution_count": null,
   "id": "7b1b1fd8-600b-467e-bc12-bfa255f25433",
   "metadata": {},
   "outputs": [],
   "source": [
    "import Pkg; Pkg.activate(@__DIR__); Pkg.instantiate();"
   ]
  },
  {
   "cell_type": "code",
   "execution_count": 30,
   "id": "db97de2e-e259-4e8a-851c-c6337cf15266",
   "metadata": {},
   "outputs": [],
   "source": [
    "using GLMakie\n",
    "using ForwardDiff\n",
    "using LinearAlgebra\n",
    "\n",
    "GLMakie.activate!(inline=false)"
   ]
  },
  {
   "cell_type": "code",
   "execution_count": 175,
   "id": "c695f0b1-16a1-4c2f-a2ad-fe3bce01f8a1",
   "metadata": {},
   "outputs": [
    {
     "data": {
      "text/plain": [
       "Surface{Tuple{Vector{Float32}, Vector{Float32}, Matrix{Float32}}}"
      ]
     },
     "execution_count": 175,
     "metadata": {},
     "output_type": "execute_result"
    }
   ],
   "source": [
    "fig = Figure()\n",
    "ax1 = Axis3(fig[1, 1], aspect = :equal)\n",
    "display(fig)\n",
    "\n",
    "xs = LinRange(-10, 10, 100)\n",
    "ys = LinRange(-10, 10, 100)\n",
    "\n",
    "f(x,y) = 6 - x^2 -y^2\n",
    "f(var) = f(var...)\n",
    "\n",
    "zs = [f(x,y) for x in xs, y in ys]\n",
    "xy_points = [ Point2f(x,y) for x in xs, y in ys]\n",
    "\n",
    "surface!(ax1, xs, ys, zs)"
   ]
  },
  {
   "cell_type": "markdown",
   "id": "8b9c67ff-6b52-4a07-9cd6-ee7e59815815",
   "metadata": {},
   "source": [
    "## Compute tangent plane"
   ]
  },
  {
   "cell_type": "code",
   "execution_count": 171,
   "id": "2701a3ef-6724-43be-874c-4b4b3ae77f6a",
   "metadata": {},
   "outputs": [
    {
     "data": {
      "text/plain": [
       "tangent_plane (generic function with 2 methods)"
      ]
     },
     "execution_count": 171,
     "metadata": {},
     "output_type": "execute_result"
    }
   ],
   "source": [
    "# get x,y points of the plane tangent to sirface f at given point\n",
    "\n",
    "tangent_plane(x,y, f, point) = f(point) + dot(ForwardDiff.gradient(f, point) , [x-point[1], y-point[2]]) "
   ]
  },
  {
   "cell_type": "code",
   "execution_count": 176,
   "id": "06e4fdaa-0bfb-4cf2-87fc-b9b41d9af8e2",
   "metadata": {},
   "outputs": [
    {
     "data": {
      "text/plain": [
       "Surface{Tuple{Vector{Float32}, Vector{Float32}, Matrix{Float32}}}"
      ]
     },
     "execution_count": 176,
     "metadata": {},
     "output_type": "execute_result"
    }
   ],
   "source": [
    "xs = Observable{Vector{Float64}}(zeros(100))\n",
    "ys = Observable{Vector{Float64}}(zeros(100))\n",
    "zs = Observable{Matrix{Float64}}(zeros(100,1))\n",
    "\n",
    "\n",
    "xs[] = LinRange(-10, 10, 100)\n",
    "ys[] = LinRange(-10, 10, 100)\n",
    "\n",
    "zs[] = [tangent_plane(x,y,f, point) for x in xs[], y in ys[]]\n",
    "\n",
    "surface!(ax1, xs, ys, zs, transparency=true, colormap=:blues)"
   ]
  },
  {
   "cell_type": "code",
   "execution_count": 178,
   "id": "5c0cdda8-5d85-4428-acd8-35ea5a5e4850",
   "metadata": {},
   "outputs": [],
   "source": [
    "point = rand(xy_points)\n",
    "\n",
    "extra = 2\n",
    "xs[] = LinRange(point[1]+extra, point[1]-extra, 100)\n",
    "ys[] = LinRange(point[2]+extra, point[2]-extra, 100)\n",
    "\n",
    "zs[] = [tangent_plane(x,y,f, point) for x in xs[], y in ys[]];"
   ]
  },
  {
   "cell_type": "markdown",
   "id": "479bcedd-40b3-4b29-af97-1feb06a84982",
   "metadata": {},
   "source": [
    "## Quadratic approximation"
   ]
  },
  {
   "cell_type": "code",
   "execution_count": 187,
   "id": "e697daa8-2086-41e7-9743-9f29eb89ea75",
   "metadata": {},
   "outputs": [
    {
     "data": {
      "text/plain": [
       "Surface{Tuple{Vector{Float32}, Vector{Float32}, Matrix{Float32}}}"
      ]
     },
     "execution_count": 187,
     "metadata": {},
     "output_type": "execute_result"
    }
   ],
   "source": [
    "fig = Figure()\n",
    "ax1 = Axis3(fig[1, 1], aspect = :equal)\n",
    "display(fig)\n",
    "\n",
    "xs = LinRange(-10, 10, 100)\n",
    "ys = LinRange(-10, 10, 100)\n",
    "\n",
    "f(x,y) =  0.2 * cos(0.3*x) * sin(0.3*y)\n",
    "f(var) = f(var...)\n",
    "\n",
    "zs = [f(x,y) for x in xs, y in ys]\n",
    "xy_points = [ Point2f(x,y) for x in xs, y in ys]\n",
    "\n",
    "surface!(ax1, xs, ys, zs)"
   ]
  },
  {
   "cell_type": "code",
   "execution_count": null,
   "id": "da695c52-eaee-42fd-bb8b-f25b989d509d",
   "metadata": {},
   "outputs": [],
   "source": []
  }
 ],
 "metadata": {
  "kernelspec": {
   "display_name": "control_precompiled 1.9.1",
   "language": "julia",
   "name": "control_precompiled-1.9"
  },
  "language_info": {
   "file_extension": ".jl",
   "mimetype": "application/julia",
   "name": "julia",
   "version": "1.9.1"
  }
 },
 "nbformat": 4,
 "nbformat_minor": 5
}
