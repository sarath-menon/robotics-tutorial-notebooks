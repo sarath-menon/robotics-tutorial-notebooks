{
 "cells": [
  {
   "cell_type": "code",
   "execution_count": 159,
   "id": "049fa7d1-e984-4db2-a29b-980716964532",
   "metadata": {},
   "outputs": [],
   "source": [
    "import cvxpy as cp\n",
    "import numpy as np\n",
    "from cvxpygen import cpg\n",
    "\n",
    "pi = np.pi"
   ]
  },
  {
   "cell_type": "markdown",
   "id": "6bf78b12-cc66-4f98-955f-64bc13944aae",
   "metadata": {},
   "source": [
    "### Constants"
   ]
  },
  {
   "cell_type": "code",
   "execution_count": 146,
   "id": "77840de8-4519-4bac-a250-f5d8b6142fc0",
   "metadata": {},
   "outputs": [],
   "source": [
    "# Constants\n",
    "k = cp.Parameter(pos=True, value= 1.2)\n",
    "e = cp.Parameter(pos=True, value= 0.95)\n",
    "mu = cp.Parameter(pos=True, value= 1.78e-5)\n",
    "rho = cp.Parameter(pos=True, value= 1.23)\n",
    "tau = cp.Parameter(pos=True, value= 0.12)\n",
    "N_ult = cp.Parameter(pos=True, value= 3.8)\n",
    "\n",
    "V_min = cp.Parameter(pos=True, value= 22)\n",
    "C_Lmax = cp.Parameter(pos=True, value= 1.5)\n",
    "S_wetratio = cp.Parameter(pos=True, value=  2.05)\n",
    "W_W_coeff1 = cp.Parameter(pos=True, value= 8.71e-5)\n",
    "W_W_coeff2 = cp.Parameter(pos=True, value= 45.24)\n",
    "CDA0 = cp.Parameter(pos=True, value= 0.031)\n",
    "W_0 = cp.Parameter(pos=True, value=  4940.0)\n"
   ]
  },
  {
   "cell_type": "markdown",
   "id": "a443a01f-09fd-4e1c-a1a9-fc6569cdc320",
   "metadata": {},
   "source": [
    "### Free variables"
   ]
  },
  {
   "cell_type": "code",
   "execution_count": 147,
   "id": "d29dd899-f653-4be2-9b5e-d8cb1a434dc4",
   "metadata": {},
   "outputs": [],
   "source": [
    "D = cp.Variable(pos=True, name=\"D\")\n",
    "A = cp.Variable(pos=True, name=\"A\")\n",
    "S = cp.Variable(pos=True, name=\"S\")\n",
    "V = cp.Variable(pos=True, name=\"V\")\n",
    "W = cp.Variable(pos=True, name=\"W\")\n",
    "Re = cp.Variable(pos=True, name=\"Re\")\n",
    "C_D = cp.Variable(pos=True, name=\"C_D\")\n",
    "C_L = cp.Variable(pos=True, name=\"C_L\")\n",
    "C_f = cp.Variable(pos=True, name=\"C_f\")\n",
    "W_w = cp.Variable(pos=True, name=\"W_w\")\n",
    "\n",
    "# Drag model\n",
    "C_D_fuse = CDA0/S\n",
    "C_D_wpar = k*C_f*S_wetratio\n",
    "C_D_ind = C_L**2/(pi*A*e)\n",
    "\n",
    "# Wing weight model\n",
    "W_w_strc = W_W_coeff1*(N_ult*A**1.5*(W_0*W*S)**0.5)/tau\n",
    "W_w_surf = W_W_coeff2 * S"
   ]
  },
  {
   "cell_type": "markdown",
   "id": "833afce0-de36-4e80-bc5d-b222ec777da0",
   "metadata": {},
   "source": [
    "### Constrains"
   ]
  },
  {
   "cell_type": "code",
   "execution_count": 148,
   "id": "b959a094-5604-4ce3-b9ee-fce621249153",
   "metadata": {},
   "outputs": [],
   "source": [
    "constraints = [\n",
    "    W_w >= W_w_surf + W_w_strc,\n",
    "    C_D >= C_D_fuse + C_D_wpar + C_D_ind,\n",
    "    D >= 0.5*rho*S*C_D*V**2,\n",
    "    Re == (rho/mu)*V*(S/A)**0.5,\n",
    "    C_f == 0.074/Re**0.2,\n",
    "    W <= 0.5*rho*S*C_L*V**2,\n",
    "    W <= 0.5*rho*S*C_Lmax*V_min**2,\n",
    "    W >= W_0 + W_w\n",
    "]"
   ]
  },
  {
   "cell_type": "code",
   "execution_count": 176,
   "id": "43d3c701-7baa-4394-b228-4f453e989f46",
   "metadata": {},
   "outputs": [],
   "source": [
    "# penalized drag, reward aspect ratio\n",
    "objective_fn = D "
   ]
  },
  {
   "cell_type": "code",
   "execution_count": 177,
   "id": "b62f8e15-1a4c-49bc-9b94-30e10ba067e5",
   "metadata": {},
   "outputs": [
    {
     "name": "stdout",
     "output_type": "stream",
     "text": [
      "Optimal value=:  303.0747708730451\n"
     ]
    }
   ],
   "source": [
    "problem = cp.Problem(cp.Minimize(objective_fn), constraints)\n",
    "problem.solve(gp=True)\n",
    "\n",
    "print(\"Optimal value=: \", problem.value )"
   ]
  },
  {
   "cell_type": "code",
   "execution_count": 175,
   "id": "50d46514-e4a5-4387-b0e2-a2ac52129ec8",
   "metadata": {},
   "outputs": [
    {
     "data": {
      "text/plain": [
       "485.62757234156754"
      ]
     },
     "execution_count": 175,
     "metadata": {},
     "output_type": "execute_result"
    }
   ],
   "source": [
    "D.value"
   ]
  },
  {
   "cell_type": "code",
   "execution_count": null,
   "id": "37c4ed55-1e74-484b-a5a5-7daf5f3fe891",
   "metadata": {},
   "outputs": [],
   "source": []
  }
 ],
 "metadata": {
  "kernelspec": {
   "display_name": "Python 3 (ipykernel)",
   "language": "python",
   "name": "python3"
  },
  "language_info": {
   "codemirror_mode": {
    "name": "ipython",
    "version": 3
   },
   "file_extension": ".py",
   "mimetype": "text/x-python",
   "name": "python",
   "nbconvert_exporter": "python",
   "pygments_lexer": "ipython3",
   "version": "3.11.3"
  }
 },
 "nbformat": 4,
 "nbformat_minor": 5
}
