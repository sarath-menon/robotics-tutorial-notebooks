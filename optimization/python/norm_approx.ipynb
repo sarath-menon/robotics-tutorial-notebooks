{
 "cells": [
  {
   "cell_type": "code",
   "execution_count": 2,
   "metadata": {},
   "outputs": [],
   "source": [
    "import cvxpy as cp\n",
    "import numpy as np\n",
    "import matplotlib.pyplot as plt\n",
    "\n",
    "np.random.seed(1)"
   ]
  },
  {
   "cell_type": "markdown",
   "metadata": {},
   "source": [
    "# Penalty function approixation"
   ]
  },
  {
   "cell_type": "markdown",
   "metadata": {},
   "source": [
    "## Generate data"
   ]
  },
  {
   "cell_type": "code",
   "execution_count": 73,
   "metadata": {},
   "outputs": [],
   "source": [
    "m = 100 # no. of samples\n",
    "n = 30 # no. of features\n",
    "A = np.random.randn(m, n) \n",
    "b = np.random.randn(m) "
   ]
  },
  {
   "cell_type": "markdown",
   "metadata": {},
   "source": [
    "## L1 approx\n",
    "Minimize $\\|Ax-b\\|_1$"
   ]
  },
  {
   "cell_type": "code",
   "execution_count": 48,
   "metadata": {},
   "outputs": [
    {
     "data": {
      "text/plain": [
       "60.89897645316207"
      ]
     },
     "execution_count": 48,
     "metadata": {},
     "output_type": "execute_result"
    }
   ],
   "source": [
    "x = cp.Variable(n)\n",
    "\n",
    "residuals1 = A @ x - b\n",
    "cost = cp.norm(residuals1, p=1)\n",
    "prob = cp.Problem(cp.Minimize(cost))\n",
    "prob.solve()\n",
    "\n",
    "# print(f\"The optimal x is {x.value}\")"
   ]
  },
  {
   "cell_type": "markdown",
   "metadata": {},
   "source": [
    "## L2 approx\n",
    "Minimize $\\|Ax-b\\|_2$"
   ]
  },
  {
   "cell_type": "code",
   "execution_count": 49,
   "metadata": {},
   "outputs": [
    {
     "data": {
      "text/plain": [
       "7.995193378998265"
      ]
     },
     "execution_count": 49,
     "metadata": {},
     "output_type": "execute_result"
    }
   ],
   "source": [
    "x = cp.Variable(n)\n",
    "\n",
    "residuals2 = A @ x - b\n",
    "cost = cp.norm(residuals2, p=2)\n",
    "prob = cp.Problem(cp.Minimize(cost))\n",
    "prob.solve()\n",
    "\n",
    "# print(f\"The optimal x is {x.value}\")\n",
    "# res = A @ x - b\n",
    "# plot_residuals(res.value)"
   ]
  },
  {
   "cell_type": "markdown",
   "metadata": {},
   "source": [
    "## Dead zone approx\n",
    "Minimize $\\|Ax-b\\|_2$ subject to  $$\\phi(u) = \\begin{cases} \n",
    "0 & \\text{if } |u| \\leq a \\\\\n",
    "|u| - a & \\text{if } |u| > a \n",
    "\\end{cases}$$"
   ]
  },
  {
   "cell_type": "code",
   "execution_count": null,
   "metadata": {},
   "outputs": [
    {
     "data": {
      "text/plain": [
       "23.109878966996497"
      ]
     },
     "execution_count": 78,
     "metadata": {},
     "output_type": "execute_result"
    }
   ],
   "source": [
    "x = cp.Variable(n)\n",
    "a = 0.5  # threshold for the dead zone\n",
    "\n",
    "# Define the dead zone penalty function\n",
    "def dead_zone(u, a):\n",
    "    return cp.maximum(0, cp.abs(u) - a)\n",
    "\n",
    "# Define the cost function using the dead zone penalty\n",
    "residuals3 = A @ x - b\n",
    "cost = cp.sum(dead_zone(residuals3, a))\n",
    "\n",
    "# Define and solve the problem\n",
    "prob = cp.Problem(cp.Minimize(cost))\n",
    "prob.solve()"
   ]
  },
  {
   "cell_type": "markdown",
   "metadata": {},
   "source": [
    "# Residuals comparison"
   ]
  },
  {
   "cell_type": "code",
   "execution_count": 81,
   "metadata": {},
   "outputs": [
    {
     "data": {
      "image/png": "[encoded data removed]",
      "text/plain": [
       "<Figure size 600x400 with 3 Axes>"
      ]
     },
     "metadata": {},
     "output_type": "display_data"
    }
   ],
   "source": [
    "import matplotlib.pyplot as plt\n",
    "\n",
    "bins = 60\n",
    "\n",
    "fig, axs = plt.subplots(3, figsize=(6, 4))\n",
    "fig.text(0.5, 0.0, 'Residuals', ha='center')\n",
    "axs[0].hist(residuals1.value, bins=bins)\n",
    "axs[0].set_title('L1')\n",
    "axs[1].hist(residuals2.value, bins=bins)\n",
    "axs[1].set_title('L2')\n",
    "axs[2].hist(residuals3.value, bins=bins)\n",
    "axs[2].set_title('Dead zone')\n",
    "\n",
    "for ax in axs:\n",
    "    ax.set_ylim([0, 30])  # Set all subplots to same height\n",
    "    ax.set_xlim([-3, 3])  # Set all subplots to same height\n",
    "\n",
    "plt.tight_layout()\n",
    "plt.show()"
   ]
  }
 ],
 "metadata": {
  "kernelspec": {
   "display_name": ".venv",
   "language": "python",
   "name": "python3"
  },
  "language_info": {
   "codemirror_mode": {
    "name": "ipython",
    "version": 3
   },
   "file_extension": ".py",
   "mimetype": "text/x-python",
   "name": "python",
   "nbconvert_exporter": "python",
   "pygments_lexer": "ipython3",
   "version": "3.12.3"
  }
 },
 "nbformat": 4,
 "nbformat_minor": 2
}
