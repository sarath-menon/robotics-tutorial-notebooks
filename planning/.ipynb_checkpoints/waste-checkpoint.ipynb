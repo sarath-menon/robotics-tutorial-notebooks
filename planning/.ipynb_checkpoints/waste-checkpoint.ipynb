{
 "cells": [
  {
   "cell_type": "code",
   "execution_count": 46,
   "id": "d698a0be-fa40-4271-bca2-5e091bbbf2de",
   "metadata": {},
   "outputs": [],
   "source": [
    "graph = {1: {2, 3}, 2: {3, 4}, 3: {4}, 4: {3}, 5: {6}, 6: {3}}\n",
    "start =  2\n",
    "goal =  6"
   ]
  },
  {
   "cell_type": "markdown",
   "id": "04e621f7-0c68-4778-8a67-628ec6845d7d",
   "metadata": {},
   "source": [
    "## Initialization "
   ]
  },
  {
   "cell_type": "code",
   "execution_count": 66,
   "id": "5c8e6b4c-613e-48e1-ae36-44e81c97dcb7",
   "metadata": {},
   "outputs": [],
   "source": [
    "def dfs():\n",
    "    # initialize search queue, visited set\n",
    "    Q = [start] \n",
    "    V = [start] \n",
    "\n",
    "    # initializa path\n",
    "    path = []\n",
    "    \n",
    "    # set parent\n",
    "    parent_dict = {start:None}\n",
    "    \n",
    "    while len(Q) != 0:\n",
    "        # take first element 's' from the queue\n",
    "        s = Q.pop(0)\n",
    "    \n",
    "        print(\"Popped\" , s)\n",
    "        print(\"Queue: \", Q)\n",
    "        \n",
    "        # check if first element in queue is the goal state\n",
    "        if s == goal:\n",
    "            path.append(goal)\n",
    "            println(\"Found path\")\n",
    "            return path\n",
    "    \n",
    "        for s_bar in graph[s]:\n",
    "            if s_bar not in V:\n",
    "                Q.append(s_bar)\n",
    "                V.append(s_bar)\n",
    "    \n",
    "                # set parent\n",
    "                parent_dict[s] = s_bar\n",
    "    \n",
    "    # if execution reached here, algorithm couldn't find path\n",
    "    return \"Failure\""
   ]
  },
  {
   "cell_type": "code",
   "execution_count": 67,
   "id": "20245954-eff1-4c84-a9a0-a0ea508459f5",
   "metadata": {},
   "outputs": [
    {
     "name": "stdout",
     "output_type": "stream",
     "text": [
      "Popped 2\n",
      "Queue:  []\n",
      "Popped 3\n",
      "Queue:  [4]\n",
      "Popped 4\n",
      "Queue:  []\n",
      "Failure\n"
     ]
    }
   ],
   "source": [
    "print(dfs())\n"
   ]
  },
  {
   "cell_type": "code",
   "execution_count": 56,
   "id": "8d14f3c4-9069-47cd-8eb9-c5827d15feca",
   "metadata": {},
   "outputs": [
    {
     "data": {
      "text/plain": [
       "[2, 3, 4]"
      ]
     },
     "execution_count": 56,
     "metadata": {},
     "output_type": "execute_result"
    }
   ],
   "source": [
    "V"
   ]
  },
  {
   "cell_type": "code",
   "execution_count": 59,
   "id": "7f491155-9226-485c-94f5-7c5099a55040",
   "metadata": {},
   "outputs": [
    {
     "data": {
      "text/plain": [
       "{3}"
      ]
     },
     "execution_count": 59,
     "metadata": {},
     "output_type": "execute_result"
    }
   ],
   "source": [
    "graph[4]"
   ]
  },
  {
   "cell_type": "code",
   "execution_count": null,
   "id": "b95980e2-bbcd-452b-b63c-a430b50ed498",
   "metadata": {},
   "outputs": [],
   "source": []
  }
 ],
 "metadata": {
  "kernelspec": {
   "display_name": "Python 3 (ipykernel)",
   "language": "python",
   "name": "python3"
  },
  "language_info": {
   "codemirror_mode": {
    "name": "ipython",
    "version": 3
   },
   "file_extension": ".py",
   "mimetype": "text/x-python",
   "name": "python",
   "nbconvert_exporter": "python",
   "pygments_lexer": "ipython3",
   "version": "3.11.6"
  }
 },
 "nbformat": 4,
 "nbformat_minor": 5
}
