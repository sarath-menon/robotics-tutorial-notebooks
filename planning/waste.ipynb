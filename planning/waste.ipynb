{
 "cells": [
  {
   "cell_type": "code",
   "execution_count": 68,
   "id": "d698a0be-fa40-4271-bca2-5e091bbbf2de",
   "metadata": {},
   "outputs": [],
   "source": [
    "graph = {1: {2, 3}, 2: {3, 4}, 3: {4}, 4: {3}, 5: {6}, 6: {3}}\n",
    "start =  5\n",
    "goal =  6"
   ]
  },
  {
   "cell_type": "markdown",
   "id": "04e621f7-0c68-4778-8a67-628ec6845d7d",
   "metadata": {},
   "source": [
    "## Initialization "
   ]
  },
  {
   "cell_type": "code",
   "execution_count": 73,
   "id": "5c8e6b4c-613e-48e1-ae36-44e81c97dcb7",
   "metadata": {},
   "outputs": [],
   "source": [
    "def dfs():\n",
    "    # initialize search queue, visited set\n",
    "    Q = [start] \n",
    "    V = [start] \n",
    "\n",
    "    # initializa path\n",
    "    path = []\n",
    "    \n",
    "    # set parent\n",
    "    parent_dict = {start:None}\n",
    "    \n",
    "    while len(Q) != 0:\n",
    "        # take first element 's' from the queue\n",
    "        s = Q.pop(0)\n",
    "    \n",
    "        print(\"Popped\" , s)\n",
    "        print(\"Queue: \", Q)\n",
    "        \n",
    "        # check if first element in queue is the goal state\n",
    "        if s == goal:\n",
    "            path.append(goal)\n",
    "            print(\"Found path\")\n",
    "            return parent_dict\n",
    "    \n",
    "        for s_bar in graph[s]:\n",
    "            if s_bar not in V:\n",
    "                Q.append(s_bar)\n",
    "                V.append(s_bar)\n",
    "    \n",
    "                # set parent\n",
    "                parent_dict[s] = s_bar\n",
    "    \n",
    "    # if execution reached here, algorithm couldn't find path\n",
    "    return \"Failure\""
   ]
  },
  {
   "cell_type": "code",
   "execution_count": 75,
   "id": "20245954-eff1-4c84-a9a0-a0ea508459f5",
   "metadata": {},
   "outputs": [
    {
     "name": "stdout",
     "output_type": "stream",
     "text": [
      "Popped 5\n",
      "Queue:  []\n",
      "Popped 6\n",
      "Queue:  []\n",
      "Found path\n"
     ]
    },
    {
     "data": {
      "text/plain": [
       "{5: 6}"
      ]
     },
     "execution_count": 75,
     "metadata": {},
     "output_type": "execute_result"
    }
   ],
   "source": [
    "parent_dict = dfs()\n",
    "parent_dict\n"
   ]
  },
  {
   "cell_type": "code",
   "execution_count": 77,
   "id": "8d14f3c4-9069-47cd-8eb9-c5827d15feca",
   "metadata": {},
   "outputs": [],
   "source": [
    "parent_dict = {9:8, 8:7, 7:6, 6:5}\n",
    "goal = 9\n",
    "start = 5"
   ]
  },
  {
   "cell_type": "code",
   "execution_count": 88,
   "id": "b95980e2-bbcd-452b-b63c-a430b50ed498",
   "metadata": {},
   "outputs": [],
   "source": [
    "i = goal\n",
    "path = []\n",
    "\n",
    "path.append(goal)\n",
    "\n",
    "while i != start:\n",
    "    i = parent_dict[i]\n",
    "    path.append(i)"
   ]
  },
  {
   "cell_type": "code",
   "execution_count": 89,
   "id": "2295113b-5363-4dcc-a55b-d95171262bfb",
   "metadata": {},
   "outputs": [
    {
     "data": {
      "text/plain": [
       "[9, 8, 7, 6, 5]"
      ]
     },
     "execution_count": 89,
     "metadata": {},
     "output_type": "execute_result"
    }
   ],
   "source": [
    "path"
   ]
  },
  {
   "cell_type": "code",
   "execution_count": null,
   "id": "9f1bdb76-4bd3-41e8-b5d8-e97d8c22858f",
   "metadata": {},
   "outputs": [],
   "source": []
  }
 ],
 "metadata": {
  "kernelspec": {
   "display_name": "Python 3 (ipykernel)",
   "language": "python",
   "name": "python3"
  },
  "language_info": {
   "codemirror_mode": {
    "name": "ipython",
    "version": 3
   },
   "file_extension": ".py",
   "mimetype": "text/x-python",
   "name": "python",
   "nbconvert_exporter": "python",
   "pygments_lexer": "ipython3",
   "version": "3.11.6"
  }
 },
 "nbformat": 4,
 "nbformat_minor": 5
}
